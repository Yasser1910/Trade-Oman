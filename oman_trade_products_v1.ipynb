{
 "cells": [
  {
   "cell_type": "markdown",
   "id": "6f8b0e65",
   "metadata": {},
   "source": [
    "# Placeholder base (will be extended)"
   ]
  },
  {
   "cell_type": "code",
   "execution_count": null,
   "id": "2d506dcb",
   "metadata": {},
   "outputs": [],
   "source": [
    "print('Please open the v2 file; this is a placeholder if the base is missing.')"
   ]
  },
  {
   "cell_type": "markdown",
   "id": "5b72fd3b",
   "metadata": {},
   "source": [
    "## 18) Contribution to **Total Exports** Growth (Oil / Non‑Oil / Re‑Export)"
   ]
  },
  {
   "cell_type": "code",
   "execution_count": null,
   "id": "492f100b",
   "metadata": {},
   "outputs": [],
   "source": [
    "\n",
    "exports_plus_re = df[df[\"trade_type\"].isin([\"Export\",\"Re-Export\"])].copy()\n",
    "\n",
    "oil_exp = (df[(df[\"trade_type\"]==\"Export\") & (df[\"oil_flag\"]==\"Oil (HS 27)\")]\n",
    "           .groupby(\"year\", as_index=False)[\"value_omr\"].sum()\n",
    "           .rename(columns={\"value_omr\":\"oil_export\"}))\n",
    "\n",
    "non_oil_exp = (df[(df[\"trade_type\"]==\"Export\") & (df[\"oil_flag\"]==\"Non‑Oil\")]\n",
    "               .groupby(\"year\", as_index=False)[\"value_omr\"].sum()\n",
    "               .rename(columns={\"value_omr\":\"non_oil_export\"}))\n",
    "\n",
    "reexp = (df[df[\"trade_type\"]==\"Re-Export\"]\n",
    "         .groupby(\"year\", as_index=False)[\"value_omr\"].sum()\n",
    "         .rename(columns={\"value_omr\":\"reexport\"}))\n",
    "\n",
    "totals = (exports_plus_re.groupby(\"year\", as_index=False)[\"value_omr\"].sum()\n",
    "          .rename(columns={\"value_omr\":\"total_exports\"}))\n",
    "\n",
    "comp = (totals.merge(oil_exp, on=\"year\", how=\"left\")\n",
    "               .merge(non_oil_exp, on=\"year\", how=\"left\")\n",
    "               .merge(reexp, on=\"year\", how=\"left\")).fillna(0.0).sort_values(\"year\")\n",
    "\n",
    "comp[\"total_prev\"] = comp[\"total_exports\"].shift(1)\n",
    "for col in [\"oil_export\",\"non_oil_export\",\"reexport\",\"total_exports\"]:\n",
    "    comp[f\"delta_{col}\"] = comp[col].diff()\n",
    "\n",
    "comp[\"contrib_pp_oil\"]      = np.where(comp[\"total_prev\"]>0, comp[\"delta_oil_export\"]     / comp[\"total_prev\"] * 100, np.nan)\n",
    "comp[\"contrib_pp_non_oil\"]  = np.where(comp[\"total_prev\"]>0, comp[\"delta_non_oil_export\"] / comp[\"total_prev\"] * 100, np.nan)\n",
    "comp[\"contrib_pp_reexport\"] = np.where(comp[\"total_prev\"]>0, comp[\"delta_reexport\"]       / comp[\"total_prev\"] * 100, np.nan)\n",
    "comp[\"yoy_total_%\"]         = np.where(comp[\"total_prev\"]>0, comp[\"delta_total_exports\"]  / comp[\"total_prev\"] * 100, np.nan)\n",
    "\n",
    "comp[[\"year\",\"total_exports\",\"yoy_total_%\",\"contrib_pp_oil\",\"contrib_pp_non_oil\",\"contrib_pp_reexport\"]].head(10)\n"
   ]
  },
  {
   "cell_type": "code",
   "execution_count": null,
   "id": "18bd3f1e",
   "metadata": {},
   "outputs": [],
   "source": [
    "\n",
    "import plotly.graph_objects as go\n",
    "fig18 = go.Figure()\n",
    "fig18.add_bar(x=comp[\"year\"], y=comp[\"contrib_pp_non_oil\"], name=\"Non‑Oil (pp)\")\n",
    "fig18.add_bar(x=comp[\"year\"], y=comp[\"contrib_pp_oil\"], name=\"Oil (pp)\")\n",
    "fig18.add_bar(x=comp[\"year\"], y=comp[\"contrib_pp_reexport\"], name=\"Re‑Export (pp)\")\n",
    "fig18.update_layout(barmode=\"relative\", title=\"Contribution to Total Exports YoY Growth (pp) — Imports Excluded from Total\",\n",
    "                    xaxis_title=\"Year\", yaxis_title=\"Percentage points\", template=\"plotly_white\")\n",
    "fig18.show()\n"
   ]
  },
  {
   "cell_type": "markdown",
   "id": "401b883b",
   "metadata": {},
   "source": [
    "## 19) Contribution to **Non‑Oil Exports** Growth by BEC"
   ]
  },
  {
   "cell_type": "code",
   "execution_count": null,
   "id": "cd849d9c",
   "metadata": {},
   "outputs": [],
   "source": [
    "\n",
    "no_bec = (df[(df[\"trade_type\"]==\"Export\") & (df[\"oil_flag\"]==\"Non‑Oil\")]\n",
    "          .groupby([\"year\",\"bec_broad\"], as_index=False)[\"value_omr\"].sum())\n",
    "\n",
    "no_total = (df[(df[\"trade_type\"]==\"Export\") & (df[\"oil_flag\"]==\"Non‑Oil\")]\n",
    "            .groupby(\"year\", as_index=False)[\"value_omr\"].sum()\n",
    "            .rename(columns={\"value_omr\":\"non_oil_total\"}))\n",
    "\n",
    "wide = no_bec.pivot(index=\"year\", columns=\"bec_broad\", values=\"value_omr\").fillna(0.0).sort_index()\n",
    "wide = wide.merge(no_total.set_index(\"year\"), left_index=True, right_index=True, how=\"left\")\n",
    "\n",
    "wide[\"total_prev\"] = wide[\"non_oil_total\"].shift(1)\n",
    "deltas = wide.drop(columns=[\"non_oil_total\",\"total_prev\"]).diff()\n",
    "contrib_pp = deltas.div(wide[\"total_prev\"], axis=0) * 100\n",
    "contrib_pp = contrib_pp.reset_index().melt(id_vars=\"year\", var_name=\"BEC\", value_name=\"contrib_pp\")\n",
    "\n",
    "contrib_pp.head(10)\n"
   ]
  },
  {
   "cell_type": "code",
   "execution_count": null,
   "id": "9844a691",
   "metadata": {},
   "outputs": [],
   "source": [
    "\n",
    "import plotly.express as px\n",
    "fig19 = px.bar(contrib_pp, x=\"year\", y=\"contrib_pp\", color=\"BEC\",\n",
    "               title=\"Contribution to Non‑Oil Exports YoY Growth by BEC (pp)\",\n",
    "               labels={\"contrib_pp\":\"Percentage points\"})\n",
    "fig19.update_layout(barmode=\"relative\", template=\"plotly_white\")\n",
    "fig19.show()\n"
   ]
  },
  {
   "cell_type": "code",
   "execution_count": null,
   "id": "0d1dacbc",
   "metadata": {},
   "outputs": [],
   "source": [
    "\n",
    "last_years = contrib_pp[\"year\"].dropna().unique()\n",
    "last_years = np.sort(last_years)[-5:] if len(last_years)>5 else np.sort(last_years)\n",
    "\n",
    "tbl = []\n",
    "for y in last_years:\n",
    "    sub = contrib_pp[contrib_pp[\"year\"]==y].dropna(subset=[\"contrib_pp\"])\n",
    "    if len(sub)==0: \n",
    "        continue\n",
    "    top_pos = sub.nlargest(3, \"contrib_pp\")\n",
    "    top_neg = sub.nsmallest(3, \"contrib_pp\")\n",
    "    for rank, row in enumerate(top_pos.itertuples(index=False), 1):\n",
    "        tbl.append({\"year\": int(y), \"type\":\"Top +\", \"rank\": rank, \"BEC\": row.BEC, \"pp\": row.contrib_pp})\n",
    "    for rank, row in enumerate(top_neg.itertuples(index=False), 1):\n",
    "        tbl.append({\"year\": int(y), \"type\":\"Top -\", \"rank\": rank, \"BEC\": row.BEC, \"pp\": row.contrib_pp})\n",
    "\n",
    "import pandas as pd\n",
    "tbl_df = pd.DataFrame(tbl)\n",
    "tbl_df\n"
   ]
  },
  {
   "cell_type": "markdown",
   "id": "c994604c",
   "metadata": {},
   "source": [
    "## 20) Top **Non‑Oil** Products (value & growth)"
   ]
  },
  {
   "cell_type": "code",
   "execution_count": null,
   "id": "2ab9c106",
   "metadata": {},
   "outputs": [],
   "source": [
    "\n",
    "latest_year = int(df[\"year\"].dropna().max())\n",
    "prev_year = latest_year - 1\n",
    "print(\"Latest year:\", latest_year, \"| Previous:\", prev_year)\n",
    "\n",
    "non_oil_export = df[(df[\"trade_type\"]==\"Export\") & (df[\"oil_flag\"]==\"Non‑Oil\")].copy()\n",
    "\n",
    "cur = (non_oil_export[non_oil_export[\"year\"]==latest_year]\n",
    "       .groupby([\"hs_code\",\"hs_name\"], as_index=False)[\"value_omr\"].sum()\n",
    "       .rename(columns={\"value_omr\":\"value_curr\"}))\n",
    "\n",
    "prev = (non_oil_export[non_oil_export[\"year\"]==prev_year]\n",
    "        .groupby([\"hs_code\",\"hs_name\"], as_index=False)[\"value_omr\"].sum()\n",
    "        .rename(columns={\"value_omr\":\"value_prev\"}))\n",
    "\n",
    "prod = cur.merge(prev, on=[\"hs_code\",\"hs_name\"], how=\"left\").fillna({\"value_prev\":0.0})\n",
    "prod[\"abs_delta\"] = prod[\"value_curr\"] - prod[\"value_prev\"]\n",
    "prod[\"yoy_pct\"] = np.where(prod[\"value_prev\"]>0, (prod[\"abs_delta\"]/prod[\"value_prev\"])*100, np.nan)\n",
    "\n",
    "top_val = prod.sort_values(\"value_curr\", ascending=False).head(10)\n",
    "top_grow = prod.sort_values(\"abs_delta\", ascending=False).head(10)\n",
    "\n",
    "print(\"Top 10 by value:\")\n",
    "top_val[[\"hs_code\",\"hs_name\",\"value_curr\",\"value_prev\",\"abs_delta\",\"yoy_pct\"]]\n"
   ]
  },
  {
   "cell_type": "code",
   "execution_count": null,
   "id": "aa1cf241",
   "metadata": {},
   "outputs": [],
   "source": [
    "\n",
    "print(\"Top 10 by growth (absolute):\")\n",
    "top_grow[[\"hs_code\",\"hs_name\",\"value_curr\",\"value_prev\",\"abs_delta\",\"yoy_pct\"]]\n"
   ]
  },
  {
   "cell_type": "code",
   "execution_count": null,
   "id": "5fab8f86",
   "metadata": {},
   "outputs": [],
   "source": [
    "\n",
    "import plotly.express as px\n",
    "fig20 = px.bar(top_val.sort_values(\"value_curr\"), \n",
    "               x=\"value_curr\", y=\"hs_name\", orientation=\"h\",\n",
    "               title=f\"Top 10 Non‑Oil Products by Value — {latest_year}\",\n",
    "               labels={\"value_curr\":\"OMR\",\"hs_name\":\"\"})\n",
    "fig20.update_layout(template=\"plotly_white\")\n",
    "fig20.show()\n"
   ]
  },
  {
   "cell_type": "markdown",
   "id": "a0f6c8c3",
   "metadata": {},
   "source": [
    "## 21) HS Sections — Growth & Share over Time"
   ]
  },
  {
   "cell_type": "code",
   "execution_count": null,
   "id": "73497dd0",
   "metadata": {},
   "outputs": [],
   "source": [
    "\n",
    "sec = (df[(df[\"trade_type\"]==\"Export\")]\n",
    "       .groupby([\"year\",\"section_name_clean\",\"oil_flag\"], as_index=False)[\"value_omr\"].sum())\n",
    "\n",
    "sec_no = sec[sec[\"oil_flag\"]==\"Non‑Oil\"].drop(columns=[\"oil_flag\"])\n",
    "wide_sec = sec_no.pivot(index=\"year\", columns=\"section_name_clean\", values=\"value_omr\").fillna(0.0).sort_index()\n",
    "\n",
    "growth_sec = wide_sec.pct_change()*100\n",
    "growth_sec = growth_sec.replace([np.inf,-np.inf], np.nan)\n",
    "\n",
    "year_tot_no = wide_sec.sum(axis=1).replace(0, np.nan)\n",
    "share_sec = wide_sec.div(year_tot_no, axis=0)*100\n",
    "\n",
    "print(\"Non‑Oil section totals (wide):\")\n",
    "wide_sec.tail(3)\n"
   ]
  },
  {
   "cell_type": "code",
   "execution_count": null,
   "id": "ea8962f0",
   "metadata": {},
   "outputs": [],
   "source": [
    "\n",
    "print(\"YoY growth (%):\")\n",
    "growth_sec.tail(3)\n"
   ]
  },
  {
   "cell_type": "code",
   "execution_count": null,
   "id": "d937e6fa",
   "metadata": {},
   "outputs": [],
   "source": [
    "\n",
    "print(\"Share of non‑oil (%):\")\n",
    "share_sec.tail(3)\n"
   ]
  },
  {
   "cell_type": "code",
   "execution_count": null,
   "id": "654b069a",
   "metadata": {},
   "outputs": [],
   "source": [
    "\n",
    "import plotly.express as px\n",
    "fig21 = px.imshow(growth_sec.T, aspect='auto', color_continuous_scale='RdBu', origin='lower',\n",
    "                  title='YoY Growth (%) — Non‑Oil Exports by HS Section',\n",
    "                  labels=dict(x=\"Year\", y=\"HS Section\", color=\"% YoY\"))\n",
    "fig21.update_layout(template=\"plotly_white\")\n",
    "fig21.show()\n"
   ]
  },
  {
   "cell_type": "markdown",
   "id": "0fdeff25",
   "metadata": {},
   "source": [
    "## 22) Contribution to **Non‑Oil** Growth by HS Section (pp)"
   ]
  },
  {
   "cell_type": "code",
   "execution_count": null,
   "id": "a16b7db9",
   "metadata": {},
   "outputs": [],
   "source": [
    "\n",
    "no_sec = (df[(df[\"trade_type\"]==\"Export\") & (df[\"oil_flag\"]==\"Non‑Oil\")]\n",
    "          .groupby([\"year\",\"section_name_clean\"], as_index=False)[\"value_omr\"].sum())\n",
    "\n",
    "no_tot = (df[(df[\"trade_type\"]==\"Export\") & (df[\"oil_flag\"]==\"Non‑Oil\")]\n",
    "          .groupby(\"year\", as_index=False)[\"value_omr\"].sum().rename(columns={\"value_omr\":\"non_oil_total\"}))\n",
    "\n",
    "pivot_sec = no_sec.pivot(index=\"year\", columns=\"section_name_clean\", values=\"value_omr\").fillna(0.0).sort_index()\n",
    "pivot_sec = pivot_sec.merge(no_tot.set_index(\"year\"), left_index=True, right_index=True, how=\"left\")\n",
    "\n",
    "pivot_sec[\"total_prev\"] = pivot_sec[\"non_oil_total\"].shift(1)\n",
    "deltas = pivot_sec.drop(columns=[\"non_oil_total\",\"total_prev\"]).diff()\n",
    "contrib_pp_sec = deltas.div(pivot_sec[\"total_prev\"], axis=0) * 100\n",
    "\n",
    "contrib_long = contrib_pp_sec.reset_index().melt(id_vars=\"year\", var_name=\"HS Section\", value_name=\"pp\")\n",
    "contrib_long.head(10)\n"
   ]
  },
  {
   "cell_type": "code",
   "execution_count": null,
   "id": "46d7c61a",
   "metadata": {},
   "outputs": [],
   "source": [
    "\n",
    "import plotly.express as px\n",
    "fig22 = px.bar(contrib_long, x=\"year\", y=\"pp\", color=\"HS Section\",\n",
    "               title=\"Contribution to Non‑Oil Exports YoY Growth by HS Section (pp)\",\n",
    "               labels={\"pp\":\"Percentage points\"})\n",
    "fig22.update_layout(barmode=\"relative\", template=\"plotly_white\")\n",
    "fig22.show()\n"
   ]
  }
 ],
 "metadata": {},
 "nbformat": 4,
 "nbformat_minor": 5
}
