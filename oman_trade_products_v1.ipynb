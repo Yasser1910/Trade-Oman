{
 "cells": [
  {
   "cell_type": "markdown",
   "id": "03e49005",
   "metadata": {},
   "source": [
    "\n",
    "# 🇴🇲 Oman Trade Products — Plotly (Step‑by‑Step, Imports Excluded)\n",
    "\n",
    "This notebook is split into small, independent steps so you can run or re‑run parts separately.\n",
    "**Totals exclude Imports** (Total Exports = Export + Re‑Export). Non‑Oil & Oil use **Export only**.\n"
   ]
  },
  {
   "cell_type": "markdown",
   "id": "7235bd0f",
   "metadata": {},
   "source": [
    "## 1) Environment & Renderer"
   ]
  },
  {
   "cell_type": "code",
   "execution_count": 75,
   "id": "ee47f500",
   "metadata": {},
   "outputs": [
    {
     "name": "stdout",
     "output_type": "stream",
     "text": [
      "✅ Plotly renderer: vscode\n"
     ]
    }
   ],
   "source": [
    "\n",
    "import plotly.io as pio\n",
    "\n",
    "try:\n",
    "    import nbformat, IPython, ipywidgets\n",
    "    from packaging.version import Version\n",
    "    assert Version(nbformat.__version__) >= Version(\"4.2.0\")\n",
    "    pio.renderers.default = \"vscode\"  # Inline in VS Code\n",
    "    print(\"✅ Plotly renderer:\", pio.renderers.default)\n",
    "except Exception as e:\n",
    "    print(f\"⚠️ Inline renderer unavailable ({e}) — using browser fallback.\")\n",
    "    pio.renderers.default = \"browser\"\n"
   ]
  },
  {
   "cell_type": "markdown",
   "id": "b90a9bb1",
   "metadata": {},
   "source": [
    "## 2) Imports"
   ]
  },
  {
   "cell_type": "code",
   "execution_count": 76,
   "id": "d46814d4",
   "metadata": {},
   "outputs": [],
   "source": [
    "\n",
    "import pandas as pd\n",
    "import numpy as np\n",
    "import plotly.express as px\n",
    "import plotly.graph_objects as go\n",
    "from pathlib import Path\n",
    "\n",
    "pd.set_option(\"display.float_format\", lambda x: f\"{x:,.0f}\")\n"
   ]
  },
  {
   "cell_type": "markdown",
   "id": "398646b0",
   "metadata": {},
   "source": [
    "## 3) Paths"
   ]
  },
  {
   "cell_type": "code",
   "execution_count": 77,
   "id": "fdf0e177",
   "metadata": {},
   "outputs": [
    {
     "name": "stdout",
     "output_type": "stream",
     "text": [
      "Data path: /Users/Yasser/Downloads/oman_trade_products.csv\n"
     ]
    }
   ],
   "source": [
    "\n",
    "CSV_PATH = Path(\"/Users/Yasser/Downloads/oman_trade_products.csv\")\n",
    "print(\"Data path:\", CSV_PATH)\n"
   ]
  },
  {
   "cell_type": "markdown",
   "id": "91ca7f5f",
   "metadata": {},
   "source": [
    "## 4) Load Data"
   ]
  },
  {
   "cell_type": "code",
   "execution_count": 78,
   "id": "f376ddef",
   "metadata": {},
   "outputs": [
    {
     "name": "stdout",
     "output_type": "stream",
     "text": [
      "Rows: 249883\n"
     ]
    },
    {
     "data": {
      "text/html": [
       "<div>\n",
       "<style scoped>\n",
       "    .dataframe tbody tr th:only-of-type {\n",
       "        vertical-align: middle;\n",
       "    }\n",
       "\n",
       "    .dataframe tbody tr th {\n",
       "        vertical-align: top;\n",
       "    }\n",
       "\n",
       "    .dataframe thead th {\n",
       "        text-align: right;\n",
       "    }\n",
       "</style>\n",
       "<table border=\"1\" class=\"dataframe\">\n",
       "  <thead>\n",
       "    <tr style=\"text-align: right;\">\n",
       "      <th></th>\n",
       "      <th>year</th>\n",
       "      <th>trade_type</th>\n",
       "      <th>hs_code</th>\n",
       "      <th>hs_name</th>\n",
       "      <th>value_omr</th>\n",
       "      <th>date</th>\n",
       "      <th>hs_code_full</th>\n",
       "      <th>hs_full_int</th>\n",
       "      <th>section_code_2</th>\n",
       "      <th>section_name</th>\n",
       "      <th>section_name_clean</th>\n",
       "      <th>bec_broad</th>\n",
       "    </tr>\n",
       "  </thead>\n",
       "  <tbody>\n",
       "    <tr>\n",
       "      <th>0</th>\n",
       "      <td>1998</td>\n",
       "      <td>Export</td>\n",
       "      <td>1,012,110</td>\n",
       "      <td>Purebred Horses Of Arab breed</td>\n",
       "      <td>20,300</td>\n",
       "      <td>1998</td>\n",
       "      <td>10121100</td>\n",
       "      <td>10121100</td>\n",
       "      <td>2</td>\n",
       "      <td>VEGETABLE PRODUCTS</td>\n",
       "      <td>Vegetable products</td>\n",
       "      <td>Food &amp; Beverages</td>\n",
       "    </tr>\n",
       "    <tr>\n",
       "      <th>1</th>\n",
       "      <td>1998</td>\n",
       "      <td>Export</td>\n",
       "      <td>1,019,000</td>\n",
       "      <td>Live Mules And Hinnies</td>\n",
       "      <td>7</td>\n",
       "      <td>1998</td>\n",
       "      <td>10190000</td>\n",
       "      <td>10190000</td>\n",
       "      <td>2</td>\n",
       "      <td>VEGETABLE PRODUCTS</td>\n",
       "      <td>Vegetable products</td>\n",
       "      <td>Food &amp; Beverages</td>\n",
       "    </tr>\n",
       "    <tr>\n",
       "      <th>2</th>\n",
       "      <td>1998</td>\n",
       "      <td>Export</td>\n",
       "      <td>1,022,100</td>\n",
       "      <td>PureBred Cattle For Breeding</td>\n",
       "      <td>19,350</td>\n",
       "      <td>1998</td>\n",
       "      <td>10221000</td>\n",
       "      <td>10221000</td>\n",
       "      <td>2</td>\n",
       "      <td>VEGETABLE PRODUCTS</td>\n",
       "      <td>Vegetable products</td>\n",
       "      <td>Food &amp; Beverages</td>\n",
       "    </tr>\n",
       "    <tr>\n",
       "      <th>3</th>\n",
       "      <td>1998</td>\n",
       "      <td>Export</td>\n",
       "      <td>1,029,000</td>\n",
       "      <td>Live Bovine Animals Excl Cattle And Buffalo</td>\n",
       "      <td>16,970</td>\n",
       "      <td>1998</td>\n",
       "      <td>10290000</td>\n",
       "      <td>10290000</td>\n",
       "      <td>2</td>\n",
       "      <td>VEGETABLE PRODUCTS</td>\n",
       "      <td>Vegetable products</td>\n",
       "      <td>Food &amp; Beverages</td>\n",
       "    </tr>\n",
       "    <tr>\n",
       "      <th>4</th>\n",
       "      <td>1998</td>\n",
       "      <td>Export</td>\n",
       "      <td>1,042,010</td>\n",
       "      <td>Live PureBred Breeding Goats</td>\n",
       "      <td>1,220,112</td>\n",
       "      <td>1998</td>\n",
       "      <td>10420100</td>\n",
       "      <td>10420100</td>\n",
       "      <td>2</td>\n",
       "      <td>VEGETABLE PRODUCTS</td>\n",
       "      <td>Vegetable products</td>\n",
       "      <td>Food &amp; Beverages</td>\n",
       "    </tr>\n",
       "    <tr>\n",
       "      <th>5</th>\n",
       "      <td>1998</td>\n",
       "      <td>Export</td>\n",
       "      <td>1,051,100</td>\n",
       "      <td>Live Fowls Of The Species Gallus Domesticus We...</td>\n",
       "      <td>277,280</td>\n",
       "      <td>1998</td>\n",
       "      <td>10511000</td>\n",
       "      <td>10511000</td>\n",
       "      <td>2</td>\n",
       "      <td>VEGETABLE PRODUCTS</td>\n",
       "      <td>Vegetable products</td>\n",
       "      <td>Food &amp; Beverages</td>\n",
       "    </tr>\n",
       "    <tr>\n",
       "      <th>6</th>\n",
       "      <td>1998</td>\n",
       "      <td>Export</td>\n",
       "      <td>1,059,990</td>\n",
       "      <td>Live Ducks Geese Excluding Tame Weighing More ...</td>\n",
       "      <td>45,919</td>\n",
       "      <td>1998</td>\n",
       "      <td>10599900</td>\n",
       "      <td>10599900</td>\n",
       "      <td>2</td>\n",
       "      <td>VEGETABLE PRODUCTS</td>\n",
       "      <td>Vegetable products</td>\n",
       "      <td>Food &amp; Beverages</td>\n",
       "    </tr>\n",
       "    <tr>\n",
       "      <th>7</th>\n",
       "      <td>1998</td>\n",
       "      <td>Export</td>\n",
       "      <td>1,061,100</td>\n",
       "      <td>Live Primates</td>\n",
       "      <td>4,642,045</td>\n",
       "      <td>1998</td>\n",
       "      <td>10611000</td>\n",
       "      <td>10611000</td>\n",
       "      <td>2</td>\n",
       "      <td>VEGETABLE PRODUCTS</td>\n",
       "      <td>Vegetable products</td>\n",
       "      <td>Food &amp; Beverages</td>\n",
       "    </tr>\n",
       "    <tr>\n",
       "      <th>8</th>\n",
       "      <td>1998</td>\n",
       "      <td>Export</td>\n",
       "      <td>2,023,090</td>\n",
       "      <td>Meat Of Bovine Animals Excluding Minced Meat B...</td>\n",
       "      <td>433,296</td>\n",
       "      <td>1998</td>\n",
       "      <td>20230900</td>\n",
       "      <td>20230900</td>\n",
       "      <td>4</td>\n",
       "      <td>PREPARED FOODSTUFFS</td>\n",
       "      <td>Prepared foods; beverages; tobacco</td>\n",
       "      <td>Consumer Goods</td>\n",
       "    </tr>\n",
       "    <tr>\n",
       "      <th>9</th>\n",
       "      <td>1998</td>\n",
       "      <td>Export</td>\n",
       "      <td>2,045,011</td>\n",
       "      <td>Carcasses HalfCarcasses Of Goats Meat Fresh Or...</td>\n",
       "      <td>2,450</td>\n",
       "      <td>1998</td>\n",
       "      <td>20450110</td>\n",
       "      <td>20450110</td>\n",
       "      <td>4</td>\n",
       "      <td>PREPARED FOODSTUFFS</td>\n",
       "      <td>Prepared foods; beverages; tobacco</td>\n",
       "      <td>Consumer Goods</td>\n",
       "    </tr>\n",
       "  </tbody>\n",
       "</table>\n",
       "</div>"
      ],
      "text/plain": [
       "   year trade_type   hs_code  \\\n",
       "0  1998     Export 1,012,110   \n",
       "1  1998     Export 1,019,000   \n",
       "2  1998     Export 1,022,100   \n",
       "3  1998     Export 1,029,000   \n",
       "4  1998     Export 1,042,010   \n",
       "5  1998     Export 1,051,100   \n",
       "6  1998     Export 1,059,990   \n",
       "7  1998     Export 1,061,100   \n",
       "8  1998     Export 2,023,090   \n",
       "9  1998     Export 2,045,011   \n",
       "\n",
       "                                             hs_name  value_omr  date  \\\n",
       "0                      Purebred Horses Of Arab breed     20,300  1998   \n",
       "1                             Live Mules And Hinnies          7  1998   \n",
       "2                       PureBred Cattle For Breeding     19,350  1998   \n",
       "3        Live Bovine Animals Excl Cattle And Buffalo     16,970  1998   \n",
       "4                       Live PureBred Breeding Goats  1,220,112  1998   \n",
       "5  Live Fowls Of The Species Gallus Domesticus We...    277,280  1998   \n",
       "6  Live Ducks Geese Excluding Tame Weighing More ...     45,919  1998   \n",
       "7                                      Live Primates  4,642,045  1998   \n",
       "8  Meat Of Bovine Animals Excluding Minced Meat B...    433,296  1998   \n",
       "9  Carcasses HalfCarcasses Of Goats Meat Fresh Or...      2,450  1998   \n",
       "\n",
       "   hs_code_full  hs_full_int  section_code_2         section_name  \\\n",
       "0      10121100     10121100               2   VEGETABLE PRODUCTS   \n",
       "1      10190000     10190000               2   VEGETABLE PRODUCTS   \n",
       "2      10221000     10221000               2   VEGETABLE PRODUCTS   \n",
       "3      10290000     10290000               2   VEGETABLE PRODUCTS   \n",
       "4      10420100     10420100               2   VEGETABLE PRODUCTS   \n",
       "5      10511000     10511000               2   VEGETABLE PRODUCTS   \n",
       "6      10599900     10599900               2   VEGETABLE PRODUCTS   \n",
       "7      10611000     10611000               2   VEGETABLE PRODUCTS   \n",
       "8      20230900     20230900               4  PREPARED FOODSTUFFS   \n",
       "9      20450110     20450110               4  PREPARED FOODSTUFFS   \n",
       "\n",
       "                   section_name_clean         bec_broad  \n",
       "0                  Vegetable products  Food & Beverages  \n",
       "1                  Vegetable products  Food & Beverages  \n",
       "2                  Vegetable products  Food & Beverages  \n",
       "3                  Vegetable products  Food & Beverages  \n",
       "4                  Vegetable products  Food & Beverages  \n",
       "5                  Vegetable products  Food & Beverages  \n",
       "6                  Vegetable products  Food & Beverages  \n",
       "7                  Vegetable products  Food & Beverages  \n",
       "8  Prepared foods; beverages; tobacco    Consumer Goods  \n",
       "9  Prepared foods; beverages; tobacco    Consumer Goods  "
      ]
     },
     "execution_count": 78,
     "metadata": {},
     "output_type": "execute_result"
    }
   ],
   "source": [
    "\n",
    "df = pd.read_csv(CSV_PATH)\n",
    "print(\"Rows:\", len(df))\n",
    "df.head(10)\n"
   ]
  },
  {
   "cell_type": "markdown",
   "id": "f30723b9",
   "metadata": {},
   "source": [
    "## 5) Clean Columns & Types"
   ]
  },
  {
   "cell_type": "code",
   "execution_count": 79,
   "id": "de1cd5fb",
   "metadata": {},
   "outputs": [
    {
     "name": "stdout",
     "output_type": "stream",
     "text": [
      "✅ Cleaned. Columns: ['year', 'trade_type', 'hs_code', 'hs_name', 'value_omr', 'date', 'hs_code_full', 'hs_full_int', 'section_code_2', 'section_name', 'section_name_clean', 'bec_broad']\n"
     ]
    },
    {
     "data": {
      "text/html": [
       "<div>\n",
       "<style scoped>\n",
       "    .dataframe tbody tr th:only-of-type {\n",
       "        vertical-align: middle;\n",
       "    }\n",
       "\n",
       "    .dataframe tbody tr th {\n",
       "        vertical-align: top;\n",
       "    }\n",
       "\n",
       "    .dataframe thead th {\n",
       "        text-align: right;\n",
       "    }\n",
       "</style>\n",
       "<table border=\"1\" class=\"dataframe\">\n",
       "  <thead>\n",
       "    <tr style=\"text-align: right;\">\n",
       "      <th></th>\n",
       "      <th>year</th>\n",
       "      <th>trade_type</th>\n",
       "      <th>hs_code</th>\n",
       "      <th>hs_name</th>\n",
       "      <th>value_omr</th>\n",
       "      <th>date</th>\n",
       "      <th>hs_code_full</th>\n",
       "      <th>hs_full_int</th>\n",
       "      <th>section_code_2</th>\n",
       "      <th>section_name</th>\n",
       "      <th>section_name_clean</th>\n",
       "      <th>bec_broad</th>\n",
       "    </tr>\n",
       "  </thead>\n",
       "  <tbody>\n",
       "    <tr>\n",
       "      <th>28668</th>\n",
       "      <td>2003</td>\n",
       "      <td>Import</td>\n",
       "      <td>33030090.0</td>\n",
       "      <td>Perfumes Toilet Waters NES</td>\n",
       "      <td>2,640,930</td>\n",
       "      <td>2003</td>\n",
       "      <td>33030090</td>\n",
       "      <td>33030090</td>\n",
       "      <td>6</td>\n",
       "      <td>PRODUCTS OF THE CHEMICALS</td>\n",
       "      <td>Chemical products</td>\n",
       "      <td>Industrial Supplies</td>\n",
       "    </tr>\n",
       "    <tr>\n",
       "      <th>244160</th>\n",
       "      <td>2024</td>\n",
       "      <td>Import</td>\n",
       "      <td>84383000.0</td>\n",
       "      <td>Machinery For Sugar Manufacture Excl Centrifug...</td>\n",
       "      <td>3,211</td>\n",
       "      <td>2024</td>\n",
       "      <td>84383000</td>\n",
       "      <td>84383000</td>\n",
       "      <td>16</td>\n",
       "      <td>MACHINERY AND MECHANICAL APPLIANCES</td>\n",
       "      <td>Machinery, electrical equipment &amp; parts</td>\n",
       "      <td>Capital Goods</td>\n",
       "    </tr>\n",
       "    <tr>\n",
       "      <th>9335</th>\n",
       "      <td>2000</td>\n",
       "      <td>Import</td>\n",
       "      <td>42021220.0</td>\n",
       "      <td>BriefCases With Outer Surface Of Plastic Or Of...</td>\n",
       "      <td>48,251</td>\n",
       "      <td>2000</td>\n",
       "      <td>42021220</td>\n",
       "      <td>42021220</td>\n",
       "      <td>8</td>\n",
       "      <td>RAW HIDES AND SKINS, FURKINS AND</td>\n",
       "      <td>Hides, leather, furskins &amp; articles</td>\n",
       "      <td>Consumer Goods</td>\n",
       "    </tr>\n",
       "    <tr>\n",
       "      <th>141667</th>\n",
       "      <td>2016</td>\n",
       "      <td>Import</td>\n",
       "      <td>28309000.0</td>\n",
       "      <td>Sulphides Excl Sodium Polysulphides Whether Or...</td>\n",
       "      <td>7</td>\n",
       "      <td>2016</td>\n",
       "      <td>28309000</td>\n",
       "      <td>28309000</td>\n",
       "      <td>6</td>\n",
       "      <td>PRODUCTS OF THE CHEMICALS</td>\n",
       "      <td>Chemical products</td>\n",
       "      <td>Industrial Supplies</td>\n",
       "    </tr>\n",
       "    <tr>\n",
       "      <th>129628</th>\n",
       "      <td>2015</td>\n",
       "      <td>Import</td>\n",
       "      <td>3056900.0</td>\n",
       "      <td>Fish Salted Or In Brine Only Excl Fillets Offa...</td>\n",
       "      <td>10,278</td>\n",
       "      <td>2015</td>\n",
       "      <td>30569000</td>\n",
       "      <td>30569000</td>\n",
       "      <td>6</td>\n",
       "      <td>PRODUCTS OF THE CHEMICALS</td>\n",
       "      <td>Chemical products</td>\n",
       "      <td>Industrial Supplies</td>\n",
       "    </tr>\n",
       "  </tbody>\n",
       "</table>\n",
       "</div>"
      ],
      "text/plain": [
       "        year trade_type     hs_code  \\\n",
       "28668   2003     Import  33030090.0   \n",
       "244160  2024     Import  84383000.0   \n",
       "9335    2000     Import  42021220.0   \n",
       "141667  2016     Import  28309000.0   \n",
       "129628  2015     Import   3056900.0   \n",
       "\n",
       "                                                  hs_name  value_omr  date  \\\n",
       "28668                          Perfumes Toilet Waters NES  2,640,930  2003   \n",
       "244160  Machinery For Sugar Manufacture Excl Centrifug...      3,211  2024   \n",
       "9335    BriefCases With Outer Surface Of Plastic Or Of...     48,251  2000   \n",
       "141667  Sulphides Excl Sodium Polysulphides Whether Or...          7  2016   \n",
       "129628  Fish Salted Or In Brine Only Excl Fillets Offa...     10,278  2015   \n",
       "\n",
       "        hs_code_full  hs_full_int  section_code_2  \\\n",
       "28668       33030090     33030090               6   \n",
       "244160      84383000     84383000              16   \n",
       "9335        42021220     42021220               8   \n",
       "141667      28309000     28309000               6   \n",
       "129628      30569000     30569000               6   \n",
       "\n",
       "                               section_name  \\\n",
       "28668             PRODUCTS OF THE CHEMICALS   \n",
       "244160  MACHINERY AND MECHANICAL APPLIANCES   \n",
       "9335       RAW HIDES AND SKINS, FURKINS AND   \n",
       "141667            PRODUCTS OF THE CHEMICALS   \n",
       "129628            PRODUCTS OF THE CHEMICALS   \n",
       "\n",
       "                             section_name_clean            bec_broad  \n",
       "28668                         Chemical products  Industrial Supplies  \n",
       "244160  Machinery, electrical equipment & parts        Capital Goods  \n",
       "9335        Hides, leather, furskins & articles       Consumer Goods  \n",
       "141667                        Chemical products  Industrial Supplies  \n",
       "129628                        Chemical products  Industrial Supplies  "
      ]
     },
     "execution_count": 79,
     "metadata": {},
     "output_type": "execute_result"
    }
   ],
   "source": [
    "\n",
    "df.columns = [c.strip().lower().replace(\" \", \"_\") for c in df.columns]\n",
    "df[\"year\"] = pd.to_numeric(df[\"year\"], errors=\"coerce\").astype(\"Int64\")\n",
    "df[\"trade_type\"] = df[\"trade_type\"].astype(str).str.title()\n",
    "df[\"hs_code\"] = df[\"hs_code\"].astype(str).str.strip()\n",
    "df[\"value_omr\"] = pd.to_numeric(df[\"value_omr\"], errors=\"coerce\").fillna(0.0)\n",
    "print(\"✅ Cleaned. Columns:\", list(df.columns))\n",
    "df.sample(5)\n"
   ]
  },
  {
   "cell_type": "markdown",
   "id": "83cfa297",
   "metadata": {},
   "source": [
    "## 6) Oil vs Non‑Oil flag (HS 27 = Oil)"
   ]
  },
  {
   "cell_type": "code",
   "execution_count": 80,
   "id": "9350f253",
   "metadata": {},
   "outputs": [
    {
     "data": {
      "text/plain": [
       "oil_flag\n",
       "Non‑Oil        246939\n",
       "Oil (HS 27)      2944\n",
       "Name: count, dtype: int64"
      ]
     },
     "execution_count": 80,
     "metadata": {},
     "output_type": "execute_result"
    }
   ],
   "source": [
    "\n",
    "df[\"oil_flag\"] = np.where(df[\"hs_code\"].str.startswith(\"27\"), \"Oil (HS 27)\", \"Non‑Oil\")\n",
    "df[\"oil_flag\"].value_counts()\n"
   ]
  },
  {
   "cell_type": "markdown",
   "id": "34c0e12d",
   "metadata": {},
   "source": [
    "## 7) Totals (Exclude Imports)"
   ]
  },
  {
   "cell_type": "code",
   "execution_count": 81,
   "id": "19d87bc5",
   "metadata": {},
   "outputs": [
    {
     "data": {
      "text/html": [
       "<div>\n",
       "<style scoped>\n",
       "    .dataframe tbody tr th:only-of-type {\n",
       "        vertical-align: middle;\n",
       "    }\n",
       "\n",
       "    .dataframe tbody tr th {\n",
       "        vertical-align: top;\n",
       "    }\n",
       "\n",
       "    .dataframe thead th {\n",
       "        text-align: right;\n",
       "    }\n",
       "</style>\n",
       "<table border=\"1\" class=\"dataframe\">\n",
       "  <thead>\n",
       "    <tr style=\"text-align: right;\">\n",
       "      <th></th>\n",
       "      <th>year</th>\n",
       "      <th>Total_Exports_All</th>\n",
       "    </tr>\n",
       "  </thead>\n",
       "  <tbody>\n",
       "    <tr>\n",
       "      <th>0</th>\n",
       "      <td>1998</td>\n",
       "      <td>2,071,803,925</td>\n",
       "    </tr>\n",
       "    <tr>\n",
       "      <th>1</th>\n",
       "      <td>1999</td>\n",
       "      <td>2,727,083,011</td>\n",
       "    </tr>\n",
       "    <tr>\n",
       "      <th>2</th>\n",
       "      <td>2000</td>\n",
       "      <td>4,281,139,167</td>\n",
       "    </tr>\n",
       "    <tr>\n",
       "      <th>3</th>\n",
       "      <td>2001</td>\n",
       "      <td>4,229,515,282</td>\n",
       "    </tr>\n",
       "    <tr>\n",
       "      <th>4</th>\n",
       "      <td>2002</td>\n",
       "      <td>4,257,236,204</td>\n",
       "    </tr>\n",
       "  </tbody>\n",
       "</table>\n",
       "</div>"
      ],
      "text/plain": [
       "   year  Total_Exports_All\n",
       "0  1998      2,071,803,925\n",
       "1  1999      2,727,083,011\n",
       "2  2000      4,281,139,167\n",
       "3  2001      4,229,515,282\n",
       "4  2002      4,257,236,204"
      ]
     },
     "execution_count": 81,
     "metadata": {},
     "output_type": "execute_result"
    }
   ],
   "source": [
    "\n",
    "# Total Exports = Export + Re‑Export\n",
    "exports_plus_re = df[df[\"trade_type\"].isin([\"Export\",\"Re-Export\"])].copy()\n",
    "total = (exports_plus_re.groupby(\"year\", as_index=False)[\"value_omr\"]\n",
    "         .sum().rename(columns={\"value_omr\":\"Total_Exports_All\"}))\n",
    "total.head()\n"
   ]
  },
  {
   "cell_type": "markdown",
   "id": "6dc91160",
   "metadata": {},
   "source": [
    "## 8) Non‑Oil and Oil (Export only)"
   ]
  },
  {
   "cell_type": "code",
   "execution_count": 82,
   "id": "c15e8f64",
   "metadata": {},
   "outputs": [
    {
     "data": {
      "text/plain": [
       "(   year  NonOil_Exports\n",
       " 0  1998     186,394,040\n",
       " 1  1999     187,295,006\n",
       " 2  2000     233,000,980\n",
       " 3  2001     251,264,287\n",
       " 4  2002     253,496,451,\n",
       "    year   Oil_Exports\n",
       " 0  1998 1,392,154,980\n",
       " 1  1999 2,084,443,561\n",
       " 2  2000 3,549,505,207\n",
       " 3  2001 3,400,639,684\n",
       " 4  2002 3,277,036,168)"
      ]
     },
     "execution_count": 82,
     "metadata": {},
     "output_type": "execute_result"
    }
   ],
   "source": [
    "\n",
    "non_oil = (df[(df[\"trade_type\"]==\"Export\") & (df[\"oil_flag\"]==\"Non‑Oil\")]\n",
    "           .groupby(\"year\", as_index=False)[\"value_omr\"].sum()\n",
    "           .rename(columns={\"value_omr\":\"NonOil_Exports\"}))\n",
    "\n",
    "oil = (df[(df[\"trade_type\"]==\"Export\") & (df[\"oil_flag\"]==\"Oil (HS 27)\")]\n",
    "       .groupby(\"year\", as_index=False)[\"value_omr\"].sum()\n",
    "       .rename(columns={\"value_omr\":\"Oil_Exports\"}))\n",
    "\n",
    "non_oil.head(), oil.head()\n"
   ]
  },
  {
   "cell_type": "markdown",
   "id": "fb11b220",
   "metadata": {},
   "source": [
    "## 9) Merge Series & Compute Share/YoY"
   ]
  },
  {
   "cell_type": "code",
   "execution_count": 83,
   "id": "3361505a",
   "metadata": {},
   "outputs": [
    {
     "data": {
      "text/html": [
       "<div>\n",
       "<style scoped>\n",
       "    .dataframe tbody tr th:only-of-type {\n",
       "        vertical-align: middle;\n",
       "    }\n",
       "\n",
       "    .dataframe tbody tr th {\n",
       "        vertical-align: top;\n",
       "    }\n",
       "\n",
       "    .dataframe thead th {\n",
       "        text-align: right;\n",
       "    }\n",
       "</style>\n",
       "<table border=\"1\" class=\"dataframe\">\n",
       "  <thead>\n",
       "    <tr style=\"text-align: right;\">\n",
       "      <th></th>\n",
       "      <th>year</th>\n",
       "      <th>Total_Exports_All</th>\n",
       "      <th>NonOil_Exports</th>\n",
       "      <th>Oil_Exports</th>\n",
       "      <th>NonOil_Share_pct</th>\n",
       "      <th>YoY_Total_%</th>\n",
       "      <th>YoY_NonOil_%</th>\n",
       "      <th>YoY_Oil_%</th>\n",
       "    </tr>\n",
       "  </thead>\n",
       "  <tbody>\n",
       "    <tr>\n",
       "      <th>0</th>\n",
       "      <td>1998</td>\n",
       "      <td>2,071,803,925</td>\n",
       "      <td>186,394,040</td>\n",
       "      <td>1,392,154,980</td>\n",
       "      <td>9</td>\n",
       "      <td>NaN</td>\n",
       "      <td>NaN</td>\n",
       "      <td>NaN</td>\n",
       "    </tr>\n",
       "    <tr>\n",
       "      <th>1</th>\n",
       "      <td>1999</td>\n",
       "      <td>2,727,083,011</td>\n",
       "      <td>187,295,006</td>\n",
       "      <td>2,084,443,561</td>\n",
       "      <td>7</td>\n",
       "      <td>32</td>\n",
       "      <td>0</td>\n",
       "      <td>50</td>\n",
       "    </tr>\n",
       "    <tr>\n",
       "      <th>2</th>\n",
       "      <td>2000</td>\n",
       "      <td>4,281,139,167</td>\n",
       "      <td>233,000,980</td>\n",
       "      <td>3,549,505,207</td>\n",
       "      <td>5</td>\n",
       "      <td>57</td>\n",
       "      <td>24</td>\n",
       "      <td>70</td>\n",
       "    </tr>\n",
       "    <tr>\n",
       "      <th>3</th>\n",
       "      <td>2001</td>\n",
       "      <td>4,229,515,282</td>\n",
       "      <td>251,264,287</td>\n",
       "      <td>3,400,639,684</td>\n",
       "      <td>6</td>\n",
       "      <td>-1</td>\n",
       "      <td>8</td>\n",
       "      <td>-4</td>\n",
       "    </tr>\n",
       "    <tr>\n",
       "      <th>4</th>\n",
       "      <td>2002</td>\n",
       "      <td>4,257,236,204</td>\n",
       "      <td>253,496,451</td>\n",
       "      <td>3,277,036,168</td>\n",
       "      <td>6</td>\n",
       "      <td>1</td>\n",
       "      <td>1</td>\n",
       "      <td>-4</td>\n",
       "    </tr>\n",
       "    <tr>\n",
       "      <th>5</th>\n",
       "      <td>2003</td>\n",
       "      <td>4,425,279,368</td>\n",
       "      <td>298,931,539</td>\n",
       "      <td>3,525,578,278</td>\n",
       "      <td>7</td>\n",
       "      <td>4</td>\n",
       "      <td>18</td>\n",
       "      <td>8</td>\n",
       "    </tr>\n",
       "    <tr>\n",
       "      <th>6</th>\n",
       "      <td>2004</td>\n",
       "      <td>5,083,561,968</td>\n",
       "      <td>407,065,064</td>\n",
       "      <td>4,138,208,017</td>\n",
       "      <td>8</td>\n",
       "      <td>15</td>\n",
       "      <td>36</td>\n",
       "      <td>17</td>\n",
       "    </tr>\n",
       "    <tr>\n",
       "      <th>7</th>\n",
       "      <td>2005</td>\n",
       "      <td>7,114,460,435</td>\n",
       "      <td>539,218,830</td>\n",
       "      <td>5,991,334,390</td>\n",
       "      <td>8</td>\n",
       "      <td>40</td>\n",
       "      <td>32</td>\n",
       "      <td>45</td>\n",
       "    </tr>\n",
       "    <tr>\n",
       "      <th>8</th>\n",
       "      <td>2006</td>\n",
       "      <td>8,370,404,461</td>\n",
       "      <td>648,567,870</td>\n",
       "      <td>6,954,891,285</td>\n",
       "      <td>8</td>\n",
       "      <td>18</td>\n",
       "      <td>20</td>\n",
       "      <td>16</td>\n",
       "    </tr>\n",
       "    <tr>\n",
       "      <th>9</th>\n",
       "      <td>2007</td>\n",
       "      <td>9,157,238,607</td>\n",
       "      <td>912,965,640</td>\n",
       "      <td>7,240,778,668</td>\n",
       "      <td>10</td>\n",
       "      <td>9</td>\n",
       "      <td>41</td>\n",
       "      <td>4</td>\n",
       "    </tr>\n",
       "  </tbody>\n",
       "</table>\n",
       "</div>"
      ],
      "text/plain": [
       "   year  Total_Exports_All  NonOil_Exports   Oil_Exports  NonOil_Share_pct  \\\n",
       "0  1998      2,071,803,925     186,394,040 1,392,154,980                 9   \n",
       "1  1999      2,727,083,011     187,295,006 2,084,443,561                 7   \n",
       "2  2000      4,281,139,167     233,000,980 3,549,505,207                 5   \n",
       "3  2001      4,229,515,282     251,264,287 3,400,639,684                 6   \n",
       "4  2002      4,257,236,204     253,496,451 3,277,036,168                 6   \n",
       "5  2003      4,425,279,368     298,931,539 3,525,578,278                 7   \n",
       "6  2004      5,083,561,968     407,065,064 4,138,208,017                 8   \n",
       "7  2005      7,114,460,435     539,218,830 5,991,334,390                 8   \n",
       "8  2006      8,370,404,461     648,567,870 6,954,891,285                 8   \n",
       "9  2007      9,157,238,607     912,965,640 7,240,778,668                10   \n",
       "\n",
       "   YoY_Total_%  YoY_NonOil_%  YoY_Oil_%  \n",
       "0          NaN           NaN        NaN  \n",
       "1           32             0         50  \n",
       "2           57            24         70  \n",
       "3           -1             8         -4  \n",
       "4            1             1         -4  \n",
       "5            4            18          8  \n",
       "6           15            36         17  \n",
       "7           40            32         45  \n",
       "8           18            20         16  \n",
       "9            9            41          4  "
      ]
     },
     "execution_count": 83,
     "metadata": {},
     "output_type": "execute_result"
    }
   ],
   "source": [
    "\n",
    "series = (total.merge(non_oil, on=\"year\", how=\"outer\")\n",
    "               .merge(oil, on=\"year\", how=\"outer\")\n",
    "               .fillna(0.0)\n",
    "               .sort_values(\"year\"))\n",
    "\n",
    "series[\"NonOil_Share_pct\"] = np.where(series[\"Total_Exports_All\"]>0,\n",
    "                                      (series[\"NonOil_Exports\"]/series[\"Total_Exports_All\"])*100, np.nan)\n",
    "series[\"YoY_Total_%\"]  = series[\"Total_Exports_All\"].pct_change()*100\n",
    "series[\"YoY_NonOil_%\"] = series[\"NonOil_Exports\"].pct_change()*100\n",
    "series[\"YoY_Oil_%\"]    = series[\"Oil_Exports\"].pct_change()*100\n",
    "series.head(10)\n"
   ]
  },
  {
   "cell_type": "markdown",
   "id": "f5d223df",
   "metadata": {},
   "source": [
    "## 10) Chart — Total vs Non‑Oil Exports"
   ]
  },
  {
   "cell_type": "code",
   "execution_count": 84,
   "id": "04eb45dd",
   "metadata": {},
   "outputs": [
    {
     "data": {
      "application/vnd.plotly.v1+json": {
       "config": {
        "plotlyServerURL": "https://plot.ly"
       },
       "data": [
        {
         "line": {
          "width": 3
         },
         "mode": "lines+markers",
         "name": "Total Exports (Export + Re‑Export)",
         "type": "scatter",
         "x": {
          "bdata": "zgfPB9AH0QfSB9MH1AfVB9YH1wfYB9kH2gfbB9wH3QfeB98H4AfhB+IH4wfkB+UH5gfnB+gH",
          "dtype": "i2"
         },
         "y": {
          "bdata": "AABABU7f3kEAAGCAf1HkQQAA4Puf5e9BAABAAimD70EAAICdCLjvQQAAgHhGfPBBAAAA/w/w8kEAADDR4ID6QQAA0MajLv9BAAB4+oIOAUIAAChBqW4JQgAAYJE48AJCAACQlvI+CUIAAGi8yjYQQgAARJLLJhJCAAC44bDjE0IAAEQtEsUSQgAAsHBBNwlCAABAmxphA0IAAJBRws8GQgAA2MjH9wtCAADw/BgECkIAADAEL5oFQgAAIGDJqAxCAACkNfnuFUIAAIxwpiEVQgAADMqo4BZC",
          "dtype": "f8"
         }
        },
        {
         "line": {
          "width": 3
         },
         "mode": "lines+markers",
         "name": "Non‑Oil Exports (Export only)",
         "type": "scatter",
         "x": {
          "bdata": "zgfPB9AH0QfSB9MH1AfVB9YH1wfYB9kH2gfbB9wH3QfeB98H4AfhB+IH4wfkB+UH5gfnB+gH",
          "dtype": "i2"
         },
         "y": {
          "bdata": "AAAAcEs4pkEAAAA8ylOmQQAAACigxqtBAAAAPvrzrUEAAAAGGTiuQQAAAFNV0bFBAAAA6FFDuEEAAADH6RHAQQAAAB8uVMNBAAAABGA1y0EAAEArH4fVQQAAwM8Xu9ZBAACAKRnA3EEAAODv37LkQQAAwFwziuVBAADgUSIO50EAAGCuFOznQQAAQLp+zuNBAABA+QR03kEAAEBJfqvkQQAAANNdR+pBAACgzW2y50EAAIDKgVjpQQAAYKWEoPJBAABA3MBK90EAAJCkrmL0QQAAcEKZafJB",
          "dtype": "f8"
         }
        }
       ],
       "layout": {
        "template": {
         "data": {
          "bar": [
           {
            "error_x": {
             "color": "#2a3f5f"
            },
            "error_y": {
             "color": "#2a3f5f"
            },
            "marker": {
             "line": {
              "color": "white",
              "width": 0.5
             },
             "pattern": {
              "fillmode": "overlay",
              "size": 10,
              "solidity": 0.2
             }
            },
            "type": "bar"
           }
          ],
          "barpolar": [
           {
            "marker": {
             "line": {
              "color": "white",
              "width": 0.5
             },
             "pattern": {
              "fillmode": "overlay",
              "size": 10,
              "solidity": 0.2
             }
            },
            "type": "barpolar"
           }
          ],
          "carpet": [
           {
            "aaxis": {
             "endlinecolor": "#2a3f5f",
             "gridcolor": "#C8D4E3",
             "linecolor": "#C8D4E3",
             "minorgridcolor": "#C8D4E3",
             "startlinecolor": "#2a3f5f"
            },
            "baxis": {
             "endlinecolor": "#2a3f5f",
             "gridcolor": "#C8D4E3",
             "linecolor": "#C8D4E3",
             "minorgridcolor": "#C8D4E3",
             "startlinecolor": "#2a3f5f"
            },
            "type": "carpet"
           }
          ],
          "choropleth": [
           {
            "colorbar": {
             "outlinewidth": 0,
             "ticks": ""
            },
            "type": "choropleth"
           }
          ],
          "contour": [
           {
            "colorbar": {
             "outlinewidth": 0,
             "ticks": ""
            },
            "colorscale": [
             [
              0,
              "#0d0887"
             ],
             [
              0.1111111111111111,
              "#46039f"
             ],
             [
              0.2222222222222222,
              "#7201a8"
             ],
             [
              0.3333333333333333,
              "#9c179e"
             ],
             [
              0.4444444444444444,
              "#bd3786"
             ],
             [
              0.5555555555555556,
              "#d8576b"
             ],
             [
              0.6666666666666666,
              "#ed7953"
             ],
             [
              0.7777777777777778,
              "#fb9f3a"
             ],
             [
              0.8888888888888888,
              "#fdca26"
             ],
             [
              1,
              "#f0f921"
             ]
            ],
            "type": "contour"
           }
          ],
          "contourcarpet": [
           {
            "colorbar": {
             "outlinewidth": 0,
             "ticks": ""
            },
            "type": "contourcarpet"
           }
          ],
          "heatmap": [
           {
            "colorbar": {
             "outlinewidth": 0,
             "ticks": ""
            },
            "colorscale": [
             [
              0,
              "#0d0887"
             ],
             [
              0.1111111111111111,
              "#46039f"
             ],
             [
              0.2222222222222222,
              "#7201a8"
             ],
             [
              0.3333333333333333,
              "#9c179e"
             ],
             [
              0.4444444444444444,
              "#bd3786"
             ],
             [
              0.5555555555555556,
              "#d8576b"
             ],
             [
              0.6666666666666666,
              "#ed7953"
             ],
             [
              0.7777777777777778,
              "#fb9f3a"
             ],
             [
              0.8888888888888888,
              "#fdca26"
             ],
             [
              1,
              "#f0f921"
             ]
            ],
            "type": "heatmap"
           }
          ],
          "histogram": [
           {
            "marker": {
             "pattern": {
              "fillmode": "overlay",
              "size": 10,
              "solidity": 0.2
             }
            },
            "type": "histogram"
           }
          ],
          "histogram2d": [
           {
            "colorbar": {
             "outlinewidth": 0,
             "ticks": ""
            },
            "colorscale": [
             [
              0,
              "#0d0887"
             ],
             [
              0.1111111111111111,
              "#46039f"
             ],
             [
              0.2222222222222222,
              "#7201a8"
             ],
             [
              0.3333333333333333,
              "#9c179e"
             ],
             [
              0.4444444444444444,
              "#bd3786"
             ],
             [
              0.5555555555555556,
              "#d8576b"
             ],
             [
              0.6666666666666666,
              "#ed7953"
             ],
             [
              0.7777777777777778,
              "#fb9f3a"
             ],
             [
              0.8888888888888888,
              "#fdca26"
             ],
             [
              1,
              "#f0f921"
             ]
            ],
            "type": "histogram2d"
           }
          ],
          "histogram2dcontour": [
           {
            "colorbar": {
             "outlinewidth": 0,
             "ticks": ""
            },
            "colorscale": [
             [
              0,
              "#0d0887"
             ],
             [
              0.1111111111111111,
              "#46039f"
             ],
             [
              0.2222222222222222,
              "#7201a8"
             ],
             [
              0.3333333333333333,
              "#9c179e"
             ],
             [
              0.4444444444444444,
              "#bd3786"
             ],
             [
              0.5555555555555556,
              "#d8576b"
             ],
             [
              0.6666666666666666,
              "#ed7953"
             ],
             [
              0.7777777777777778,
              "#fb9f3a"
             ],
             [
              0.8888888888888888,
              "#fdca26"
             ],
             [
              1,
              "#f0f921"
             ]
            ],
            "type": "histogram2dcontour"
           }
          ],
          "mesh3d": [
           {
            "colorbar": {
             "outlinewidth": 0,
             "ticks": ""
            },
            "type": "mesh3d"
           }
          ],
          "parcoords": [
           {
            "line": {
             "colorbar": {
              "outlinewidth": 0,
              "ticks": ""
             }
            },
            "type": "parcoords"
           }
          ],
          "pie": [
           {
            "automargin": true,
            "type": "pie"
           }
          ],
          "scatter": [
           {
            "fillpattern": {
             "fillmode": "overlay",
             "size": 10,
             "solidity": 0.2
            },
            "type": "scatter"
           }
          ],
          "scatter3d": [
           {
            "line": {
             "colorbar": {
              "outlinewidth": 0,
              "ticks": ""
             }
            },
            "marker": {
             "colorbar": {
              "outlinewidth": 0,
              "ticks": ""
             }
            },
            "type": "scatter3d"
           }
          ],
          "scattercarpet": [
           {
            "marker": {
             "colorbar": {
              "outlinewidth": 0,
              "ticks": ""
             }
            },
            "type": "scattercarpet"
           }
          ],
          "scattergeo": [
           {
            "marker": {
             "colorbar": {
              "outlinewidth": 0,
              "ticks": ""
             }
            },
            "type": "scattergeo"
           }
          ],
          "scattergl": [
           {
            "marker": {
             "colorbar": {
              "outlinewidth": 0,
              "ticks": ""
             }
            },
            "type": "scattergl"
           }
          ],
          "scattermap": [
           {
            "marker": {
             "colorbar": {
              "outlinewidth": 0,
              "ticks": ""
             }
            },
            "type": "scattermap"
           }
          ],
          "scattermapbox": [
           {
            "marker": {
             "colorbar": {
              "outlinewidth": 0,
              "ticks": ""
             }
            },
            "type": "scattermapbox"
           }
          ],
          "scatterpolar": [
           {
            "marker": {
             "colorbar": {
              "outlinewidth": 0,
              "ticks": ""
             }
            },
            "type": "scatterpolar"
           }
          ],
          "scatterpolargl": [
           {
            "marker": {
             "colorbar": {
              "outlinewidth": 0,
              "ticks": ""
             }
            },
            "type": "scatterpolargl"
           }
          ],
          "scatterternary": [
           {
            "marker": {
             "colorbar": {
              "outlinewidth": 0,
              "ticks": ""
             }
            },
            "type": "scatterternary"
           }
          ],
          "surface": [
           {
            "colorbar": {
             "outlinewidth": 0,
             "ticks": ""
            },
            "colorscale": [
             [
              0,
              "#0d0887"
             ],
             [
              0.1111111111111111,
              "#46039f"
             ],
             [
              0.2222222222222222,
              "#7201a8"
             ],
             [
              0.3333333333333333,
              "#9c179e"
             ],
             [
              0.4444444444444444,
              "#bd3786"
             ],
             [
              0.5555555555555556,
              "#d8576b"
             ],
             [
              0.6666666666666666,
              "#ed7953"
             ],
             [
              0.7777777777777778,
              "#fb9f3a"
             ],
             [
              0.8888888888888888,
              "#fdca26"
             ],
             [
              1,
              "#f0f921"
             ]
            ],
            "type": "surface"
           }
          ],
          "table": [
           {
            "cells": {
             "fill": {
              "color": "#EBF0F8"
             },
             "line": {
              "color": "white"
             }
            },
            "header": {
             "fill": {
              "color": "#C8D4E3"
             },
             "line": {
              "color": "white"
             }
            },
            "type": "table"
           }
          ]
         },
         "layout": {
          "annotationdefaults": {
           "arrowcolor": "#2a3f5f",
           "arrowhead": 0,
           "arrowwidth": 1
          },
          "autotypenumbers": "strict",
          "coloraxis": {
           "colorbar": {
            "outlinewidth": 0,
            "ticks": ""
           }
          },
          "colorscale": {
           "diverging": [
            [
             0,
             "#8e0152"
            ],
            [
             0.1,
             "#c51b7d"
            ],
            [
             0.2,
             "#de77ae"
            ],
            [
             0.3,
             "#f1b6da"
            ],
            [
             0.4,
             "#fde0ef"
            ],
            [
             0.5,
             "#f7f7f7"
            ],
            [
             0.6,
             "#e6f5d0"
            ],
            [
             0.7,
             "#b8e186"
            ],
            [
             0.8,
             "#7fbc41"
            ],
            [
             0.9,
             "#4d9221"
            ],
            [
             1,
             "#276419"
            ]
           ],
           "sequential": [
            [
             0,
             "#0d0887"
            ],
            [
             0.1111111111111111,
             "#46039f"
            ],
            [
             0.2222222222222222,
             "#7201a8"
            ],
            [
             0.3333333333333333,
             "#9c179e"
            ],
            [
             0.4444444444444444,
             "#bd3786"
            ],
            [
             0.5555555555555556,
             "#d8576b"
            ],
            [
             0.6666666666666666,
             "#ed7953"
            ],
            [
             0.7777777777777778,
             "#fb9f3a"
            ],
            [
             0.8888888888888888,
             "#fdca26"
            ],
            [
             1,
             "#f0f921"
            ]
           ],
           "sequentialminus": [
            [
             0,
             "#0d0887"
            ],
            [
             0.1111111111111111,
             "#46039f"
            ],
            [
             0.2222222222222222,
             "#7201a8"
            ],
            [
             0.3333333333333333,
             "#9c179e"
            ],
            [
             0.4444444444444444,
             "#bd3786"
            ],
            [
             0.5555555555555556,
             "#d8576b"
            ],
            [
             0.6666666666666666,
             "#ed7953"
            ],
            [
             0.7777777777777778,
             "#fb9f3a"
            ],
            [
             0.8888888888888888,
             "#fdca26"
            ],
            [
             1,
             "#f0f921"
            ]
           ]
          },
          "colorway": [
           "#636efa",
           "#EF553B",
           "#00cc96",
           "#ab63fa",
           "#FFA15A",
           "#19d3f3",
           "#FF6692",
           "#B6E880",
           "#FF97FF",
           "#FECB52"
          ],
          "font": {
           "color": "#2a3f5f"
          },
          "geo": {
           "bgcolor": "white",
           "lakecolor": "white",
           "landcolor": "white",
           "showlakes": true,
           "showland": true,
           "subunitcolor": "#C8D4E3"
          },
          "hoverlabel": {
           "align": "left"
          },
          "hovermode": "closest",
          "mapbox": {
           "style": "light"
          },
          "paper_bgcolor": "white",
          "plot_bgcolor": "white",
          "polar": {
           "angularaxis": {
            "gridcolor": "#EBF0F8",
            "linecolor": "#EBF0F8",
            "ticks": ""
           },
           "bgcolor": "white",
           "radialaxis": {
            "gridcolor": "#EBF0F8",
            "linecolor": "#EBF0F8",
            "ticks": ""
           }
          },
          "scene": {
           "xaxis": {
            "backgroundcolor": "white",
            "gridcolor": "#DFE8F3",
            "gridwidth": 2,
            "linecolor": "#EBF0F8",
            "showbackground": true,
            "ticks": "",
            "zerolinecolor": "#EBF0F8"
           },
           "yaxis": {
            "backgroundcolor": "white",
            "gridcolor": "#DFE8F3",
            "gridwidth": 2,
            "linecolor": "#EBF0F8",
            "showbackground": true,
            "ticks": "",
            "zerolinecolor": "#EBF0F8"
           },
           "zaxis": {
            "backgroundcolor": "white",
            "gridcolor": "#DFE8F3",
            "gridwidth": 2,
            "linecolor": "#EBF0F8",
            "showbackground": true,
            "ticks": "",
            "zerolinecolor": "#EBF0F8"
           }
          },
          "shapedefaults": {
           "line": {
            "color": "#2a3f5f"
           }
          },
          "ternary": {
           "aaxis": {
            "gridcolor": "#DFE8F3",
            "linecolor": "#A2B1C6",
            "ticks": ""
           },
           "baxis": {
            "gridcolor": "#DFE8F3",
            "linecolor": "#A2B1C6",
            "ticks": ""
           },
           "bgcolor": "white",
           "caxis": {
            "gridcolor": "#DFE8F3",
            "linecolor": "#A2B1C6",
            "ticks": ""
           }
          },
          "title": {
           "x": 0.05
          },
          "xaxis": {
           "automargin": true,
           "gridcolor": "#EBF0F8",
           "linecolor": "#EBF0F8",
           "ticks": "",
           "title": {
            "standoff": 15
           },
           "zerolinecolor": "#EBF0F8",
           "zerolinewidth": 2
          },
          "yaxis": {
           "automargin": true,
           "gridcolor": "#EBF0F8",
           "linecolor": "#EBF0F8",
           "ticks": "",
           "title": {
            "standoff": 15
           },
           "zerolinecolor": "#EBF0F8",
           "zerolinewidth": 2
          }
         }
        },
        "title": {
         "text": "Oman: Total vs Non‑Oil Exports (Levels) — Imports Excluded from Total"
        },
        "xaxis": {
         "title": {
          "text": "Year"
         }
        },
        "yaxis": {
         "title": {
          "text": "OMR"
         }
        }
       }
      }
     },
     "metadata": {},
     "output_type": "display_data"
    }
   ],
   "source": [
    "\n",
    "fig1 = go.Figure()\n",
    "fig1.add_trace(go.Scatter(x=series[\"year\"], y=series[\"Total_Exports_All\"],\n",
    "                          mode=\"lines+markers\", name=\"Total Exports (Export + Re‑Export)\",\n",
    "                          line=dict(width=3)))\n",
    "fig1.add_trace(go.Scatter(x=series[\"year\"], y=series[\"NonOil_Exports\"],\n",
    "                          mode=\"lines+markers\", name=\"Non‑Oil Exports (Export only)\",\n",
    "                          line=dict(width=3)))\n",
    "fig1.update_layout(title=\"Oman: Total vs Non‑Oil Exports (Levels) — Imports Excluded from Total\",\n",
    "                   xaxis_title=\"Year\", yaxis_title=\"OMR\", template=\"plotly_white\")\n",
    "fig1.show()\n"
   ]
  },
  {
   "cell_type": "markdown",
   "id": "5e6eb1a3",
   "metadata": {},
   "source": [
    "## 11) Chart — Non‑Oil Share of Total Exports"
   ]
  },
  {
   "cell_type": "code",
   "execution_count": 85,
   "id": "4e059752",
   "metadata": {},
   "outputs": [
    {
     "data": {
      "application/vnd.plotly.v1+json": {
       "config": {
        "plotlyServerURL": "https://plot.ly"
       },
       "data": [
        {
         "hovertemplate": "year=%{x}<br>NonOil_Share_pct=%{y}<extra></extra>",
         "legendgroup": "",
         "line": {
          "color": "#636efa",
          "dash": "solid",
          "width": 3
         },
         "marker": {
          "size": 8,
          "symbol": "circle"
         },
         "mode": "lines+markers",
         "name": "",
         "orientation": "v",
         "showlegend": false,
         "type": "scatter",
         "x": {
          "bdata": "zgfPB9AH0QfSB9MH1AfVB9YH1wfYB9kH2gfbB9wH3QfeB98H4AfhB+IH4wfkB+UH5gfnB+gH",
          "dtype": "i2"
         },
         "xaxis": "x",
         "y": {
          "bdata": "LPqF0U/+IUDYuUvZyngbQO+RR5oexRVAs/j5/E/DF0Du8LZEZNEXQMOLdO01BRtAuHkvDNQDIEBFteR+GFEeQKZ2f1JO/h5AZFBdBpTwI0CSr84ecyklQFiHM/CeAS5AxTDJoml4LECYI9AVM+ovQOPVQ/Wrqi1AzRA2s6/6LECy+tzd0twvQKwltbgXozNAJrFfHZKkM0BqFdrSIqc2QIlBWBF5fTdAp8ayE4TFNkD8DhuwDVU9QKeV+TOoP0BApT6jHmeMOkDvVG5EEh44QMm+9t3kHjRA",
          "dtype": "f8"
         },
         "yaxis": "y"
        }
       ],
       "layout": {
        "legend": {
         "tracegroupgap": 0
        },
        "template": {
         "data": {
          "bar": [
           {
            "error_x": {
             "color": "#2a3f5f"
            },
            "error_y": {
             "color": "#2a3f5f"
            },
            "marker": {
             "line": {
              "color": "white",
              "width": 0.5
             },
             "pattern": {
              "fillmode": "overlay",
              "size": 10,
              "solidity": 0.2
             }
            },
            "type": "bar"
           }
          ],
          "barpolar": [
           {
            "marker": {
             "line": {
              "color": "white",
              "width": 0.5
             },
             "pattern": {
              "fillmode": "overlay",
              "size": 10,
              "solidity": 0.2
             }
            },
            "type": "barpolar"
           }
          ],
          "carpet": [
           {
            "aaxis": {
             "endlinecolor": "#2a3f5f",
             "gridcolor": "#C8D4E3",
             "linecolor": "#C8D4E3",
             "minorgridcolor": "#C8D4E3",
             "startlinecolor": "#2a3f5f"
            },
            "baxis": {
             "endlinecolor": "#2a3f5f",
             "gridcolor": "#C8D4E3",
             "linecolor": "#C8D4E3",
             "minorgridcolor": "#C8D4E3",
             "startlinecolor": "#2a3f5f"
            },
            "type": "carpet"
           }
          ],
          "choropleth": [
           {
            "colorbar": {
             "outlinewidth": 0,
             "ticks": ""
            },
            "type": "choropleth"
           }
          ],
          "contour": [
           {
            "colorbar": {
             "outlinewidth": 0,
             "ticks": ""
            },
            "colorscale": [
             [
              0,
              "#0d0887"
             ],
             [
              0.1111111111111111,
              "#46039f"
             ],
             [
              0.2222222222222222,
              "#7201a8"
             ],
             [
              0.3333333333333333,
              "#9c179e"
             ],
             [
              0.4444444444444444,
              "#bd3786"
             ],
             [
              0.5555555555555556,
              "#d8576b"
             ],
             [
              0.6666666666666666,
              "#ed7953"
             ],
             [
              0.7777777777777778,
              "#fb9f3a"
             ],
             [
              0.8888888888888888,
              "#fdca26"
             ],
             [
              1,
              "#f0f921"
             ]
            ],
            "type": "contour"
           }
          ],
          "contourcarpet": [
           {
            "colorbar": {
             "outlinewidth": 0,
             "ticks": ""
            },
            "type": "contourcarpet"
           }
          ],
          "heatmap": [
           {
            "colorbar": {
             "outlinewidth": 0,
             "ticks": ""
            },
            "colorscale": [
             [
              0,
              "#0d0887"
             ],
             [
              0.1111111111111111,
              "#46039f"
             ],
             [
              0.2222222222222222,
              "#7201a8"
             ],
             [
              0.3333333333333333,
              "#9c179e"
             ],
             [
              0.4444444444444444,
              "#bd3786"
             ],
             [
              0.5555555555555556,
              "#d8576b"
             ],
             [
              0.6666666666666666,
              "#ed7953"
             ],
             [
              0.7777777777777778,
              "#fb9f3a"
             ],
             [
              0.8888888888888888,
              "#fdca26"
             ],
             [
              1,
              "#f0f921"
             ]
            ],
            "type": "heatmap"
           }
          ],
          "histogram": [
           {
            "marker": {
             "pattern": {
              "fillmode": "overlay",
              "size": 10,
              "solidity": 0.2
             }
            },
            "type": "histogram"
           }
          ],
          "histogram2d": [
           {
            "colorbar": {
             "outlinewidth": 0,
             "ticks": ""
            },
            "colorscale": [
             [
              0,
              "#0d0887"
             ],
             [
              0.1111111111111111,
              "#46039f"
             ],
             [
              0.2222222222222222,
              "#7201a8"
             ],
             [
              0.3333333333333333,
              "#9c179e"
             ],
             [
              0.4444444444444444,
              "#bd3786"
             ],
             [
              0.5555555555555556,
              "#d8576b"
             ],
             [
              0.6666666666666666,
              "#ed7953"
             ],
             [
              0.7777777777777778,
              "#fb9f3a"
             ],
             [
              0.8888888888888888,
              "#fdca26"
             ],
             [
              1,
              "#f0f921"
             ]
            ],
            "type": "histogram2d"
           }
          ],
          "histogram2dcontour": [
           {
            "colorbar": {
             "outlinewidth": 0,
             "ticks": ""
            },
            "colorscale": [
             [
              0,
              "#0d0887"
             ],
             [
              0.1111111111111111,
              "#46039f"
             ],
             [
              0.2222222222222222,
              "#7201a8"
             ],
             [
              0.3333333333333333,
              "#9c179e"
             ],
             [
              0.4444444444444444,
              "#bd3786"
             ],
             [
              0.5555555555555556,
              "#d8576b"
             ],
             [
              0.6666666666666666,
              "#ed7953"
             ],
             [
              0.7777777777777778,
              "#fb9f3a"
             ],
             [
              0.8888888888888888,
              "#fdca26"
             ],
             [
              1,
              "#f0f921"
             ]
            ],
            "type": "histogram2dcontour"
           }
          ],
          "mesh3d": [
           {
            "colorbar": {
             "outlinewidth": 0,
             "ticks": ""
            },
            "type": "mesh3d"
           }
          ],
          "parcoords": [
           {
            "line": {
             "colorbar": {
              "outlinewidth": 0,
              "ticks": ""
             }
            },
            "type": "parcoords"
           }
          ],
          "pie": [
           {
            "automargin": true,
            "type": "pie"
           }
          ],
          "scatter": [
           {
            "fillpattern": {
             "fillmode": "overlay",
             "size": 10,
             "solidity": 0.2
            },
            "type": "scatter"
           }
          ],
          "scatter3d": [
           {
            "line": {
             "colorbar": {
              "outlinewidth": 0,
              "ticks": ""
             }
            },
            "marker": {
             "colorbar": {
              "outlinewidth": 0,
              "ticks": ""
             }
            },
            "type": "scatter3d"
           }
          ],
          "scattercarpet": [
           {
            "marker": {
             "colorbar": {
              "outlinewidth": 0,
              "ticks": ""
             }
            },
            "type": "scattercarpet"
           }
          ],
          "scattergeo": [
           {
            "marker": {
             "colorbar": {
              "outlinewidth": 0,
              "ticks": ""
             }
            },
            "type": "scattergeo"
           }
          ],
          "scattergl": [
           {
            "marker": {
             "colorbar": {
              "outlinewidth": 0,
              "ticks": ""
             }
            },
            "type": "scattergl"
           }
          ],
          "scattermap": [
           {
            "marker": {
             "colorbar": {
              "outlinewidth": 0,
              "ticks": ""
             }
            },
            "type": "scattermap"
           }
          ],
          "scattermapbox": [
           {
            "marker": {
             "colorbar": {
              "outlinewidth": 0,
              "ticks": ""
             }
            },
            "type": "scattermapbox"
           }
          ],
          "scatterpolar": [
           {
            "marker": {
             "colorbar": {
              "outlinewidth": 0,
              "ticks": ""
             }
            },
            "type": "scatterpolar"
           }
          ],
          "scatterpolargl": [
           {
            "marker": {
             "colorbar": {
              "outlinewidth": 0,
              "ticks": ""
             }
            },
            "type": "scatterpolargl"
           }
          ],
          "scatterternary": [
           {
            "marker": {
             "colorbar": {
              "outlinewidth": 0,
              "ticks": ""
             }
            },
            "type": "scatterternary"
           }
          ],
          "surface": [
           {
            "colorbar": {
             "outlinewidth": 0,
             "ticks": ""
            },
            "colorscale": [
             [
              0,
              "#0d0887"
             ],
             [
              0.1111111111111111,
              "#46039f"
             ],
             [
              0.2222222222222222,
              "#7201a8"
             ],
             [
              0.3333333333333333,
              "#9c179e"
             ],
             [
              0.4444444444444444,
              "#bd3786"
             ],
             [
              0.5555555555555556,
              "#d8576b"
             ],
             [
              0.6666666666666666,
              "#ed7953"
             ],
             [
              0.7777777777777778,
              "#fb9f3a"
             ],
             [
              0.8888888888888888,
              "#fdca26"
             ],
             [
              1,
              "#f0f921"
             ]
            ],
            "type": "surface"
           }
          ],
          "table": [
           {
            "cells": {
             "fill": {
              "color": "#EBF0F8"
             },
             "line": {
              "color": "white"
             }
            },
            "header": {
             "fill": {
              "color": "#C8D4E3"
             },
             "line": {
              "color": "white"
             }
            },
            "type": "table"
           }
          ]
         },
         "layout": {
          "annotationdefaults": {
           "arrowcolor": "#2a3f5f",
           "arrowhead": 0,
           "arrowwidth": 1
          },
          "autotypenumbers": "strict",
          "coloraxis": {
           "colorbar": {
            "outlinewidth": 0,
            "ticks": ""
           }
          },
          "colorscale": {
           "diverging": [
            [
             0,
             "#8e0152"
            ],
            [
             0.1,
             "#c51b7d"
            ],
            [
             0.2,
             "#de77ae"
            ],
            [
             0.3,
             "#f1b6da"
            ],
            [
             0.4,
             "#fde0ef"
            ],
            [
             0.5,
             "#f7f7f7"
            ],
            [
             0.6,
             "#e6f5d0"
            ],
            [
             0.7,
             "#b8e186"
            ],
            [
             0.8,
             "#7fbc41"
            ],
            [
             0.9,
             "#4d9221"
            ],
            [
             1,
             "#276419"
            ]
           ],
           "sequential": [
            [
             0,
             "#0d0887"
            ],
            [
             0.1111111111111111,
             "#46039f"
            ],
            [
             0.2222222222222222,
             "#7201a8"
            ],
            [
             0.3333333333333333,
             "#9c179e"
            ],
            [
             0.4444444444444444,
             "#bd3786"
            ],
            [
             0.5555555555555556,
             "#d8576b"
            ],
            [
             0.6666666666666666,
             "#ed7953"
            ],
            [
             0.7777777777777778,
             "#fb9f3a"
            ],
            [
             0.8888888888888888,
             "#fdca26"
            ],
            [
             1,
             "#f0f921"
            ]
           ],
           "sequentialminus": [
            [
             0,
             "#0d0887"
            ],
            [
             0.1111111111111111,
             "#46039f"
            ],
            [
             0.2222222222222222,
             "#7201a8"
            ],
            [
             0.3333333333333333,
             "#9c179e"
            ],
            [
             0.4444444444444444,
             "#bd3786"
            ],
            [
             0.5555555555555556,
             "#d8576b"
            ],
            [
             0.6666666666666666,
             "#ed7953"
            ],
            [
             0.7777777777777778,
             "#fb9f3a"
            ],
            [
             0.8888888888888888,
             "#fdca26"
            ],
            [
             1,
             "#f0f921"
            ]
           ]
          },
          "colorway": [
           "#636efa",
           "#EF553B",
           "#00cc96",
           "#ab63fa",
           "#FFA15A",
           "#19d3f3",
           "#FF6692",
           "#B6E880",
           "#FF97FF",
           "#FECB52"
          ],
          "font": {
           "color": "#2a3f5f"
          },
          "geo": {
           "bgcolor": "white",
           "lakecolor": "white",
           "landcolor": "white",
           "showlakes": true,
           "showland": true,
           "subunitcolor": "#C8D4E3"
          },
          "hoverlabel": {
           "align": "left"
          },
          "hovermode": "closest",
          "mapbox": {
           "style": "light"
          },
          "paper_bgcolor": "white",
          "plot_bgcolor": "white",
          "polar": {
           "angularaxis": {
            "gridcolor": "#EBF0F8",
            "linecolor": "#EBF0F8",
            "ticks": ""
           },
           "bgcolor": "white",
           "radialaxis": {
            "gridcolor": "#EBF0F8",
            "linecolor": "#EBF0F8",
            "ticks": ""
           }
          },
          "scene": {
           "xaxis": {
            "backgroundcolor": "white",
            "gridcolor": "#DFE8F3",
            "gridwidth": 2,
            "linecolor": "#EBF0F8",
            "showbackground": true,
            "ticks": "",
            "zerolinecolor": "#EBF0F8"
           },
           "yaxis": {
            "backgroundcolor": "white",
            "gridcolor": "#DFE8F3",
            "gridwidth": 2,
            "linecolor": "#EBF0F8",
            "showbackground": true,
            "ticks": "",
            "zerolinecolor": "#EBF0F8"
           },
           "zaxis": {
            "backgroundcolor": "white",
            "gridcolor": "#DFE8F3",
            "gridwidth": 2,
            "linecolor": "#EBF0F8",
            "showbackground": true,
            "ticks": "",
            "zerolinecolor": "#EBF0F8"
           }
          },
          "shapedefaults": {
           "line": {
            "color": "#2a3f5f"
           }
          },
          "ternary": {
           "aaxis": {
            "gridcolor": "#DFE8F3",
            "linecolor": "#A2B1C6",
            "ticks": ""
           },
           "baxis": {
            "gridcolor": "#DFE8F3",
            "linecolor": "#A2B1C6",
            "ticks": ""
           },
           "bgcolor": "white",
           "caxis": {
            "gridcolor": "#DFE8F3",
            "linecolor": "#A2B1C6",
            "ticks": ""
           }
          },
          "title": {
           "x": 0.05
          },
          "xaxis": {
           "automargin": true,
           "gridcolor": "#EBF0F8",
           "linecolor": "#EBF0F8",
           "ticks": "",
           "title": {
            "standoff": 15
           },
           "zerolinecolor": "#EBF0F8",
           "zerolinewidth": 2
          },
          "yaxis": {
           "automargin": true,
           "gridcolor": "#EBF0F8",
           "linecolor": "#EBF0F8",
           "ticks": "",
           "title": {
            "standoff": 15
           },
           "zerolinecolor": "#EBF0F8",
           "zerolinewidth": 2
          }
         }
        },
        "title": {
         "text": "Non‑Oil Exports as % of Total Exports (Export + Re‑Export)"
        },
        "xaxis": {
         "anchor": "y",
         "domain": [
          0,
          1
         ],
         "title": {
          "text": "year"
         }
        },
        "yaxis": {
         "anchor": "x",
         "domain": [
          0,
          1
         ],
         "title": {
          "text": "Share (%)"
         }
        }
       }
      }
     },
     "metadata": {},
     "output_type": "display_data"
    }
   ],
   "source": [
    "\n",
    "fig2 = px.line(series, x=\"year\", y=\"NonOil_Share_pct\",\n",
    "               title=\"Non‑Oil Exports as % of Total Exports (Export + Re‑Export)\",\n",
    "               markers=True)\n",
    "fig2.update_traces(line=dict(width=3), marker=dict(size=8))\n",
    "fig2.update_layout(template=\"plotly_white\", yaxis_title=\"Share (%)\")\n",
    "fig2.show()\n"
   ]
  },
  {
   "cell_type": "markdown",
   "id": "052edd79",
   "metadata": {},
   "source": [
    "## 12) Chart — YoY Growth"
   ]
  },
  {
   "cell_type": "code",
   "execution_count": 86,
   "id": "c0d8a32e",
   "metadata": {},
   "outputs": [
    {
     "data": {
      "application/vnd.plotly.v1+json": {
       "config": {
        "plotlyServerURL": "https://plot.ly"
       },
       "data": [
        {
         "mode": "lines+markers",
         "name": "Total Exports",
         "type": "scatter",
         "x": {
          "bdata": "zgfPB9AH0QfSB9MH1AfVB9YH1wfYB9kH2gfbB9wH3QfeB98H4AfhB+IH4wfkB+UH5gfnB+gH",
          "dtype": "i2"
         },
         "y": {
          "bdata": "AAAAAAAA+H/6SqPj4KA/QC6usQE2fkxA6oYosiNL87/AmY8UK/nkPyBOQYTwkw9AzsdOCELALUDYAtqQo/lDQFxUtBlFpzFAjbd+DebMIkDQI7QcXY1IQPJhlj28iDnAyxk6QBynQEBpZfHa6XI8QLlzd7Iy5idAJIhx9wMmI0B+aW4mRYQWwDN+IGsTakDAuVnHwnIlN8BTHFcu/LUxQBjvjTqimjZAkhnrSYXqG8CXc6wtJvcwwFJ7sIuCVUBA6x6dzSKISkA9pQBk8UANwPrYfqW/hiBA",
          "dtype": "f8"
         }
        },
        {
         "mode": "lines+markers",
         "name": "Non‑Oil Exports",
         "type": "scatter",
         "x": {
          "bdata": "zgfPB9AH0QfSB9MH1AfVB9YH1wfYB9kH2gfbB9wH3QfeB98H4AfhB+IH4wfkB+UH5gfnB+gH",
          "dtype": "i2"
         },
         "y": {
          "bdata": "AAAAAAAA+H/wrkVDee/ePylLZBU4ZzhAUsXKUmpaH0Aw5a4kjW3sP21nL31h7DFACnjQCTAWQkB0LlDehTtAQBgJuup2RzRAdg5iYhliRECALYloJh9NQNBT1SxLWhZA5OFRilx7OkCbKTBhn/5FQKgN9VckQRBA6/JKygMkHEB+NoshZhUOQOjoJCo4NDHAAbWC16kfN8DQUlPd0d9BQBaHOCqwIjtA770dZjOmI8CSlkYKltQbQMEh6STkfUdApkHV7U0LOUDe716zEfUowMwoe7RTWyPA",
          "dtype": "f8"
         }
        },
        {
         "mode": "lines+markers",
         "name": "Oil Exports",
         "type": "scatter",
         "x": {
          "bdata": "zgfPB9AH0QfSB9MH1AfVB9YH1wfYB9kH2gfbB9wH3QfeB98H4AfhB+IH4wfkB+UH5gfnB+gH",
          "dtype": "i2"
         },
         "y": {
          "bdata": "AAAAAAAA+H8iP2TQKd1IQAiiQq9FklFA0J0rlKLGEMCil9fE5BMNwGGg3ZVhVh5ADdB+fHBgMUBHT6sy9GNGQBBtBFAfFTBAA+52sz9xEEC9+ikJR9dHQAsaFK+1K0LAymEoOZ9ERUCCDHQrVaI7QNo6ZjxT6ytAuNr8IPw3EUCMjWVDH5kTwEmT1ibkU0TAg3i+Gp8dOMBIGmxC4s0wQNaDtKo1+z5ANl0ZvYW+CsCiu65o1ko/wICClRSuyERA9i3kZukOU0Ao7zLyQAr5v8byRWGSJS1A",
          "dtype": "f8"
         }
        }
       ],
       "layout": {
        "shapes": [
         {
          "line": {
           "color": "gray",
           "dash": "dot"
          },
          "type": "line",
          "x0": 0,
          "x1": 1,
          "xref": "x domain",
          "y0": 0,
          "y1": 0,
          "yref": "y"
         }
        ],
        "template": {
         "data": {
          "bar": [
           {
            "error_x": {
             "color": "#2a3f5f"
            },
            "error_y": {
             "color": "#2a3f5f"
            },
            "marker": {
             "line": {
              "color": "white",
              "width": 0.5
             },
             "pattern": {
              "fillmode": "overlay",
              "size": 10,
              "solidity": 0.2
             }
            },
            "type": "bar"
           }
          ],
          "barpolar": [
           {
            "marker": {
             "line": {
              "color": "white",
              "width": 0.5
             },
             "pattern": {
              "fillmode": "overlay",
              "size": 10,
              "solidity": 0.2
             }
            },
            "type": "barpolar"
           }
          ],
          "carpet": [
           {
            "aaxis": {
             "endlinecolor": "#2a3f5f",
             "gridcolor": "#C8D4E3",
             "linecolor": "#C8D4E3",
             "minorgridcolor": "#C8D4E3",
             "startlinecolor": "#2a3f5f"
            },
            "baxis": {
             "endlinecolor": "#2a3f5f",
             "gridcolor": "#C8D4E3",
             "linecolor": "#C8D4E3",
             "minorgridcolor": "#C8D4E3",
             "startlinecolor": "#2a3f5f"
            },
            "type": "carpet"
           }
          ],
          "choropleth": [
           {
            "colorbar": {
             "outlinewidth": 0,
             "ticks": ""
            },
            "type": "choropleth"
           }
          ],
          "contour": [
           {
            "colorbar": {
             "outlinewidth": 0,
             "ticks": ""
            },
            "colorscale": [
             [
              0,
              "#0d0887"
             ],
             [
              0.1111111111111111,
              "#46039f"
             ],
             [
              0.2222222222222222,
              "#7201a8"
             ],
             [
              0.3333333333333333,
              "#9c179e"
             ],
             [
              0.4444444444444444,
              "#bd3786"
             ],
             [
              0.5555555555555556,
              "#d8576b"
             ],
             [
              0.6666666666666666,
              "#ed7953"
             ],
             [
              0.7777777777777778,
              "#fb9f3a"
             ],
             [
              0.8888888888888888,
              "#fdca26"
             ],
             [
              1,
              "#f0f921"
             ]
            ],
            "type": "contour"
           }
          ],
          "contourcarpet": [
           {
            "colorbar": {
             "outlinewidth": 0,
             "ticks": ""
            },
            "type": "contourcarpet"
           }
          ],
          "heatmap": [
           {
            "colorbar": {
             "outlinewidth": 0,
             "ticks": ""
            },
            "colorscale": [
             [
              0,
              "#0d0887"
             ],
             [
              0.1111111111111111,
              "#46039f"
             ],
             [
              0.2222222222222222,
              "#7201a8"
             ],
             [
              0.3333333333333333,
              "#9c179e"
             ],
             [
              0.4444444444444444,
              "#bd3786"
             ],
             [
              0.5555555555555556,
              "#d8576b"
             ],
             [
              0.6666666666666666,
              "#ed7953"
             ],
             [
              0.7777777777777778,
              "#fb9f3a"
             ],
             [
              0.8888888888888888,
              "#fdca26"
             ],
             [
              1,
              "#f0f921"
             ]
            ],
            "type": "heatmap"
           }
          ],
          "histogram": [
           {
            "marker": {
             "pattern": {
              "fillmode": "overlay",
              "size": 10,
              "solidity": 0.2
             }
            },
            "type": "histogram"
           }
          ],
          "histogram2d": [
           {
            "colorbar": {
             "outlinewidth": 0,
             "ticks": ""
            },
            "colorscale": [
             [
              0,
              "#0d0887"
             ],
             [
              0.1111111111111111,
              "#46039f"
             ],
             [
              0.2222222222222222,
              "#7201a8"
             ],
             [
              0.3333333333333333,
              "#9c179e"
             ],
             [
              0.4444444444444444,
              "#bd3786"
             ],
             [
              0.5555555555555556,
              "#d8576b"
             ],
             [
              0.6666666666666666,
              "#ed7953"
             ],
             [
              0.7777777777777778,
              "#fb9f3a"
             ],
             [
              0.8888888888888888,
              "#fdca26"
             ],
             [
              1,
              "#f0f921"
             ]
            ],
            "type": "histogram2d"
           }
          ],
          "histogram2dcontour": [
           {
            "colorbar": {
             "outlinewidth": 0,
             "ticks": ""
            },
            "colorscale": [
             [
              0,
              "#0d0887"
             ],
             [
              0.1111111111111111,
              "#46039f"
             ],
             [
              0.2222222222222222,
              "#7201a8"
             ],
             [
              0.3333333333333333,
              "#9c179e"
             ],
             [
              0.4444444444444444,
              "#bd3786"
             ],
             [
              0.5555555555555556,
              "#d8576b"
             ],
             [
              0.6666666666666666,
              "#ed7953"
             ],
             [
              0.7777777777777778,
              "#fb9f3a"
             ],
             [
              0.8888888888888888,
              "#fdca26"
             ],
             [
              1,
              "#f0f921"
             ]
            ],
            "type": "histogram2dcontour"
           }
          ],
          "mesh3d": [
           {
            "colorbar": {
             "outlinewidth": 0,
             "ticks": ""
            },
            "type": "mesh3d"
           }
          ],
          "parcoords": [
           {
            "line": {
             "colorbar": {
              "outlinewidth": 0,
              "ticks": ""
             }
            },
            "type": "parcoords"
           }
          ],
          "pie": [
           {
            "automargin": true,
            "type": "pie"
           }
          ],
          "scatter": [
           {
            "fillpattern": {
             "fillmode": "overlay",
             "size": 10,
             "solidity": 0.2
            },
            "type": "scatter"
           }
          ],
          "scatter3d": [
           {
            "line": {
             "colorbar": {
              "outlinewidth": 0,
              "ticks": ""
             }
            },
            "marker": {
             "colorbar": {
              "outlinewidth": 0,
              "ticks": ""
             }
            },
            "type": "scatter3d"
           }
          ],
          "scattercarpet": [
           {
            "marker": {
             "colorbar": {
              "outlinewidth": 0,
              "ticks": ""
             }
            },
            "type": "scattercarpet"
           }
          ],
          "scattergeo": [
           {
            "marker": {
             "colorbar": {
              "outlinewidth": 0,
              "ticks": ""
             }
            },
            "type": "scattergeo"
           }
          ],
          "scattergl": [
           {
            "marker": {
             "colorbar": {
              "outlinewidth": 0,
              "ticks": ""
             }
            },
            "type": "scattergl"
           }
          ],
          "scattermap": [
           {
            "marker": {
             "colorbar": {
              "outlinewidth": 0,
              "ticks": ""
             }
            },
            "type": "scattermap"
           }
          ],
          "scattermapbox": [
           {
            "marker": {
             "colorbar": {
              "outlinewidth": 0,
              "ticks": ""
             }
            },
            "type": "scattermapbox"
           }
          ],
          "scatterpolar": [
           {
            "marker": {
             "colorbar": {
              "outlinewidth": 0,
              "ticks": ""
             }
            },
            "type": "scatterpolar"
           }
          ],
          "scatterpolargl": [
           {
            "marker": {
             "colorbar": {
              "outlinewidth": 0,
              "ticks": ""
             }
            },
            "type": "scatterpolargl"
           }
          ],
          "scatterternary": [
           {
            "marker": {
             "colorbar": {
              "outlinewidth": 0,
              "ticks": ""
             }
            },
            "type": "scatterternary"
           }
          ],
          "surface": [
           {
            "colorbar": {
             "outlinewidth": 0,
             "ticks": ""
            },
            "colorscale": [
             [
              0,
              "#0d0887"
             ],
             [
              0.1111111111111111,
              "#46039f"
             ],
             [
              0.2222222222222222,
              "#7201a8"
             ],
             [
              0.3333333333333333,
              "#9c179e"
             ],
             [
              0.4444444444444444,
              "#bd3786"
             ],
             [
              0.5555555555555556,
              "#d8576b"
             ],
             [
              0.6666666666666666,
              "#ed7953"
             ],
             [
              0.7777777777777778,
              "#fb9f3a"
             ],
             [
              0.8888888888888888,
              "#fdca26"
             ],
             [
              1,
              "#f0f921"
             ]
            ],
            "type": "surface"
           }
          ],
          "table": [
           {
            "cells": {
             "fill": {
              "color": "#EBF0F8"
             },
             "line": {
              "color": "white"
             }
            },
            "header": {
             "fill": {
              "color": "#C8D4E3"
             },
             "line": {
              "color": "white"
             }
            },
            "type": "table"
           }
          ]
         },
         "layout": {
          "annotationdefaults": {
           "arrowcolor": "#2a3f5f",
           "arrowhead": 0,
           "arrowwidth": 1
          },
          "autotypenumbers": "strict",
          "coloraxis": {
           "colorbar": {
            "outlinewidth": 0,
            "ticks": ""
           }
          },
          "colorscale": {
           "diverging": [
            [
             0,
             "#8e0152"
            ],
            [
             0.1,
             "#c51b7d"
            ],
            [
             0.2,
             "#de77ae"
            ],
            [
             0.3,
             "#f1b6da"
            ],
            [
             0.4,
             "#fde0ef"
            ],
            [
             0.5,
             "#f7f7f7"
            ],
            [
             0.6,
             "#e6f5d0"
            ],
            [
             0.7,
             "#b8e186"
            ],
            [
             0.8,
             "#7fbc41"
            ],
            [
             0.9,
             "#4d9221"
            ],
            [
             1,
             "#276419"
            ]
           ],
           "sequential": [
            [
             0,
             "#0d0887"
            ],
            [
             0.1111111111111111,
             "#46039f"
            ],
            [
             0.2222222222222222,
             "#7201a8"
            ],
            [
             0.3333333333333333,
             "#9c179e"
            ],
            [
             0.4444444444444444,
             "#bd3786"
            ],
            [
             0.5555555555555556,
             "#d8576b"
            ],
            [
             0.6666666666666666,
             "#ed7953"
            ],
            [
             0.7777777777777778,
             "#fb9f3a"
            ],
            [
             0.8888888888888888,
             "#fdca26"
            ],
            [
             1,
             "#f0f921"
            ]
           ],
           "sequentialminus": [
            [
             0,
             "#0d0887"
            ],
            [
             0.1111111111111111,
             "#46039f"
            ],
            [
             0.2222222222222222,
             "#7201a8"
            ],
            [
             0.3333333333333333,
             "#9c179e"
            ],
            [
             0.4444444444444444,
             "#bd3786"
            ],
            [
             0.5555555555555556,
             "#d8576b"
            ],
            [
             0.6666666666666666,
             "#ed7953"
            ],
            [
             0.7777777777777778,
             "#fb9f3a"
            ],
            [
             0.8888888888888888,
             "#fdca26"
            ],
            [
             1,
             "#f0f921"
            ]
           ]
          },
          "colorway": [
           "#636efa",
           "#EF553B",
           "#00cc96",
           "#ab63fa",
           "#FFA15A",
           "#19d3f3",
           "#FF6692",
           "#B6E880",
           "#FF97FF",
           "#FECB52"
          ],
          "font": {
           "color": "#2a3f5f"
          },
          "geo": {
           "bgcolor": "white",
           "lakecolor": "white",
           "landcolor": "white",
           "showlakes": true,
           "showland": true,
           "subunitcolor": "#C8D4E3"
          },
          "hoverlabel": {
           "align": "left"
          },
          "hovermode": "closest",
          "mapbox": {
           "style": "light"
          },
          "paper_bgcolor": "white",
          "plot_bgcolor": "white",
          "polar": {
           "angularaxis": {
            "gridcolor": "#EBF0F8",
            "linecolor": "#EBF0F8",
            "ticks": ""
           },
           "bgcolor": "white",
           "radialaxis": {
            "gridcolor": "#EBF0F8",
            "linecolor": "#EBF0F8",
            "ticks": ""
           }
          },
          "scene": {
           "xaxis": {
            "backgroundcolor": "white",
            "gridcolor": "#DFE8F3",
            "gridwidth": 2,
            "linecolor": "#EBF0F8",
            "showbackground": true,
            "ticks": "",
            "zerolinecolor": "#EBF0F8"
           },
           "yaxis": {
            "backgroundcolor": "white",
            "gridcolor": "#DFE8F3",
            "gridwidth": 2,
            "linecolor": "#EBF0F8",
            "showbackground": true,
            "ticks": "",
            "zerolinecolor": "#EBF0F8"
           },
           "zaxis": {
            "backgroundcolor": "white",
            "gridcolor": "#DFE8F3",
            "gridwidth": 2,
            "linecolor": "#EBF0F8",
            "showbackground": true,
            "ticks": "",
            "zerolinecolor": "#EBF0F8"
           }
          },
          "shapedefaults": {
           "line": {
            "color": "#2a3f5f"
           }
          },
          "ternary": {
           "aaxis": {
            "gridcolor": "#DFE8F3",
            "linecolor": "#A2B1C6",
            "ticks": ""
           },
           "baxis": {
            "gridcolor": "#DFE8F3",
            "linecolor": "#A2B1C6",
            "ticks": ""
           },
           "bgcolor": "white",
           "caxis": {
            "gridcolor": "#DFE8F3",
            "linecolor": "#A2B1C6",
            "ticks": ""
           }
          },
          "title": {
           "x": 0.05
          },
          "xaxis": {
           "automargin": true,
           "gridcolor": "#EBF0F8",
           "linecolor": "#EBF0F8",
           "ticks": "",
           "title": {
            "standoff": 15
           },
           "zerolinecolor": "#EBF0F8",
           "zerolinewidth": 2
          },
          "yaxis": {
           "automargin": true,
           "gridcolor": "#EBF0F8",
           "linecolor": "#EBF0F8",
           "ticks": "",
           "title": {
            "standoff": 15
           },
           "zerolinecolor": "#EBF0F8",
           "zerolinewidth": 2
          }
         }
        },
        "title": {
         "text": "YoY Growth: Total, Non‑Oil, and Oil Exports"
        },
        "xaxis": {
         "title": {
          "text": "Year"
         }
        },
        "yaxis": {
         "title": {
          "text": "YoY Growth (%)"
         }
        }
       }
      }
     },
     "metadata": {},
     "output_type": "display_data"
    }
   ],
   "source": [
    "\n",
    "fig3 = go.Figure()\n",
    "for col, label in [(\"YoY_Total_%\",\"Total Exports\"), (\"YoY_NonOil_%\",\"Non‑Oil Exports\"), (\"YoY_Oil_%\",\"Oil Exports\")]:\n",
    "    fig3.add_trace(go.Scatter(x=series[\"year\"], y=series[col], mode=\"lines+markers\", name=label))\n",
    "fig3.add_hline(y=0, line_dash=\"dot\", line_color=\"gray\")\n",
    "fig3.update_layout(title=\"YoY Growth: Total, Non‑Oil, and Oil Exports\",\n",
    "                   xaxis_title=\"Year\", yaxis_title=\"YoY Growth (%)\", template=\"plotly_white\")\n",
    "fig3.show()\n"
   ]
  },
  {
   "cell_type": "markdown",
   "id": "3364b01c",
   "metadata": {},
   "source": [
    "## 13) Chart — Number of Exported Products (Export only)"
   ]
  },
  {
   "cell_type": "code",
   "execution_count": 87,
   "id": "96c77388",
   "metadata": {},
   "outputs": [
    {
     "data": {
      "application/vnd.plotly.v1+json": {
       "config": {
        "plotlyServerURL": "https://plot.ly"
       },
       "data": [
        {
         "hovertemplate": "oil_flag=Non‑Oil<br>year=%{x}<br>hs_code=%{y}<extra></extra>",
         "legendgroup": "Non‑Oil",
         "line": {
          "color": "#636efa",
          "dash": "solid",
          "width": 3
         },
         "marker": {
          "symbol": "circle"
         },
         "mode": "lines+markers",
         "name": "Non‑Oil",
         "orientation": "v",
         "showlegend": true,
         "type": "scatter",
         "x": {
          "bdata": "zgfPB9AH0QfSB9MH1AfVB9YH1wfYB9kH2gfbB9wH3QfeB98H4AfhB+IH4wfkB+UH5gfnB+gH",
          "dtype": "i2"
         },
         "xaxis": "x",
         "y": {
          "bdata": "tQGWAVECGwKbApsCtgIIAuMBHAKfArkD3gQRBaEFIQWQBcgFEAf6BssGcAfpB1UIPQhlCOkG",
          "dtype": "i2"
         },
         "yaxis": "y"
        },
        {
         "hovertemplate": "oil_flag=Oil (HS 27)<br>year=%{x}<br>hs_code=%{y}<extra></extra>",
         "legendgroup": "Oil (HS 27)",
         "line": {
          "color": "#EF553B",
          "dash": "solid",
          "width": 3
         },
         "marker": {
          "symbol": "circle"
         },
         "mode": "lines+markers",
         "name": "Oil (HS 27)",
         "orientation": "v",
         "showlegend": true,
         "type": "scatter",
         "x": {
          "bdata": "zgfPB9AH0QfSB9MH1AfVB9YH1wfYB9kH2gfbB9wH3QfeB98H4AfhB+IH4wfkB+UH5gfnB+gH",
          "dtype": "i2"
         },
         "xaxis": "x",
         "y": {
          "bdata": "CAcPCw4KDgcIDQ4bFiMeJiUgKicgJSIjIygl",
          "dtype": "i1"
         },
         "yaxis": "y"
        }
       ],
       "layout": {
        "legend": {
         "title": {
          "text": "oil_flag"
         },
         "tracegroupgap": 0
        },
        "template": {
         "data": {
          "bar": [
           {
            "error_x": {
             "color": "#2a3f5f"
            },
            "error_y": {
             "color": "#2a3f5f"
            },
            "marker": {
             "line": {
              "color": "white",
              "width": 0.5
             },
             "pattern": {
              "fillmode": "overlay",
              "size": 10,
              "solidity": 0.2
             }
            },
            "type": "bar"
           }
          ],
          "barpolar": [
           {
            "marker": {
             "line": {
              "color": "white",
              "width": 0.5
             },
             "pattern": {
              "fillmode": "overlay",
              "size": 10,
              "solidity": 0.2
             }
            },
            "type": "barpolar"
           }
          ],
          "carpet": [
           {
            "aaxis": {
             "endlinecolor": "#2a3f5f",
             "gridcolor": "#C8D4E3",
             "linecolor": "#C8D4E3",
             "minorgridcolor": "#C8D4E3",
             "startlinecolor": "#2a3f5f"
            },
            "baxis": {
             "endlinecolor": "#2a3f5f",
             "gridcolor": "#C8D4E3",
             "linecolor": "#C8D4E3",
             "minorgridcolor": "#C8D4E3",
             "startlinecolor": "#2a3f5f"
            },
            "type": "carpet"
           }
          ],
          "choropleth": [
           {
            "colorbar": {
             "outlinewidth": 0,
             "ticks": ""
            },
            "type": "choropleth"
           }
          ],
          "contour": [
           {
            "colorbar": {
             "outlinewidth": 0,
             "ticks": ""
            },
            "colorscale": [
             [
              0,
              "#0d0887"
             ],
             [
              0.1111111111111111,
              "#46039f"
             ],
             [
              0.2222222222222222,
              "#7201a8"
             ],
             [
              0.3333333333333333,
              "#9c179e"
             ],
             [
              0.4444444444444444,
              "#bd3786"
             ],
             [
              0.5555555555555556,
              "#d8576b"
             ],
             [
              0.6666666666666666,
              "#ed7953"
             ],
             [
              0.7777777777777778,
              "#fb9f3a"
             ],
             [
              0.8888888888888888,
              "#fdca26"
             ],
             [
              1,
              "#f0f921"
             ]
            ],
            "type": "contour"
           }
          ],
          "contourcarpet": [
           {
            "colorbar": {
             "outlinewidth": 0,
             "ticks": ""
            },
            "type": "contourcarpet"
           }
          ],
          "heatmap": [
           {
            "colorbar": {
             "outlinewidth": 0,
             "ticks": ""
            },
            "colorscale": [
             [
              0,
              "#0d0887"
             ],
             [
              0.1111111111111111,
              "#46039f"
             ],
             [
              0.2222222222222222,
              "#7201a8"
             ],
             [
              0.3333333333333333,
              "#9c179e"
             ],
             [
              0.4444444444444444,
              "#bd3786"
             ],
             [
              0.5555555555555556,
              "#d8576b"
             ],
             [
              0.6666666666666666,
              "#ed7953"
             ],
             [
              0.7777777777777778,
              "#fb9f3a"
             ],
             [
              0.8888888888888888,
              "#fdca26"
             ],
             [
              1,
              "#f0f921"
             ]
            ],
            "type": "heatmap"
           }
          ],
          "histogram": [
           {
            "marker": {
             "pattern": {
              "fillmode": "overlay",
              "size": 10,
              "solidity": 0.2
             }
            },
            "type": "histogram"
           }
          ],
          "histogram2d": [
           {
            "colorbar": {
             "outlinewidth": 0,
             "ticks": ""
            },
            "colorscale": [
             [
              0,
              "#0d0887"
             ],
             [
              0.1111111111111111,
              "#46039f"
             ],
             [
              0.2222222222222222,
              "#7201a8"
             ],
             [
              0.3333333333333333,
              "#9c179e"
             ],
             [
              0.4444444444444444,
              "#bd3786"
             ],
             [
              0.5555555555555556,
              "#d8576b"
             ],
             [
              0.6666666666666666,
              "#ed7953"
             ],
             [
              0.7777777777777778,
              "#fb9f3a"
             ],
             [
              0.8888888888888888,
              "#fdca26"
             ],
             [
              1,
              "#f0f921"
             ]
            ],
            "type": "histogram2d"
           }
          ],
          "histogram2dcontour": [
           {
            "colorbar": {
             "outlinewidth": 0,
             "ticks": ""
            },
            "colorscale": [
             [
              0,
              "#0d0887"
             ],
             [
              0.1111111111111111,
              "#46039f"
             ],
             [
              0.2222222222222222,
              "#7201a8"
             ],
             [
              0.3333333333333333,
              "#9c179e"
             ],
             [
              0.4444444444444444,
              "#bd3786"
             ],
             [
              0.5555555555555556,
              "#d8576b"
             ],
             [
              0.6666666666666666,
              "#ed7953"
             ],
             [
              0.7777777777777778,
              "#fb9f3a"
             ],
             [
              0.8888888888888888,
              "#fdca26"
             ],
             [
              1,
              "#f0f921"
             ]
            ],
            "type": "histogram2dcontour"
           }
          ],
          "mesh3d": [
           {
            "colorbar": {
             "outlinewidth": 0,
             "ticks": ""
            },
            "type": "mesh3d"
           }
          ],
          "parcoords": [
           {
            "line": {
             "colorbar": {
              "outlinewidth": 0,
              "ticks": ""
             }
            },
            "type": "parcoords"
           }
          ],
          "pie": [
           {
            "automargin": true,
            "type": "pie"
           }
          ],
          "scatter": [
           {
            "fillpattern": {
             "fillmode": "overlay",
             "size": 10,
             "solidity": 0.2
            },
            "type": "scatter"
           }
          ],
          "scatter3d": [
           {
            "line": {
             "colorbar": {
              "outlinewidth": 0,
              "ticks": ""
             }
            },
            "marker": {
             "colorbar": {
              "outlinewidth": 0,
              "ticks": ""
             }
            },
            "type": "scatter3d"
           }
          ],
          "scattercarpet": [
           {
            "marker": {
             "colorbar": {
              "outlinewidth": 0,
              "ticks": ""
             }
            },
            "type": "scattercarpet"
           }
          ],
          "scattergeo": [
           {
            "marker": {
             "colorbar": {
              "outlinewidth": 0,
              "ticks": ""
             }
            },
            "type": "scattergeo"
           }
          ],
          "scattergl": [
           {
            "marker": {
             "colorbar": {
              "outlinewidth": 0,
              "ticks": ""
             }
            },
            "type": "scattergl"
           }
          ],
          "scattermap": [
           {
            "marker": {
             "colorbar": {
              "outlinewidth": 0,
              "ticks": ""
             }
            },
            "type": "scattermap"
           }
          ],
          "scattermapbox": [
           {
            "marker": {
             "colorbar": {
              "outlinewidth": 0,
              "ticks": ""
             }
            },
            "type": "scattermapbox"
           }
          ],
          "scatterpolar": [
           {
            "marker": {
             "colorbar": {
              "outlinewidth": 0,
              "ticks": ""
             }
            },
            "type": "scatterpolar"
           }
          ],
          "scatterpolargl": [
           {
            "marker": {
             "colorbar": {
              "outlinewidth": 0,
              "ticks": ""
             }
            },
            "type": "scatterpolargl"
           }
          ],
          "scatterternary": [
           {
            "marker": {
             "colorbar": {
              "outlinewidth": 0,
              "ticks": ""
             }
            },
            "type": "scatterternary"
           }
          ],
          "surface": [
           {
            "colorbar": {
             "outlinewidth": 0,
             "ticks": ""
            },
            "colorscale": [
             [
              0,
              "#0d0887"
             ],
             [
              0.1111111111111111,
              "#46039f"
             ],
             [
              0.2222222222222222,
              "#7201a8"
             ],
             [
              0.3333333333333333,
              "#9c179e"
             ],
             [
              0.4444444444444444,
              "#bd3786"
             ],
             [
              0.5555555555555556,
              "#d8576b"
             ],
             [
              0.6666666666666666,
              "#ed7953"
             ],
             [
              0.7777777777777778,
              "#fb9f3a"
             ],
             [
              0.8888888888888888,
              "#fdca26"
             ],
             [
              1,
              "#f0f921"
             ]
            ],
            "type": "surface"
           }
          ],
          "table": [
           {
            "cells": {
             "fill": {
              "color": "#EBF0F8"
             },
             "line": {
              "color": "white"
             }
            },
            "header": {
             "fill": {
              "color": "#C8D4E3"
             },
             "line": {
              "color": "white"
             }
            },
            "type": "table"
           }
          ]
         },
         "layout": {
          "annotationdefaults": {
           "arrowcolor": "#2a3f5f",
           "arrowhead": 0,
           "arrowwidth": 1
          },
          "autotypenumbers": "strict",
          "coloraxis": {
           "colorbar": {
            "outlinewidth": 0,
            "ticks": ""
           }
          },
          "colorscale": {
           "diverging": [
            [
             0,
             "#8e0152"
            ],
            [
             0.1,
             "#c51b7d"
            ],
            [
             0.2,
             "#de77ae"
            ],
            [
             0.3,
             "#f1b6da"
            ],
            [
             0.4,
             "#fde0ef"
            ],
            [
             0.5,
             "#f7f7f7"
            ],
            [
             0.6,
             "#e6f5d0"
            ],
            [
             0.7,
             "#b8e186"
            ],
            [
             0.8,
             "#7fbc41"
            ],
            [
             0.9,
             "#4d9221"
            ],
            [
             1,
             "#276419"
            ]
           ],
           "sequential": [
            [
             0,
             "#0d0887"
            ],
            [
             0.1111111111111111,
             "#46039f"
            ],
            [
             0.2222222222222222,
             "#7201a8"
            ],
            [
             0.3333333333333333,
             "#9c179e"
            ],
            [
             0.4444444444444444,
             "#bd3786"
            ],
            [
             0.5555555555555556,
             "#d8576b"
            ],
            [
             0.6666666666666666,
             "#ed7953"
            ],
            [
             0.7777777777777778,
             "#fb9f3a"
            ],
            [
             0.8888888888888888,
             "#fdca26"
            ],
            [
             1,
             "#f0f921"
            ]
           ],
           "sequentialminus": [
            [
             0,
             "#0d0887"
            ],
            [
             0.1111111111111111,
             "#46039f"
            ],
            [
             0.2222222222222222,
             "#7201a8"
            ],
            [
             0.3333333333333333,
             "#9c179e"
            ],
            [
             0.4444444444444444,
             "#bd3786"
            ],
            [
             0.5555555555555556,
             "#d8576b"
            ],
            [
             0.6666666666666666,
             "#ed7953"
            ],
            [
             0.7777777777777778,
             "#fb9f3a"
            ],
            [
             0.8888888888888888,
             "#fdca26"
            ],
            [
             1,
             "#f0f921"
            ]
           ]
          },
          "colorway": [
           "#636efa",
           "#EF553B",
           "#00cc96",
           "#ab63fa",
           "#FFA15A",
           "#19d3f3",
           "#FF6692",
           "#B6E880",
           "#FF97FF",
           "#FECB52"
          ],
          "font": {
           "color": "#2a3f5f"
          },
          "geo": {
           "bgcolor": "white",
           "lakecolor": "white",
           "landcolor": "white",
           "showlakes": true,
           "showland": true,
           "subunitcolor": "#C8D4E3"
          },
          "hoverlabel": {
           "align": "left"
          },
          "hovermode": "closest",
          "mapbox": {
           "style": "light"
          },
          "paper_bgcolor": "white",
          "plot_bgcolor": "white",
          "polar": {
           "angularaxis": {
            "gridcolor": "#EBF0F8",
            "linecolor": "#EBF0F8",
            "ticks": ""
           },
           "bgcolor": "white",
           "radialaxis": {
            "gridcolor": "#EBF0F8",
            "linecolor": "#EBF0F8",
            "ticks": ""
           }
          },
          "scene": {
           "xaxis": {
            "backgroundcolor": "white",
            "gridcolor": "#DFE8F3",
            "gridwidth": 2,
            "linecolor": "#EBF0F8",
            "showbackground": true,
            "ticks": "",
            "zerolinecolor": "#EBF0F8"
           },
           "yaxis": {
            "backgroundcolor": "white",
            "gridcolor": "#DFE8F3",
            "gridwidth": 2,
            "linecolor": "#EBF0F8",
            "showbackground": true,
            "ticks": "",
            "zerolinecolor": "#EBF0F8"
           },
           "zaxis": {
            "backgroundcolor": "white",
            "gridcolor": "#DFE8F3",
            "gridwidth": 2,
            "linecolor": "#EBF0F8",
            "showbackground": true,
            "ticks": "",
            "zerolinecolor": "#EBF0F8"
           }
          },
          "shapedefaults": {
           "line": {
            "color": "#2a3f5f"
           }
          },
          "ternary": {
           "aaxis": {
            "gridcolor": "#DFE8F3",
            "linecolor": "#A2B1C6",
            "ticks": ""
           },
           "baxis": {
            "gridcolor": "#DFE8F3",
            "linecolor": "#A2B1C6",
            "ticks": ""
           },
           "bgcolor": "white",
           "caxis": {
            "gridcolor": "#DFE8F3",
            "linecolor": "#A2B1C6",
            "ticks": ""
           }
          },
          "title": {
           "x": 0.05
          },
          "xaxis": {
           "automargin": true,
           "gridcolor": "#EBF0F8",
           "linecolor": "#EBF0F8",
           "ticks": "",
           "title": {
            "standoff": 15
           },
           "zerolinecolor": "#EBF0F8",
           "zerolinewidth": 2
          },
          "yaxis": {
           "automargin": true,
           "gridcolor": "#EBF0F8",
           "linecolor": "#EBF0F8",
           "ticks": "",
           "title": {
            "standoff": 15
           },
           "zerolinecolor": "#EBF0F8",
           "zerolinewidth": 2
          }
         }
        },
        "title": {
         "text": "Number of Products Exported (Export only)"
        },
        "xaxis": {
         "anchor": "y",
         "domain": [
          0,
          1
         ],
         "title": {
          "text": "year"
         }
        },
        "yaxis": {
         "anchor": "x",
         "domain": [
          0,
          1
         ],
         "title": {
          "text": "Unique HS Codes"
         }
        }
       }
      }
     },
     "metadata": {},
     "output_type": "display_data"
    }
   ],
   "source": [
    "\n",
    "exp_only = df[df[\"trade_type\"]==\"Export\"]\n",
    "counts = (exp_only[exp_only[\"value_omr\"]>0]\n",
    "          .groupby([\"year\",\"oil_flag\"])[\"hs_code\"].nunique()\n",
    "          .reset_index())\n",
    "\n",
    "fig4 = px.line(counts, x=\"year\", y=\"hs_code\", color=\"oil_flag\",\n",
    "               markers=True, title=\"Number of Products Exported (Export only)\")\n",
    "fig4.update_traces(line=dict(width=3))\n",
    "fig4.update_layout(template=\"plotly_white\", yaxis_title=\"Unique HS Codes\")\n",
    "fig4.show()\n"
   ]
  },
  {
   "cell_type": "markdown",
   "id": "5f84244d",
   "metadata": {},
   "source": [
    "## 14) Build BEC Aggregates"
   ]
  },
  {
   "cell_type": "code",
   "execution_count": 88,
   "id": "f3cc1491",
   "metadata": {},
   "outputs": [
    {
     "data": {
      "text/plain": [
       "(   year            bec_broad  value_omr\n",
       " 0  1998        Capital Goods 15,478,039\n",
       " 1  1998       Consumer Goods 56,912,438\n",
       " 2  1998     Food & Beverages 18,567,947\n",
       " 3  1998   Fuels & Lubricants  5,253,125\n",
       " 4  1998  Industrial Supplies 89,898,845,\n",
       "    year            bec_broad     value_omr\n",
       " 0  1998        Capital Goods   115,292,346\n",
       " 1  1998       Consumer Goods   151,677,852\n",
       " 2  1998     Food & Beverages    28,914,844\n",
       " 3  1998   Fuels & Lubricants 1,399,275,995\n",
       " 4  1998  Industrial Supplies   129,795,343)"
      ]
     },
     "execution_count": 88,
     "metadata": {},
     "output_type": "execute_result"
    }
   ],
   "source": [
    "\n",
    "# Non‑Oil Exports by BEC (Export only)\n",
    "non_oil_bec = (df[(df[\"trade_type\"]==\"Export\") & (df[\"oil_flag\"]==\"Non‑Oil\")]\n",
    "               .groupby([\"year\",\"bec_broad\"], as_index=False)[\"value_omr\"].sum())\n",
    "\n",
    "# Total Exports by BEC (Export + Re‑Export; Imports excluded)\n",
    "total_bec = (df[df[\"trade_type\"].isin([\"Export\",\"Re-Export\"])]\n",
    "             .groupby([\"year\",\"bec_broad\"], as_index=False)[\"value_omr\"].sum())\n",
    "\n",
    "non_oil_bec.head(), total_bec.head()\n"
   ]
  },
  {
   "cell_type": "markdown",
   "id": "108afaa3",
   "metadata": {},
   "source": [
    "## 15) Charts — BEC (Stacked Areas)"
   ]
  },
  {
   "cell_type": "code",
   "execution_count": 89,
   "id": "3ce6e018",
   "metadata": {},
   "outputs": [
    {
     "data": {
      "application/vnd.plotly.v1+json": {
       "config": {
        "plotlyServerURL": "https://plot.ly"
       },
       "data": [
        {
         "name": "Capital Goods",
         "stackgroup": "one",
         "type": "scatter",
         "x": {
          "bdata": "zgfPB9AH0QfSB9MH1AfVB9YH1wfYB9kH2gfbB9wH3QfeB98H4AfhB+IH4wfkB+UH5gfnB+gH",
          "dtype": "i2"
         },
         "y": {
          "bdata": "AAAA4KKFbUEAAABgsbdiQQAAACCQymhBAAAAkD6HcEEAAAAQ1hRyQQAAAFCKCHRBAAAAADAbfUEAAADgEXmFQQAAAGhdWZVBAAAASkpppUEAAAC2aNGrQQAAALTJSaBBAAAA0PHtmkEAAACoHkWdQQAAAFDA15pBAAAAvPpkoEEAAAAAw6OiQQAAAH4saaFBAAAA6Jnbm0EAAAAg/6uYQQAAAPgvr6JBAAAAfCk4nEEAAADoizqcQQAAAFrfa6NBAAAA/E6co0EAAADbekK2QQAAAJJbW7BB",
          "dtype": "f8"
         }
        },
        {
         "name": "Consumer Goods",
         "stackgroup": "one",
         "type": "scatter",
         "x": {
          "bdata": "zgfPB9AH0QfSB9MH1AfVB9YH1wfYB9kH2gfbB9wH3QfeB98H4AfhB+IH4wfkB+UH5gfnB+gH",
          "dtype": "i2"
         },
         "y": {
          "bdata": "AAAAsFEji0EAAADgzcqIQQAAAAD05YtBAAAAKJeBjEEAAADwXq+JQQAAAEiQ7IxBAAAAiGjYjkEAAADoANOQQQAAAPhBhYtBAAAAsBOQj0EAAABECMuVQQAAAIiY8plBAAAAFDkJnEEAAAAU2iacQQAAADIIz6BBAAAAmlTmoEEAAABkNGmkQQAAAJSDwqRBAAAAGiFnpEEAAADYZpSmQQAAAKxbMahBAAAAmNctrUEAAACWPJSxQQAAAKiXfa9BAAAAqnzusEEAAABV/JKyQQAAAO8aQrRB",
          "dtype": "f8"
         }
        },
        {
         "name": "Food & Beverages",
         "stackgroup": "one",
         "type": "scatter",
         "x": {
          "bdata": "zgfPB9AH0QfSB9MH1AfVB9YH1wfYB9kH2gfbB9wH3QfeB98H4AfhB+IH4wfkB+UH5gfnB+gH",
          "dtype": "i2"
         },
         "y": {
          "bdata": "AAAAsDC1cUEAAAAgIFxsQQAAABCK+nNBAAAA0GwndEEAAADwX5FzQQAAAGAPwmtBAAAAIOkRaUEAAABAMPBwQQAAAOAwk25BAAAA4F4YaUEAAABwveJwQQAAAODR7m9BAAAAkFmWeUEAAADQwiF4QQAAALDzNHdBAAAA0KsrlEEAAACgMrCMQQAAAODITI9BAAAACGwEjkEAAABwlFaMQQAAANhKOoxBAAAA+HSIh0EAAABg5bSGQQAAAAj8OohBAAAA4GErjEEAAADQZIWJQQAAABiNd4pB",
          "dtype": "f8"
         }
        },
        {
         "name": "Fuels & Lubricants",
         "stackgroup": "one",
         "type": "scatter",
         "x": {
          "bdata": "zgfPB9AH0QfSB9MH1AfVB9YH1wfYB9kH2gfbB9wH3QfeB98H4AfhB+IH4wfkB+UH5gfnB+gH",
          "dtype": "i2"
         },
         "y": {
          "bdata": "AAAAQAEKVEEAAABgvpJjQQAAAAAUtW1BAAAAQDsUcUEAAADgTEN0QQAAAEAqHXxBAAAA0PkZfEEAAADQEmOAQQAAABBS4IhBAAAAfP48kUEAAAAQJTCZQQAAAGANVJJBAAAA2EVflkEAAADo1+qjQQAAABtAzrFBAACAxjHZwEEAAADWzV60QQAAAMT+F6tBAAAABCpZnkEAAAAty0S7QQAAANkFjrtBAAAA7Uggs0EAAAAKTWq3QQAAgEY9OMBBAAAAHimYz0EAAIDWL07JQQAAgK4k/slB",
          "dtype": "f8"
         }
        },
        {
         "name": "Industrial Supplies",
         "stackgroup": "one",
         "type": "scatter",
         "x": {
          "bdata": "zgfPB9AH0QfSB9MH1AfVB9YH1wfYB9kH2gfbB9wH3QfeB98H4AfhB+IH4wfkB+UH5gfnB+gH",
          "dtype": "i2"
         },
         "y": {
          "bdata": "AAAAdP1ulUEAAACwweuXQQAAACy2yp1BAAAARuESoEEAAAD8h3CgQQAAACKuoKRBAAAAzAgKsEEAAADNXyO2QQAAALwdyrlBAACAIyxVwUEAAAB84Y/NQQAAgGYKntFBAAAA/iWB10EAAOBNU3DhQQAAwOKCN+FBAACgP3Ab4EEAAAAikWDiQQAAwEiDJd5BAABAXdpE10EAAEDVmT/dQQAAgOm1qOJBAADgWtvb4EEAAKCjfb7iQQAAYOxqDu1BAACQXchj8UEAAKC8gcbsQQAAwPfjHulB",
          "dtype": "f8"
         }
        },
        {
         "name": "Special Category",
         "stackgroup": "one",
         "type": "scatter",
         "x": {
          "bdata": "zgfPB9AH0QfSB9MH1AfVB9YH1wfYB9kH2gfbB9wH3QfeB98H4AfhB+IH4wfkB+UH5gfnB+gH",
          "dtype": "i2"
         },
         "y": {
          "bdata": "AAAAAAAkzkAAAAAAAPPGQAAAAAAAiJNAAAAAAAAAAAAAAAAAAMBdQAAAAAAAAAAAAAAAAAAAeUAAAAAAAOBsQAAAAAAAAAAAAAAAAAAAAAAAAAAAABiVQAAAAABQ4ghBAAAAAAAAAAAAAAAAAAAAAAAAAAAAAAAAAAAAAAAAAAAAAAAAAAAAAAAAAAAAAAAAAAAAAAAAAAAAAAAAAAAAAAAAAICDpU1BAAAAACuHQEEAAAAAAAAAAAAAAAAAAAAAAAAAAAAAAAAAAAAAAAAAAAAAAABQBwdB",
          "dtype": "f8"
         }
        },
        {
         "name": "Transport Equipment",
         "stackgroup": "one",
         "type": "scatter",
         "x": {
          "bdata": "zgfPB9AH0QfSB9MH1AfVB9YH1wfYB9kH2gfbB9wH3QfeB98H4AfhB+IH4wfkB+UH5gfnB+gH",
          "dtype": "i2"
         },
         "y": {
          "bdata": "AAAAANheEEEAAAAAgEjMQAAAAACAssxAAAAAALSsEEEAAAAABIguQQAAAACoAwhBAAAAAKjEAkEAAAAAYLDyQAAAAACAbBpBAAAAAADZ+0AAAAAAOsJRQQAAAAA8ik1BAAAAAMyVKUEAAAAAsHdQQQAAAIAmQEtBAAAAADNNSUEAAADgkBlsQQAAAICCJ3VBAAAAgLOtTUEAAAAABro4QQAAAH6+aKBBAAAAEm+6pUEAAAAQf8V+QQAAAJB1oZJBAAAAYKmkb0EAAADQjkV1QQAAAOAfbntB",
          "dtype": "f8"
         }
        }
       ],
       "layout": {
        "template": {
         "data": {
          "bar": [
           {
            "error_x": {
             "color": "#2a3f5f"
            },
            "error_y": {
             "color": "#2a3f5f"
            },
            "marker": {
             "line": {
              "color": "white",
              "width": 0.5
             },
             "pattern": {
              "fillmode": "overlay",
              "size": 10,
              "solidity": 0.2
             }
            },
            "type": "bar"
           }
          ],
          "barpolar": [
           {
            "marker": {
             "line": {
              "color": "white",
              "width": 0.5
             },
             "pattern": {
              "fillmode": "overlay",
              "size": 10,
              "solidity": 0.2
             }
            },
            "type": "barpolar"
           }
          ],
          "carpet": [
           {
            "aaxis": {
             "endlinecolor": "#2a3f5f",
             "gridcolor": "#C8D4E3",
             "linecolor": "#C8D4E3",
             "minorgridcolor": "#C8D4E3",
             "startlinecolor": "#2a3f5f"
            },
            "baxis": {
             "endlinecolor": "#2a3f5f",
             "gridcolor": "#C8D4E3",
             "linecolor": "#C8D4E3",
             "minorgridcolor": "#C8D4E3",
             "startlinecolor": "#2a3f5f"
            },
            "type": "carpet"
           }
          ],
          "choropleth": [
           {
            "colorbar": {
             "outlinewidth": 0,
             "ticks": ""
            },
            "type": "choropleth"
           }
          ],
          "contour": [
           {
            "colorbar": {
             "outlinewidth": 0,
             "ticks": ""
            },
            "colorscale": [
             [
              0,
              "#0d0887"
             ],
             [
              0.1111111111111111,
              "#46039f"
             ],
             [
              0.2222222222222222,
              "#7201a8"
             ],
             [
              0.3333333333333333,
              "#9c179e"
             ],
             [
              0.4444444444444444,
              "#bd3786"
             ],
             [
              0.5555555555555556,
              "#d8576b"
             ],
             [
              0.6666666666666666,
              "#ed7953"
             ],
             [
              0.7777777777777778,
              "#fb9f3a"
             ],
             [
              0.8888888888888888,
              "#fdca26"
             ],
             [
              1,
              "#f0f921"
             ]
            ],
            "type": "contour"
           }
          ],
          "contourcarpet": [
           {
            "colorbar": {
             "outlinewidth": 0,
             "ticks": ""
            },
            "type": "contourcarpet"
           }
          ],
          "heatmap": [
           {
            "colorbar": {
             "outlinewidth": 0,
             "ticks": ""
            },
            "colorscale": [
             [
              0,
              "#0d0887"
             ],
             [
              0.1111111111111111,
              "#46039f"
             ],
             [
              0.2222222222222222,
              "#7201a8"
             ],
             [
              0.3333333333333333,
              "#9c179e"
             ],
             [
              0.4444444444444444,
              "#bd3786"
             ],
             [
              0.5555555555555556,
              "#d8576b"
             ],
             [
              0.6666666666666666,
              "#ed7953"
             ],
             [
              0.7777777777777778,
              "#fb9f3a"
             ],
             [
              0.8888888888888888,
              "#fdca26"
             ],
             [
              1,
              "#f0f921"
             ]
            ],
            "type": "heatmap"
           }
          ],
          "histogram": [
           {
            "marker": {
             "pattern": {
              "fillmode": "overlay",
              "size": 10,
              "solidity": 0.2
             }
            },
            "type": "histogram"
           }
          ],
          "histogram2d": [
           {
            "colorbar": {
             "outlinewidth": 0,
             "ticks": ""
            },
            "colorscale": [
             [
              0,
              "#0d0887"
             ],
             [
              0.1111111111111111,
              "#46039f"
             ],
             [
              0.2222222222222222,
              "#7201a8"
             ],
             [
              0.3333333333333333,
              "#9c179e"
             ],
             [
              0.4444444444444444,
              "#bd3786"
             ],
             [
              0.5555555555555556,
              "#d8576b"
             ],
             [
              0.6666666666666666,
              "#ed7953"
             ],
             [
              0.7777777777777778,
              "#fb9f3a"
             ],
             [
              0.8888888888888888,
              "#fdca26"
             ],
             [
              1,
              "#f0f921"
             ]
            ],
            "type": "histogram2d"
           }
          ],
          "histogram2dcontour": [
           {
            "colorbar": {
             "outlinewidth": 0,
             "ticks": ""
            },
            "colorscale": [
             [
              0,
              "#0d0887"
             ],
             [
              0.1111111111111111,
              "#46039f"
             ],
             [
              0.2222222222222222,
              "#7201a8"
             ],
             [
              0.3333333333333333,
              "#9c179e"
             ],
             [
              0.4444444444444444,
              "#bd3786"
             ],
             [
              0.5555555555555556,
              "#d8576b"
             ],
             [
              0.6666666666666666,
              "#ed7953"
             ],
             [
              0.7777777777777778,
              "#fb9f3a"
             ],
             [
              0.8888888888888888,
              "#fdca26"
             ],
             [
              1,
              "#f0f921"
             ]
            ],
            "type": "histogram2dcontour"
           }
          ],
          "mesh3d": [
           {
            "colorbar": {
             "outlinewidth": 0,
             "ticks": ""
            },
            "type": "mesh3d"
           }
          ],
          "parcoords": [
           {
            "line": {
             "colorbar": {
              "outlinewidth": 0,
              "ticks": ""
             }
            },
            "type": "parcoords"
           }
          ],
          "pie": [
           {
            "automargin": true,
            "type": "pie"
           }
          ],
          "scatter": [
           {
            "fillpattern": {
             "fillmode": "overlay",
             "size": 10,
             "solidity": 0.2
            },
            "type": "scatter"
           }
          ],
          "scatter3d": [
           {
            "line": {
             "colorbar": {
              "outlinewidth": 0,
              "ticks": ""
             }
            },
            "marker": {
             "colorbar": {
              "outlinewidth": 0,
              "ticks": ""
             }
            },
            "type": "scatter3d"
           }
          ],
          "scattercarpet": [
           {
            "marker": {
             "colorbar": {
              "outlinewidth": 0,
              "ticks": ""
             }
            },
            "type": "scattercarpet"
           }
          ],
          "scattergeo": [
           {
            "marker": {
             "colorbar": {
              "outlinewidth": 0,
              "ticks": ""
             }
            },
            "type": "scattergeo"
           }
          ],
          "scattergl": [
           {
            "marker": {
             "colorbar": {
              "outlinewidth": 0,
              "ticks": ""
             }
            },
            "type": "scattergl"
           }
          ],
          "scattermap": [
           {
            "marker": {
             "colorbar": {
              "outlinewidth": 0,
              "ticks": ""
             }
            },
            "type": "scattermap"
           }
          ],
          "scattermapbox": [
           {
            "marker": {
             "colorbar": {
              "outlinewidth": 0,
              "ticks": ""
             }
            },
            "type": "scattermapbox"
           }
          ],
          "scatterpolar": [
           {
            "marker": {
             "colorbar": {
              "outlinewidth": 0,
              "ticks": ""
             }
            },
            "type": "scatterpolar"
           }
          ],
          "scatterpolargl": [
           {
            "marker": {
             "colorbar": {
              "outlinewidth": 0,
              "ticks": ""
             }
            },
            "type": "scatterpolargl"
           }
          ],
          "scatterternary": [
           {
            "marker": {
             "colorbar": {
              "outlinewidth": 0,
              "ticks": ""
             }
            },
            "type": "scatterternary"
           }
          ],
          "surface": [
           {
            "colorbar": {
             "outlinewidth": 0,
             "ticks": ""
            },
            "colorscale": [
             [
              0,
              "#0d0887"
             ],
             [
              0.1111111111111111,
              "#46039f"
             ],
             [
              0.2222222222222222,
              "#7201a8"
             ],
             [
              0.3333333333333333,
              "#9c179e"
             ],
             [
              0.4444444444444444,
              "#bd3786"
             ],
             [
              0.5555555555555556,
              "#d8576b"
             ],
             [
              0.6666666666666666,
              "#ed7953"
             ],
             [
              0.7777777777777778,
              "#fb9f3a"
             ],
             [
              0.8888888888888888,
              "#fdca26"
             ],
             [
              1,
              "#f0f921"
             ]
            ],
            "type": "surface"
           }
          ],
          "table": [
           {
            "cells": {
             "fill": {
              "color": "#EBF0F8"
             },
             "line": {
              "color": "white"
             }
            },
            "header": {
             "fill": {
              "color": "#C8D4E3"
             },
             "line": {
              "color": "white"
             }
            },
            "type": "table"
           }
          ]
         },
         "layout": {
          "annotationdefaults": {
           "arrowcolor": "#2a3f5f",
           "arrowhead": 0,
           "arrowwidth": 1
          },
          "autotypenumbers": "strict",
          "coloraxis": {
           "colorbar": {
            "outlinewidth": 0,
            "ticks": ""
           }
          },
          "colorscale": {
           "diverging": [
            [
             0,
             "#8e0152"
            ],
            [
             0.1,
             "#c51b7d"
            ],
            [
             0.2,
             "#de77ae"
            ],
            [
             0.3,
             "#f1b6da"
            ],
            [
             0.4,
             "#fde0ef"
            ],
            [
             0.5,
             "#f7f7f7"
            ],
            [
             0.6,
             "#e6f5d0"
            ],
            [
             0.7,
             "#b8e186"
            ],
            [
             0.8,
             "#7fbc41"
            ],
            [
             0.9,
             "#4d9221"
            ],
            [
             1,
             "#276419"
            ]
           ],
           "sequential": [
            [
             0,
             "#0d0887"
            ],
            [
             0.1111111111111111,
             "#46039f"
            ],
            [
             0.2222222222222222,
             "#7201a8"
            ],
            [
             0.3333333333333333,
             "#9c179e"
            ],
            [
             0.4444444444444444,
             "#bd3786"
            ],
            [
             0.5555555555555556,
             "#d8576b"
            ],
            [
             0.6666666666666666,
             "#ed7953"
            ],
            [
             0.7777777777777778,
             "#fb9f3a"
            ],
            [
             0.8888888888888888,
             "#fdca26"
            ],
            [
             1,
             "#f0f921"
            ]
           ],
           "sequentialminus": [
            [
             0,
             "#0d0887"
            ],
            [
             0.1111111111111111,
             "#46039f"
            ],
            [
             0.2222222222222222,
             "#7201a8"
            ],
            [
             0.3333333333333333,
             "#9c179e"
            ],
            [
             0.4444444444444444,
             "#bd3786"
            ],
            [
             0.5555555555555556,
             "#d8576b"
            ],
            [
             0.6666666666666666,
             "#ed7953"
            ],
            [
             0.7777777777777778,
             "#fb9f3a"
            ],
            [
             0.8888888888888888,
             "#fdca26"
            ],
            [
             1,
             "#f0f921"
            ]
           ]
          },
          "colorway": [
           "#636efa",
           "#EF553B",
           "#00cc96",
           "#ab63fa",
           "#FFA15A",
           "#19d3f3",
           "#FF6692",
           "#B6E880",
           "#FF97FF",
           "#FECB52"
          ],
          "font": {
           "color": "#2a3f5f"
          },
          "geo": {
           "bgcolor": "white",
           "lakecolor": "white",
           "landcolor": "white",
           "showlakes": true,
           "showland": true,
           "subunitcolor": "#C8D4E3"
          },
          "hoverlabel": {
           "align": "left"
          },
          "hovermode": "closest",
          "mapbox": {
           "style": "light"
          },
          "paper_bgcolor": "white",
          "plot_bgcolor": "white",
          "polar": {
           "angularaxis": {
            "gridcolor": "#EBF0F8",
            "linecolor": "#EBF0F8",
            "ticks": ""
           },
           "bgcolor": "white",
           "radialaxis": {
            "gridcolor": "#EBF0F8",
            "linecolor": "#EBF0F8",
            "ticks": ""
           }
          },
          "scene": {
           "xaxis": {
            "backgroundcolor": "white",
            "gridcolor": "#DFE8F3",
            "gridwidth": 2,
            "linecolor": "#EBF0F8",
            "showbackground": true,
            "ticks": "",
            "zerolinecolor": "#EBF0F8"
           },
           "yaxis": {
            "backgroundcolor": "white",
            "gridcolor": "#DFE8F3",
            "gridwidth": 2,
            "linecolor": "#EBF0F8",
            "showbackground": true,
            "ticks": "",
            "zerolinecolor": "#EBF0F8"
           },
           "zaxis": {
            "backgroundcolor": "white",
            "gridcolor": "#DFE8F3",
            "gridwidth": 2,
            "linecolor": "#EBF0F8",
            "showbackground": true,
            "ticks": "",
            "zerolinecolor": "#EBF0F8"
           }
          },
          "shapedefaults": {
           "line": {
            "color": "#2a3f5f"
           }
          },
          "ternary": {
           "aaxis": {
            "gridcolor": "#DFE8F3",
            "linecolor": "#A2B1C6",
            "ticks": ""
           },
           "baxis": {
            "gridcolor": "#DFE8F3",
            "linecolor": "#A2B1C6",
            "ticks": ""
           },
           "bgcolor": "white",
           "caxis": {
            "gridcolor": "#DFE8F3",
            "linecolor": "#A2B1C6",
            "ticks": ""
           }
          },
          "title": {
           "x": 0.05
          },
          "xaxis": {
           "automargin": true,
           "gridcolor": "#EBF0F8",
           "linecolor": "#EBF0F8",
           "ticks": "",
           "title": {
            "standoff": 15
           },
           "zerolinecolor": "#EBF0F8",
           "zerolinewidth": 2
          },
          "yaxis": {
           "automargin": true,
           "gridcolor": "#EBF0F8",
           "linecolor": "#EBF0F8",
           "ticks": "",
           "title": {
            "standoff": 15
           },
           "zerolinecolor": "#EBF0F8",
           "zerolinewidth": 2
          }
         }
        },
        "title": {
         "text": "Non‑Oil Exports by BEC (Export only)"
        },
        "xaxis": {
         "title": {
          "text": "Year"
         }
        },
        "yaxis": {
         "title": {
          "text": "OMR"
         }
        }
       }
      }
     },
     "metadata": {},
     "output_type": "display_data"
    },
    {
     "data": {
      "application/vnd.plotly.v1+json": {
       "config": {
        "plotlyServerURL": "https://plot.ly"
       },
       "data": [
        {
         "name": "Capital Goods",
         "stackgroup": "one",
         "type": "scatter",
         "x": {
          "bdata": "zgfPB9AH0QfSB9MH1AfVB9YH1wfYB9kH2gfbB9wH3QfeB98H4AfhB+IH4wfkB+UH5gfnB+gH",
          "dtype": "i2"
         },
         "y": {
          "bdata": "AAAA6OJ8m0EAAAAojFSWQQAAALzC65RBAAAAWKtilUEAAABo0DWZQQAAAOCfM5VBAAAAaEgAmUEAAAA432SbQQAAANIC+6NBAAAA/KoIsUEAAAAAW/21QQAAAGu/9LJBAAAAztUUskEAAAAV87axQQAAAFRj/bBBAAAAFAzxs0EAAAC8Uxq2QQAAAJ62RLBBAAAASK3KsUEAAABo6mi6QQAAAEd+NsBBAAAAXZyevkEAAAA7zsO+QQAAAHMe57xBAACAyITTwEEAAID0XozJQQAAgAFP78VB",
          "dtype": "f8"
         }
        },
        {
         "name": "Consumer Goods",
         "stackgroup": "one",
         "type": "scatter",
         "x": {
          "bdata": "zgfPB9AH0QfSB9MH1AfVB9YH1wfYB9kH2gfbB9wH3QfeB98H4AfhB+IH4wfkB+UH5gfnB+gH",
          "dtype": "i2"
         },
         "y": {
          "bdata": "AAAAONcUokEAAACgRSWfQQAAAG5pTqNBAAAA7gYLr0EAAACCCfKwQQAAANx9HK5BAAAAaMRHpEEAAABcdj+cQQAAANjEcZxBAAAANKDCn0EAAAAsVr2kQQAAAB6ZAqxBAAAAgOC3rEEAAABAVVKoQQAAACJMX6pBAAAAMne3rUEAAADy0xGyQQAAAPh927BBAAAAIPo8sEEAAAAiHEi8QQAAALHSSb1BAACARsqqwUEAAADq+XC9QQAAAJASvLtBAAAAag3Pv0EAAAC8aeq/QQAAAFwLDMhB",
          "dtype": "f8"
         }
        },
        {
         "name": "Food & Beverages",
         "stackgroup": "one",
         "type": "scatter",
         "x": {
          "bdata": "zgfPB9AH0QfSB9MH1AfVB9YH1wfYB9kH2gfbB9wH3QfeB98H4AfhB+IH4wfkB+UH5gfnB+gH",
          "dtype": "i2"
         },
         "y": {
          "bdata": "AAAAwEmTe0EAAADQbkh3QQAAADAKJnxBAAAAAK8Zf0EAAAAgQCB7QQAAAJAYCnNBAAAAcO7AdUEAAACAidhzQQAAAMBgQ3pBAAAA4KRJdkEAAACwZM2EQQAAAPBIx3RBAAAAuHJShEEAAACAQ+B+QQAAAOCb5oNBAAAAmJU3mUEAAAC4pSuUQQAAAOR1GZRBAAAA9JyDl0EAAADo5UWOQQAAAEAlTZdBAAAAiMLWjUEAAACAB9aOQQAAAFR/BZtBAAAA+DgXnUEAAADyOAmjQQAAAOBpDJBB",
          "dtype": "f8"
         }
        },
        {
         "name": "Fuels & Lubricants",
         "stackgroup": "one",
         "type": "scatter",
         "x": {
          "bdata": "zgfPB9AH0QfSB9MH1AfVB9YH1wfYB9kH2gfbB9wH3QfeB98H4AfhB+IH4wfkB+UH5gfnB+gH",
          "dtype": "i2"
         },
         "y": {
          "bdata": "AADAdtDZ1EEAAEBcDTzfQQAA4Om6kupBAACgJwd86UEAAADE56DoQQAAQOw8kOpBAABgnoMN70EAAJBl93P2QQAAkN5aG/pBAADwgANA+0EAAGhmGCUEQgAAUAXtjfpBAAAAzdhkAkIAALhK6VgIQgAAgA2a5gtCAABAU4PhDkIAACjdVKwLQgAAwK5o8wBCAACAQHhm+kEAAECcgLr/QQAAGHM2rwNCAABI/FwYAkIAAFBb6375QQAAaHJc+QFCAABIFF7bD0IAAAjv/BAPQgAA1PqYtRFC",
          "dtype": "f8"
         }
        },
        {
         "name": "Industrial Supplies",
         "stackgroup": "one",
         "type": "scatter",
         "x": {
          "bdata": "zgfPB9AH0QfSB9MH1AfVB9YH1wfYB9kH2gfbB9wH3QfeB98H4AfhB+IH4wfkB+UH5gfnB+gH",
          "dtype": "i2"
         },
         "y": {
          "bdata": "AAAAPBTynkEAAADi8fugQQAAAPw13qNBAAAAvE75pUEAAAAA3jaoQQAAABzpR6pBAAAANWISsUEAAAASbpS3QQAAAJRnMLtBAACA2tdcwkEAAAAjQFPPQQAAQKQRNdJBAAAAGulf2EEAAABEjurhQQAA4I1xw+FBAAAAbgeH4UEAAMCuDabjQQAAICPpFuBBAADAPaqb2EEAAABPoA/gQQAAoJB5FORBAADAFcc24kEAAKBPeN3kQQAAAJ94Ke5BAACgX+D78UEAAOCbJgzuQQAA4HJYJOpB",
          "dtype": "f8"
         }
        },
        {
         "name": "Special Category",
         "stackgroup": "one",
         "type": "scatter",
         "x": {
          "bdata": "zgfPB9AH0QfSB9MH1AfVB9YH1wfYB9kH2gfbB9wH3QfeB98H4AfhB+IH4wfkB+UH5gfnB+gH",
          "dtype": "i2"
         },
         "y": {
          "bdata": "AAAAAEAZ2kAAAAAAAPvNQAAAAACA7OVAAAAAAACTs0AAAAAAAJB5QAAAAAAAQI9AAAAAAADgpUAAAAAAAJiAQAAAAAAAeIJAAAAAAADkpEAAAAAAAAYLQQAAAAC8NxRBAAAAAAC21UAAAAAA0J/zQAAAAAAAKKZAAAAAAAAAVEAAAAAAAGKuQAAAAAAAAAAAAAAAAAAAAAAAAAAAAAAAAAAAAICDpU1BAAAAACuHQEEAAAAAQFzmQAAAAAAABLBAAAAAAAAAAAAAAAAAAACQQAAAAADckxpB",
          "dtype": "f8"
         }
        },
        {
         "name": "Transport Equipment",
         "stackgroup": "one",
         "type": "scatter",
         "x": {
          "bdata": "zgfPB9AH0QfSB9MH1AfVB9YH1wfYB9kH2gfbB9wH3QfeB98H4AfhB+IH4wfkB+UH5gfnB+gH",
          "dtype": "i2"
         },
         "y": {
          "bdata": "AAAAqF9srUEAAACYLJWsQQAAACXYArBBAAAAThXZrEEAAACVFKyzQQAAAEG/krBBAAAAo3LCs0EAAACYiBO6QQAAAPv9osFBAAAA4T9cx0EAAIDpoeTRQQAAgDMbg9JBAABAYwqy1UEAAEDubdzUQQAAQJ+LhtdBAADATDna2UEAAEB6mFTcQQAAgEVPZ9hBAAAA4kuyzUEAAIBXvazBQQAAgE59VMJBAAAA65f4wkEAAIAuli3KQQAAgPGbnsJBAAAArZ/Yt0EAAABFAWG5QQAAAA28oLlB",
          "dtype": "f8"
         }
        }
       ],
       "layout": {
        "template": {
         "data": {
          "bar": [
           {
            "error_x": {
             "color": "#2a3f5f"
            },
            "error_y": {
             "color": "#2a3f5f"
            },
            "marker": {
             "line": {
              "color": "white",
              "width": 0.5
             },
             "pattern": {
              "fillmode": "overlay",
              "size": 10,
              "solidity": 0.2
             }
            },
            "type": "bar"
           }
          ],
          "barpolar": [
           {
            "marker": {
             "line": {
              "color": "white",
              "width": 0.5
             },
             "pattern": {
              "fillmode": "overlay",
              "size": 10,
              "solidity": 0.2
             }
            },
            "type": "barpolar"
           }
          ],
          "carpet": [
           {
            "aaxis": {
             "endlinecolor": "#2a3f5f",
             "gridcolor": "#C8D4E3",
             "linecolor": "#C8D4E3",
             "minorgridcolor": "#C8D4E3",
             "startlinecolor": "#2a3f5f"
            },
            "baxis": {
             "endlinecolor": "#2a3f5f",
             "gridcolor": "#C8D4E3",
             "linecolor": "#C8D4E3",
             "minorgridcolor": "#C8D4E3",
             "startlinecolor": "#2a3f5f"
            },
            "type": "carpet"
           }
          ],
          "choropleth": [
           {
            "colorbar": {
             "outlinewidth": 0,
             "ticks": ""
            },
            "type": "choropleth"
           }
          ],
          "contour": [
           {
            "colorbar": {
             "outlinewidth": 0,
             "ticks": ""
            },
            "colorscale": [
             [
              0,
              "#0d0887"
             ],
             [
              0.1111111111111111,
              "#46039f"
             ],
             [
              0.2222222222222222,
              "#7201a8"
             ],
             [
              0.3333333333333333,
              "#9c179e"
             ],
             [
              0.4444444444444444,
              "#bd3786"
             ],
             [
              0.5555555555555556,
              "#d8576b"
             ],
             [
              0.6666666666666666,
              "#ed7953"
             ],
             [
              0.7777777777777778,
              "#fb9f3a"
             ],
             [
              0.8888888888888888,
              "#fdca26"
             ],
             [
              1,
              "#f0f921"
             ]
            ],
            "type": "contour"
           }
          ],
          "contourcarpet": [
           {
            "colorbar": {
             "outlinewidth": 0,
             "ticks": ""
            },
            "type": "contourcarpet"
           }
          ],
          "heatmap": [
           {
            "colorbar": {
             "outlinewidth": 0,
             "ticks": ""
            },
            "colorscale": [
             [
              0,
              "#0d0887"
             ],
             [
              0.1111111111111111,
              "#46039f"
             ],
             [
              0.2222222222222222,
              "#7201a8"
             ],
             [
              0.3333333333333333,
              "#9c179e"
             ],
             [
              0.4444444444444444,
              "#bd3786"
             ],
             [
              0.5555555555555556,
              "#d8576b"
             ],
             [
              0.6666666666666666,
              "#ed7953"
             ],
             [
              0.7777777777777778,
              "#fb9f3a"
             ],
             [
              0.8888888888888888,
              "#fdca26"
             ],
             [
              1,
              "#f0f921"
             ]
            ],
            "type": "heatmap"
           }
          ],
          "histogram": [
           {
            "marker": {
             "pattern": {
              "fillmode": "overlay",
              "size": 10,
              "solidity": 0.2
             }
            },
            "type": "histogram"
           }
          ],
          "histogram2d": [
           {
            "colorbar": {
             "outlinewidth": 0,
             "ticks": ""
            },
            "colorscale": [
             [
              0,
              "#0d0887"
             ],
             [
              0.1111111111111111,
              "#46039f"
             ],
             [
              0.2222222222222222,
              "#7201a8"
             ],
             [
              0.3333333333333333,
              "#9c179e"
             ],
             [
              0.4444444444444444,
              "#bd3786"
             ],
             [
              0.5555555555555556,
              "#d8576b"
             ],
             [
              0.6666666666666666,
              "#ed7953"
             ],
             [
              0.7777777777777778,
              "#fb9f3a"
             ],
             [
              0.8888888888888888,
              "#fdca26"
             ],
             [
              1,
              "#f0f921"
             ]
            ],
            "type": "histogram2d"
           }
          ],
          "histogram2dcontour": [
           {
            "colorbar": {
             "outlinewidth": 0,
             "ticks": ""
            },
            "colorscale": [
             [
              0,
              "#0d0887"
             ],
             [
              0.1111111111111111,
              "#46039f"
             ],
             [
              0.2222222222222222,
              "#7201a8"
             ],
             [
              0.3333333333333333,
              "#9c179e"
             ],
             [
              0.4444444444444444,
              "#bd3786"
             ],
             [
              0.5555555555555556,
              "#d8576b"
             ],
             [
              0.6666666666666666,
              "#ed7953"
             ],
             [
              0.7777777777777778,
              "#fb9f3a"
             ],
             [
              0.8888888888888888,
              "#fdca26"
             ],
             [
              1,
              "#f0f921"
             ]
            ],
            "type": "histogram2dcontour"
           }
          ],
          "mesh3d": [
           {
            "colorbar": {
             "outlinewidth": 0,
             "ticks": ""
            },
            "type": "mesh3d"
           }
          ],
          "parcoords": [
           {
            "line": {
             "colorbar": {
              "outlinewidth": 0,
              "ticks": ""
             }
            },
            "type": "parcoords"
           }
          ],
          "pie": [
           {
            "automargin": true,
            "type": "pie"
           }
          ],
          "scatter": [
           {
            "fillpattern": {
             "fillmode": "overlay",
             "size": 10,
             "solidity": 0.2
            },
            "type": "scatter"
           }
          ],
          "scatter3d": [
           {
            "line": {
             "colorbar": {
              "outlinewidth": 0,
              "ticks": ""
             }
            },
            "marker": {
             "colorbar": {
              "outlinewidth": 0,
              "ticks": ""
             }
            },
            "type": "scatter3d"
           }
          ],
          "scattercarpet": [
           {
            "marker": {
             "colorbar": {
              "outlinewidth": 0,
              "ticks": ""
             }
            },
            "type": "scattercarpet"
           }
          ],
          "scattergeo": [
           {
            "marker": {
             "colorbar": {
              "outlinewidth": 0,
              "ticks": ""
             }
            },
            "type": "scattergeo"
           }
          ],
          "scattergl": [
           {
            "marker": {
             "colorbar": {
              "outlinewidth": 0,
              "ticks": ""
             }
            },
            "type": "scattergl"
           }
          ],
          "scattermap": [
           {
            "marker": {
             "colorbar": {
              "outlinewidth": 0,
              "ticks": ""
             }
            },
            "type": "scattermap"
           }
          ],
          "scattermapbox": [
           {
            "marker": {
             "colorbar": {
              "outlinewidth": 0,
              "ticks": ""
             }
            },
            "type": "scattermapbox"
           }
          ],
          "scatterpolar": [
           {
            "marker": {
             "colorbar": {
              "outlinewidth": 0,
              "ticks": ""
             }
            },
            "type": "scatterpolar"
           }
          ],
          "scatterpolargl": [
           {
            "marker": {
             "colorbar": {
              "outlinewidth": 0,
              "ticks": ""
             }
            },
            "type": "scatterpolargl"
           }
          ],
          "scatterternary": [
           {
            "marker": {
             "colorbar": {
              "outlinewidth": 0,
              "ticks": ""
             }
            },
            "type": "scatterternary"
           }
          ],
          "surface": [
           {
            "colorbar": {
             "outlinewidth": 0,
             "ticks": ""
            },
            "colorscale": [
             [
              0,
              "#0d0887"
             ],
             [
              0.1111111111111111,
              "#46039f"
             ],
             [
              0.2222222222222222,
              "#7201a8"
             ],
             [
              0.3333333333333333,
              "#9c179e"
             ],
             [
              0.4444444444444444,
              "#bd3786"
             ],
             [
              0.5555555555555556,
              "#d8576b"
             ],
             [
              0.6666666666666666,
              "#ed7953"
             ],
             [
              0.7777777777777778,
              "#fb9f3a"
             ],
             [
              0.8888888888888888,
              "#fdca26"
             ],
             [
              1,
              "#f0f921"
             ]
            ],
            "type": "surface"
           }
          ],
          "table": [
           {
            "cells": {
             "fill": {
              "color": "#EBF0F8"
             },
             "line": {
              "color": "white"
             }
            },
            "header": {
             "fill": {
              "color": "#C8D4E3"
             },
             "line": {
              "color": "white"
             }
            },
            "type": "table"
           }
          ]
         },
         "layout": {
          "annotationdefaults": {
           "arrowcolor": "#2a3f5f",
           "arrowhead": 0,
           "arrowwidth": 1
          },
          "autotypenumbers": "strict",
          "coloraxis": {
           "colorbar": {
            "outlinewidth": 0,
            "ticks": ""
           }
          },
          "colorscale": {
           "diverging": [
            [
             0,
             "#8e0152"
            ],
            [
             0.1,
             "#c51b7d"
            ],
            [
             0.2,
             "#de77ae"
            ],
            [
             0.3,
             "#f1b6da"
            ],
            [
             0.4,
             "#fde0ef"
            ],
            [
             0.5,
             "#f7f7f7"
            ],
            [
             0.6,
             "#e6f5d0"
            ],
            [
             0.7,
             "#b8e186"
            ],
            [
             0.8,
             "#7fbc41"
            ],
            [
             0.9,
             "#4d9221"
            ],
            [
             1,
             "#276419"
            ]
           ],
           "sequential": [
            [
             0,
             "#0d0887"
            ],
            [
             0.1111111111111111,
             "#46039f"
            ],
            [
             0.2222222222222222,
             "#7201a8"
            ],
            [
             0.3333333333333333,
             "#9c179e"
            ],
            [
             0.4444444444444444,
             "#bd3786"
            ],
            [
             0.5555555555555556,
             "#d8576b"
            ],
            [
             0.6666666666666666,
             "#ed7953"
            ],
            [
             0.7777777777777778,
             "#fb9f3a"
            ],
            [
             0.8888888888888888,
             "#fdca26"
            ],
            [
             1,
             "#f0f921"
            ]
           ],
           "sequentialminus": [
            [
             0,
             "#0d0887"
            ],
            [
             0.1111111111111111,
             "#46039f"
            ],
            [
             0.2222222222222222,
             "#7201a8"
            ],
            [
             0.3333333333333333,
             "#9c179e"
            ],
            [
             0.4444444444444444,
             "#bd3786"
            ],
            [
             0.5555555555555556,
             "#d8576b"
            ],
            [
             0.6666666666666666,
             "#ed7953"
            ],
            [
             0.7777777777777778,
             "#fb9f3a"
            ],
            [
             0.8888888888888888,
             "#fdca26"
            ],
            [
             1,
             "#f0f921"
            ]
           ]
          },
          "colorway": [
           "#636efa",
           "#EF553B",
           "#00cc96",
           "#ab63fa",
           "#FFA15A",
           "#19d3f3",
           "#FF6692",
           "#B6E880",
           "#FF97FF",
           "#FECB52"
          ],
          "font": {
           "color": "#2a3f5f"
          },
          "geo": {
           "bgcolor": "white",
           "lakecolor": "white",
           "landcolor": "white",
           "showlakes": true,
           "showland": true,
           "subunitcolor": "#C8D4E3"
          },
          "hoverlabel": {
           "align": "left"
          },
          "hovermode": "closest",
          "mapbox": {
           "style": "light"
          },
          "paper_bgcolor": "white",
          "plot_bgcolor": "white",
          "polar": {
           "angularaxis": {
            "gridcolor": "#EBF0F8",
            "linecolor": "#EBF0F8",
            "ticks": ""
           },
           "bgcolor": "white",
           "radialaxis": {
            "gridcolor": "#EBF0F8",
            "linecolor": "#EBF0F8",
            "ticks": ""
           }
          },
          "scene": {
           "xaxis": {
            "backgroundcolor": "white",
            "gridcolor": "#DFE8F3",
            "gridwidth": 2,
            "linecolor": "#EBF0F8",
            "showbackground": true,
            "ticks": "",
            "zerolinecolor": "#EBF0F8"
           },
           "yaxis": {
            "backgroundcolor": "white",
            "gridcolor": "#DFE8F3",
            "gridwidth": 2,
            "linecolor": "#EBF0F8",
            "showbackground": true,
            "ticks": "",
            "zerolinecolor": "#EBF0F8"
           },
           "zaxis": {
            "backgroundcolor": "white",
            "gridcolor": "#DFE8F3",
            "gridwidth": 2,
            "linecolor": "#EBF0F8",
            "showbackground": true,
            "ticks": "",
            "zerolinecolor": "#EBF0F8"
           }
          },
          "shapedefaults": {
           "line": {
            "color": "#2a3f5f"
           }
          },
          "ternary": {
           "aaxis": {
            "gridcolor": "#DFE8F3",
            "linecolor": "#A2B1C6",
            "ticks": ""
           },
           "baxis": {
            "gridcolor": "#DFE8F3",
            "linecolor": "#A2B1C6",
            "ticks": ""
           },
           "bgcolor": "white",
           "caxis": {
            "gridcolor": "#DFE8F3",
            "linecolor": "#A2B1C6",
            "ticks": ""
           }
          },
          "title": {
           "x": 0.05
          },
          "xaxis": {
           "automargin": true,
           "gridcolor": "#EBF0F8",
           "linecolor": "#EBF0F8",
           "ticks": "",
           "title": {
            "standoff": 15
           },
           "zerolinecolor": "#EBF0F8",
           "zerolinewidth": 2
          },
          "yaxis": {
           "automargin": true,
           "gridcolor": "#EBF0F8",
           "linecolor": "#EBF0F8",
           "ticks": "",
           "title": {
            "standoff": 15
           },
           "zerolinecolor": "#EBF0F8",
           "zerolinewidth": 2
          }
         }
        },
        "title": {
         "text": "Total Exports by BEC (Export + Re‑Export; Imports EXCLUDED)"
        },
        "xaxis": {
         "title": {
          "text": "Year"
         }
        },
        "yaxis": {
         "title": {
          "text": "OMR"
         }
        }
       }
      }
     },
     "metadata": {},
     "output_type": "display_data"
    }
   ],
   "source": [
    "\n",
    "def plot_stacked(df_bec, title):\n",
    "    wide = df_bec.pivot(index=\"year\", columns=\"bec_broad\", values=\"value_omr\").fillna(0).sort_index()\n",
    "    fig = go.Figure()\n",
    "    for col in wide.columns:\n",
    "        fig.add_trace(go.Scatter(x=wide.index, y=wide[col], stackgroup=\"one\", name=col))\n",
    "    fig.update_layout(title=title, xaxis_title=\"Year\", yaxis_title=\"OMR\", template=\"plotly_white\")\n",
    "    fig.show()\n",
    "\n",
    "plot_stacked(non_oil_bec, \"Non‑Oil Exports by BEC (Export only)\")\n",
    "plot_stacked(total_bec, \"Total Exports by BEC (Export + Re‑Export; Imports EXCLUDED)\")\n"
   ]
  },
  {
   "cell_type": "markdown",
   "id": "66cd5ee1",
   "metadata": {},
   "source": [
    "## 16) Build HS Sections (Non‑Oil, Export only)"
   ]
  },
  {
   "cell_type": "code",
   "execution_count": 90,
   "id": "ca151240",
   "metadata": {},
   "outputs": [
    {
     "data": {
      "text/html": [
       "<div>\n",
       "<style scoped>\n",
       "    .dataframe tbody tr th:only-of-type {\n",
       "        vertical-align: middle;\n",
       "    }\n",
       "\n",
       "    .dataframe tbody tr th {\n",
       "        vertical-align: top;\n",
       "    }\n",
       "\n",
       "    .dataframe thead th {\n",
       "        text-align: right;\n",
       "    }\n",
       "</style>\n",
       "<table border=\"1\" class=\"dataframe\">\n",
       "  <thead>\n",
       "    <tr style=\"text-align: right;\">\n",
       "      <th></th>\n",
       "      <th>year</th>\n",
       "      <th>section_name_clean</th>\n",
       "      <th>value_omr</th>\n",
       "      <th>section_grouped</th>\n",
       "    </tr>\n",
       "  </thead>\n",
       "  <tbody>\n",
       "    <tr>\n",
       "      <th>0</th>\n",
       "      <td>1998</td>\n",
       "      <td>Animal/vegetable fats &amp; oils</td>\n",
       "      <td>9,023,304</td>\n",
       "      <td>Other</td>\n",
       "    </tr>\n",
       "    <tr>\n",
       "      <th>1</th>\n",
       "      <td>1998</td>\n",
       "      <td>Arms &amp; ammunition</td>\n",
       "      <td>15,432</td>\n",
       "      <td>Other</td>\n",
       "    </tr>\n",
       "    <tr>\n",
       "      <th>2</th>\n",
       "      <td>1998</td>\n",
       "      <td>Base metals &amp; articles</td>\n",
       "      <td>31,400,770</td>\n",
       "      <td>Base metals &amp; articles</td>\n",
       "    </tr>\n",
       "    <tr>\n",
       "      <th>3</th>\n",
       "      <td>1998</td>\n",
       "      <td>Chemical products</td>\n",
       "      <td>31,831,806</td>\n",
       "      <td>Chemical products</td>\n",
       "    </tr>\n",
       "    <tr>\n",
       "      <th>4</th>\n",
       "      <td>1998</td>\n",
       "      <td>Footwear, headgear, umbrellas</td>\n",
       "      <td>358,451</td>\n",
       "      <td>Other</td>\n",
       "    </tr>\n",
       "    <tr>\n",
       "      <th>5</th>\n",
       "      <td>1998</td>\n",
       "      <td>Hides, leather, furskins &amp; articles</td>\n",
       "      <td>79,495</td>\n",
       "      <td>Other</td>\n",
       "    </tr>\n",
       "    <tr>\n",
       "      <th>6</th>\n",
       "      <td>1998</td>\n",
       "      <td>Machinery, electrical equipment &amp; parts</td>\n",
       "      <td>15,126,630</td>\n",
       "      <td>Machinery, electrical equipment &amp; parts</td>\n",
       "    </tr>\n",
       "    <tr>\n",
       "      <th>7</th>\n",
       "      <td>1998</td>\n",
       "      <td>Mineral products</td>\n",
       "      <td>5,253,125</td>\n",
       "      <td>Mineral products</td>\n",
       "    </tr>\n",
       "    <tr>\n",
       "      <th>8</th>\n",
       "      <td>1998</td>\n",
       "      <td>Miscellaneous manufactured articles</td>\n",
       "      <td>12,217,798</td>\n",
       "      <td>Other</td>\n",
       "    </tr>\n",
       "    <tr>\n",
       "      <th>9</th>\n",
       "      <td>1998</td>\n",
       "      <td>Pearls, precious stones &amp; metals; jewellery; coin</td>\n",
       "      <td>647,372</td>\n",
       "      <td>Other</td>\n",
       "    </tr>\n",
       "  </tbody>\n",
       "</table>\n",
       "</div>"
      ],
      "text/plain": [
       "   year                                 section_name_clean  value_omr  \\\n",
       "0  1998                       Animal/vegetable fats & oils  9,023,304   \n",
       "1  1998                                  Arms & ammunition     15,432   \n",
       "2  1998                             Base metals & articles 31,400,770   \n",
       "3  1998                                  Chemical products 31,831,806   \n",
       "4  1998                      Footwear, headgear, umbrellas    358,451   \n",
       "5  1998                Hides, leather, furskins & articles     79,495   \n",
       "6  1998            Machinery, electrical equipment & parts 15,126,630   \n",
       "7  1998                                   Mineral products  5,253,125   \n",
       "8  1998                Miscellaneous manufactured articles 12,217,798   \n",
       "9  1998  Pearls, precious stones & metals; jewellery; coin    647,372   \n",
       "\n",
       "                           section_grouped  \n",
       "0                                    Other  \n",
       "1                                    Other  \n",
       "2                   Base metals & articles  \n",
       "3                        Chemical products  \n",
       "4                                    Other  \n",
       "5                                    Other  \n",
       "6  Machinery, electrical equipment & parts  \n",
       "7                         Mineral products  \n",
       "8                                    Other  \n",
       "9                                    Other  "
      ]
     },
     "execution_count": 90,
     "metadata": {},
     "output_type": "execute_result"
    }
   ],
   "source": [
    "\n",
    "non_oil_section = (df[(df[\"trade_type\"]==\"Export\") & (df[\"oil_flag\"]==\"Non‑Oil\")]\n",
    "                   .groupby([\"year\",\"section_name_clean\"], as_index=False)[\"value_omr\"].sum())\n",
    "\n",
    "tot_by_year = (non_oil_section.groupby(\"year\", as_index=False)[\"value_omr\"]\n",
    "               .sum().rename(columns={\"value_omr\":\"total\"}))\n",
    "sec_share = non_oil_section.merge(tot_by_year, on=\"year\", how=\"left\")\n",
    "sec_share[\"share\"] = np.where(sec_share[\"total\"]>0, sec_share[\"value_omr\"]/sec_share[\"total\"], 0.0)\n",
    "\n",
    "top_sections = (sec_share.groupby(\"section_name_clean\")[\"share\"]\n",
    "                .mean().sort_values(ascending=False).head(8).index.tolist())\n",
    "\n",
    "non_oil_section[\"section_grouped\"] = non_oil_section[\"section_name_clean\"].where(\n",
    "    non_oil_section[\"section_name_clean\"].isin(top_sections), \"Other\"\n",
    ")\n",
    "non_oil_section.head(10)\n"
   ]
  },
  {
   "cell_type": "markdown",
   "id": "9297fff0",
   "metadata": {},
   "source": [
    "## 17) Chart — Non‑Oil Exports by HS Section (Top 8 + Other)"
   ]
  },
  {
   "cell_type": "code",
   "execution_count": 91,
   "id": "d27599cf",
   "metadata": {},
   "outputs": [
    {
     "ename": "ValueError",
     "evalue": "Index contains duplicate entries, cannot reshape",
     "output_type": "error",
     "traceback": [
      "\u001b[31m---------------------------------------------------------------------------\u001b[39m",
      "\u001b[31mValueError\u001b[39m                                Traceback (most recent call last)",
      "\u001b[36mCell\u001b[39m\u001b[36m \u001b[39m\u001b[32mIn[91]\u001b[39m\u001b[32m, line 1\u001b[39m\n\u001b[32m----> \u001b[39m\u001b[32m1\u001b[39m wide = (\u001b[43mnon_oil_section\u001b[49m\u001b[43m.\u001b[49m\u001b[43mpivot\u001b[49m\u001b[43m(\u001b[49m\u001b[43mindex\u001b[49m\u001b[43m=\u001b[49m\u001b[33;43m\"\u001b[39;49m\u001b[33;43myear\u001b[39;49m\u001b[33;43m\"\u001b[39;49m\u001b[43m,\u001b[49m\u001b[43m \u001b[49m\u001b[43mcolumns\u001b[49m\u001b[43m=\u001b[49m\u001b[33;43m\"\u001b[39;49m\u001b[33;43msection_grouped\u001b[39;49m\u001b[33;43m\"\u001b[39;49m\u001b[43m,\u001b[49m\u001b[43m \u001b[49m\u001b[43mvalues\u001b[49m\u001b[43m=\u001b[49m\u001b[33;43m\"\u001b[39;49m\u001b[33;43mvalue_omr\u001b[39;49m\u001b[33;43m\"\u001b[39;49m\u001b[43m)\u001b[49m\n\u001b[32m      2\u001b[39m         .fillna(\u001b[32m0\u001b[39m).sort_index())\n\u001b[32m      4\u001b[39m fig7 = go.Figure()\n\u001b[32m      5\u001b[39m \u001b[38;5;28;01mfor\u001b[39;00m col \u001b[38;5;129;01min\u001b[39;00m wide.columns:\n",
      "\u001b[36mFile \u001b[39m\u001b[32m/Library/Frameworks/Python.framework/Versions/3.13/lib/python3.13/site-packages/pandas/core/frame.py:9339\u001b[39m, in \u001b[36mDataFrame.pivot\u001b[39m\u001b[34m(self, columns, index, values)\u001b[39m\n\u001b[32m   9332\u001b[39m \u001b[38;5;129m@Substitution\u001b[39m(\u001b[33m\"\u001b[39m\u001b[33m\"\u001b[39m)\n\u001b[32m   9333\u001b[39m \u001b[38;5;129m@Appender\u001b[39m(_shared_docs[\u001b[33m\"\u001b[39m\u001b[33mpivot\u001b[39m\u001b[33m\"\u001b[39m])\n\u001b[32m   9334\u001b[39m \u001b[38;5;28;01mdef\u001b[39;00m\u001b[38;5;250m \u001b[39m\u001b[34mpivot\u001b[39m(\n\u001b[32m   9335\u001b[39m     \u001b[38;5;28mself\u001b[39m, *, columns, index=lib.no_default, values=lib.no_default\n\u001b[32m   9336\u001b[39m ) -> DataFrame:\n\u001b[32m   9337\u001b[39m     \u001b[38;5;28;01mfrom\u001b[39;00m\u001b[38;5;250m \u001b[39m\u001b[34;01mpandas\u001b[39;00m\u001b[34;01m.\u001b[39;00m\u001b[34;01mcore\u001b[39;00m\u001b[34;01m.\u001b[39;00m\u001b[34;01mreshape\u001b[39;00m\u001b[34;01m.\u001b[39;00m\u001b[34;01mpivot\u001b[39;00m\u001b[38;5;250m \u001b[39m\u001b[38;5;28;01mimport\u001b[39;00m pivot\n\u001b[32m-> \u001b[39m\u001b[32m9339\u001b[39m     \u001b[38;5;28;01mreturn\u001b[39;00m \u001b[43mpivot\u001b[49m\u001b[43m(\u001b[49m\u001b[38;5;28;43mself\u001b[39;49m\u001b[43m,\u001b[49m\u001b[43m \u001b[49m\u001b[43mindex\u001b[49m\u001b[43m=\u001b[49m\u001b[43mindex\u001b[49m\u001b[43m,\u001b[49m\u001b[43m \u001b[49m\u001b[43mcolumns\u001b[49m\u001b[43m=\u001b[49m\u001b[43mcolumns\u001b[49m\u001b[43m,\u001b[49m\u001b[43m \u001b[49m\u001b[43mvalues\u001b[49m\u001b[43m=\u001b[49m\u001b[43mvalues\u001b[49m\u001b[43m)\u001b[49m\n",
      "\u001b[36mFile \u001b[39m\u001b[32m/Library/Frameworks/Python.framework/Versions/3.13/lib/python3.13/site-packages/pandas/core/reshape/pivot.py:570\u001b[39m, in \u001b[36mpivot\u001b[39m\u001b[34m(data, columns, index, values)\u001b[39m\n\u001b[32m    566\u001b[39m         indexed = data._constructor_sliced(data[values]._values, index=multiindex)\n\u001b[32m    567\u001b[39m \u001b[38;5;66;03m# error: Argument 1 to \"unstack\" of \"DataFrame\" has incompatible type \"Union\u001b[39;00m\n\u001b[32m    568\u001b[39m \u001b[38;5;66;03m# [List[Any], ExtensionArray, ndarray[Any, Any], Index, Series]\"; expected\u001b[39;00m\n\u001b[32m    569\u001b[39m \u001b[38;5;66;03m# \"Hashable\"\u001b[39;00m\n\u001b[32m--> \u001b[39m\u001b[32m570\u001b[39m result = \u001b[43mindexed\u001b[49m\u001b[43m.\u001b[49m\u001b[43munstack\u001b[49m\u001b[43m(\u001b[49m\u001b[43mcolumns_listlike\u001b[49m\u001b[43m)\u001b[49m  \u001b[38;5;66;03m# type: ignore[arg-type]\u001b[39;00m\n\u001b[32m    571\u001b[39m result.index.names = [\n\u001b[32m    572\u001b[39m     name \u001b[38;5;28;01mif\u001b[39;00m name \u001b[38;5;129;01mis\u001b[39;00m \u001b[38;5;129;01mnot\u001b[39;00m lib.no_default \u001b[38;5;28;01melse\u001b[39;00m \u001b[38;5;28;01mNone\u001b[39;00m \u001b[38;5;28;01mfor\u001b[39;00m name \u001b[38;5;129;01min\u001b[39;00m result.index.names\n\u001b[32m    573\u001b[39m ]\n\u001b[32m    575\u001b[39m \u001b[38;5;28;01mreturn\u001b[39;00m result\n",
      "\u001b[36mFile \u001b[39m\u001b[32m/Library/Frameworks/Python.framework/Versions/3.13/lib/python3.13/site-packages/pandas/core/series.py:4615\u001b[39m, in \u001b[36mSeries.unstack\u001b[39m\u001b[34m(self, level, fill_value, sort)\u001b[39m\n\u001b[32m   4570\u001b[39m \u001b[38;5;250m\u001b[39m\u001b[33;03m\"\"\"\u001b[39;00m\n\u001b[32m   4571\u001b[39m \u001b[33;03mUnstack, also known as pivot, Series with MultiIndex to produce DataFrame.\u001b[39;00m\n\u001b[32m   4572\u001b[39m \n\u001b[32m   (...)\u001b[39m\u001b[32m   4611\u001b[39m \u001b[33;03mb    2    4\u001b[39;00m\n\u001b[32m   4612\u001b[39m \u001b[33;03m\"\"\"\u001b[39;00m\n\u001b[32m   4613\u001b[39m \u001b[38;5;28;01mfrom\u001b[39;00m\u001b[38;5;250m \u001b[39m\u001b[34;01mpandas\u001b[39;00m\u001b[34;01m.\u001b[39;00m\u001b[34;01mcore\u001b[39;00m\u001b[34;01m.\u001b[39;00m\u001b[34;01mreshape\u001b[39;00m\u001b[34;01m.\u001b[39;00m\u001b[34;01mreshape\u001b[39;00m\u001b[38;5;250m \u001b[39m\u001b[38;5;28;01mimport\u001b[39;00m unstack\n\u001b[32m-> \u001b[39m\u001b[32m4615\u001b[39m \u001b[38;5;28;01mreturn\u001b[39;00m \u001b[43munstack\u001b[49m\u001b[43m(\u001b[49m\u001b[38;5;28;43mself\u001b[39;49m\u001b[43m,\u001b[49m\u001b[43m \u001b[49m\u001b[43mlevel\u001b[49m\u001b[43m,\u001b[49m\u001b[43m \u001b[49m\u001b[43mfill_value\u001b[49m\u001b[43m,\u001b[49m\u001b[43m \u001b[49m\u001b[43msort\u001b[49m\u001b[43m)\u001b[49m\n",
      "\u001b[36mFile \u001b[39m\u001b[32m/Library/Frameworks/Python.framework/Versions/3.13/lib/python3.13/site-packages/pandas/core/reshape/reshape.py:517\u001b[39m, in \u001b[36munstack\u001b[39m\u001b[34m(obj, level, fill_value, sort)\u001b[39m\n\u001b[32m    515\u001b[39m \u001b[38;5;28;01mif\u001b[39;00m is_1d_only_ea_dtype(obj.dtype):\n\u001b[32m    516\u001b[39m     \u001b[38;5;28;01mreturn\u001b[39;00m _unstack_extension_series(obj, level, fill_value, sort=sort)\n\u001b[32m--> \u001b[39m\u001b[32m517\u001b[39m unstacker = \u001b[43m_Unstacker\u001b[49m\u001b[43m(\u001b[49m\n\u001b[32m    518\u001b[39m \u001b[43m    \u001b[49m\u001b[43mobj\u001b[49m\u001b[43m.\u001b[49m\u001b[43mindex\u001b[49m\u001b[43m,\u001b[49m\u001b[43m \u001b[49m\u001b[43mlevel\u001b[49m\u001b[43m=\u001b[49m\u001b[43mlevel\u001b[49m\u001b[43m,\u001b[49m\u001b[43m \u001b[49m\u001b[43mconstructor\u001b[49m\u001b[43m=\u001b[49m\u001b[43mobj\u001b[49m\u001b[43m.\u001b[49m\u001b[43m_constructor_expanddim\u001b[49m\u001b[43m,\u001b[49m\u001b[43m \u001b[49m\u001b[43msort\u001b[49m\u001b[43m=\u001b[49m\u001b[43msort\u001b[49m\n\u001b[32m    519\u001b[39m \u001b[43m\u001b[49m\u001b[43m)\u001b[49m\n\u001b[32m    520\u001b[39m \u001b[38;5;28;01mreturn\u001b[39;00m unstacker.get_result(\n\u001b[32m    521\u001b[39m     obj._values, value_columns=\u001b[38;5;28;01mNone\u001b[39;00m, fill_value=fill_value\n\u001b[32m    522\u001b[39m )\n",
      "\u001b[36mFile \u001b[39m\u001b[32m/Library/Frameworks/Python.framework/Versions/3.13/lib/python3.13/site-packages/pandas/core/reshape/reshape.py:154\u001b[39m, in \u001b[36m_Unstacker.__init__\u001b[39m\u001b[34m(self, index, level, constructor, sort)\u001b[39m\n\u001b[32m    146\u001b[39m \u001b[38;5;28;01mif\u001b[39;00m num_cells > np.iinfo(np.int32).max:\n\u001b[32m    147\u001b[39m     warnings.warn(\n\u001b[32m    148\u001b[39m         \u001b[33mf\u001b[39m\u001b[33m\"\u001b[39m\u001b[33mThe following operation may generate \u001b[39m\u001b[38;5;132;01m{\u001b[39;00mnum_cells\u001b[38;5;132;01m}\u001b[39;00m\u001b[33m cells \u001b[39m\u001b[33m\"\u001b[39m\n\u001b[32m    149\u001b[39m         \u001b[33mf\u001b[39m\u001b[33m\"\u001b[39m\u001b[33min the resulting pandas object.\u001b[39m\u001b[33m\"\u001b[39m,\n\u001b[32m    150\u001b[39m         PerformanceWarning,\n\u001b[32m    151\u001b[39m         stacklevel=find_stack_level(),\n\u001b[32m    152\u001b[39m     )\n\u001b[32m--> \u001b[39m\u001b[32m154\u001b[39m \u001b[38;5;28;43mself\u001b[39;49m\u001b[43m.\u001b[49m\u001b[43m_make_selectors\u001b[49m\u001b[43m(\u001b[49m\u001b[43m)\u001b[49m\n",
      "\u001b[36mFile \u001b[39m\u001b[32m/Library/Frameworks/Python.framework/Versions/3.13/lib/python3.13/site-packages/pandas/core/reshape/reshape.py:210\u001b[39m, in \u001b[36m_Unstacker._make_selectors\u001b[39m\u001b[34m(self)\u001b[39m\n\u001b[32m    207\u001b[39m mask.put(selector, \u001b[38;5;28;01mTrue\u001b[39;00m)\n\u001b[32m    209\u001b[39m \u001b[38;5;28;01mif\u001b[39;00m mask.sum() < \u001b[38;5;28mlen\u001b[39m(\u001b[38;5;28mself\u001b[39m.index):\n\u001b[32m--> \u001b[39m\u001b[32m210\u001b[39m     \u001b[38;5;28;01mraise\u001b[39;00m \u001b[38;5;167;01mValueError\u001b[39;00m(\u001b[33m\"\u001b[39m\u001b[33mIndex contains duplicate entries, cannot reshape\u001b[39m\u001b[33m\"\u001b[39m)\n\u001b[32m    212\u001b[39m \u001b[38;5;28mself\u001b[39m.group_index = comp_index\n\u001b[32m    213\u001b[39m \u001b[38;5;28mself\u001b[39m.mask = mask\n",
      "\u001b[31mValueError\u001b[39m: Index contains duplicate entries, cannot reshape"
     ]
    }
   ],
   "source": [
    "\n",
    "wide = (non_oil_section.pivot(index=\"year\", columns=\"section_grouped\", values=\"value_omr\")\n",
    "        .fillna(0).sort_index())\n",
    "\n",
    "fig7 = go.Figure()\n",
    "for col in wide.columns:\n",
    "    fig7.add_trace(go.Scatter(x=wide.index, y=wide[col], stackgroup=\"one\", name=col))\n",
    "fig7.update_layout(title=\"Non‑Oil Exports by HS Section — Top 8 + Other (Export only)\",\n",
    "                   xaxis_title=\"Year\", yaxis_title=\"OMR\", template=\"plotly_white\")\n",
    "fig7.show()\n"
   ]
  },
  {
   "cell_type": "code",
   "execution_count": null,
   "id": "430f63fa",
   "metadata": {},
   "outputs": [],
   "source": [
    "print('Please open the v2 file; this is a placeholder if the base is missing.')"
   ]
  },
  {
   "cell_type": "markdown",
   "id": "2b86f53e",
   "metadata": {},
   "source": [
    "## 18) Contribution to **Total Exports** Growth (Oil / Non‑Oil / Re‑Export)"
   ]
  },
  {
   "cell_type": "code",
   "execution_count": null,
   "id": "c83551f7",
   "metadata": {},
   "outputs": [
    {
     "data": {
      "text/html": [
       "<div>\n",
       "<style scoped>\n",
       "    .dataframe tbody tr th:only-of-type {\n",
       "        vertical-align: middle;\n",
       "    }\n",
       "\n",
       "    .dataframe tbody tr th {\n",
       "        vertical-align: top;\n",
       "    }\n",
       "\n",
       "    .dataframe thead th {\n",
       "        text-align: right;\n",
       "    }\n",
       "</style>\n",
       "<table border=\"1\" class=\"dataframe\">\n",
       "  <thead>\n",
       "    <tr style=\"text-align: right;\">\n",
       "      <th></th>\n",
       "      <th>year</th>\n",
       "      <th>total_exports</th>\n",
       "      <th>yoy_total_%</th>\n",
       "      <th>contrib_pp_oil</th>\n",
       "      <th>contrib_pp_non_oil</th>\n",
       "      <th>contrib_pp_reexport</th>\n",
       "    </tr>\n",
       "  </thead>\n",
       "  <tbody>\n",
       "    <tr>\n",
       "      <th>0</th>\n",
       "      <td>1998</td>\n",
       "      <td>2,071,803,925</td>\n",
       "      <td>NaN</td>\n",
       "      <td>NaN</td>\n",
       "      <td>NaN</td>\n",
       "      <td>NaN</td>\n",
       "    </tr>\n",
       "    <tr>\n",
       "      <th>1</th>\n",
       "      <td>1999</td>\n",
       "      <td>2,727,083,011</td>\n",
       "      <td>32</td>\n",
       "      <td>33</td>\n",
       "      <td>0</td>\n",
       "      <td>-2</td>\n",
       "    </tr>\n",
       "    <tr>\n",
       "      <th>2</th>\n",
       "      <td>2000</td>\n",
       "      <td>4,281,139,167</td>\n",
       "      <td>57</td>\n",
       "      <td>54</td>\n",
       "      <td>2</td>\n",
       "      <td>2</td>\n",
       "    </tr>\n",
       "    <tr>\n",
       "      <th>3</th>\n",
       "      <td>2001</td>\n",
       "      <td>4,229,515,282</td>\n",
       "      <td>-1</td>\n",
       "      <td>-3</td>\n",
       "      <td>0</td>\n",
       "      <td>2</td>\n",
       "    </tr>\n",
       "    <tr>\n",
       "      <th>4</th>\n",
       "      <td>2002</td>\n",
       "      <td>4,257,236,204</td>\n",
       "      <td>1</td>\n",
       "      <td>-3</td>\n",
       "      <td>0</td>\n",
       "      <td>4</td>\n",
       "    </tr>\n",
       "    <tr>\n",
       "      <th>5</th>\n",
       "      <td>2003</td>\n",
       "      <td>4,425,279,368</td>\n",
       "      <td>4</td>\n",
       "      <td>6</td>\n",
       "      <td>1</td>\n",
       "      <td>-3</td>\n",
       "    </tr>\n",
       "    <tr>\n",
       "      <th>6</th>\n",
       "      <td>2004</td>\n",
       "      <td>5,083,561,968</td>\n",
       "      <td>15</td>\n",
       "      <td>14</td>\n",
       "      <td>2</td>\n",
       "      <td>-1</td>\n",
       "    </tr>\n",
       "    <tr>\n",
       "      <th>7</th>\n",
       "      <td>2005</td>\n",
       "      <td>7,114,460,435</td>\n",
       "      <td>40</td>\n",
       "      <td>36</td>\n",
       "      <td>3</td>\n",
       "      <td>1</td>\n",
       "    </tr>\n",
       "    <tr>\n",
       "      <th>8</th>\n",
       "      <td>2006</td>\n",
       "      <td>8,370,404,461</td>\n",
       "      <td>18</td>\n",
       "      <td>14</td>\n",
       "      <td>2</td>\n",
       "      <td>3</td>\n",
       "    </tr>\n",
       "    <tr>\n",
       "      <th>9</th>\n",
       "      <td>2007</td>\n",
       "      <td>9,157,238,607</td>\n",
       "      <td>9</td>\n",
       "      <td>3</td>\n",
       "      <td>3</td>\n",
       "      <td>3</td>\n",
       "    </tr>\n",
       "  </tbody>\n",
       "</table>\n",
       "</div>"
      ],
      "text/plain": [
       "   year  total_exports  yoy_total_%  contrib_pp_oil  contrib_pp_non_oil  \\\n",
       "0  1998  2,071,803,925          NaN             NaN                 NaN   \n",
       "1  1999  2,727,083,011           32              33                   0   \n",
       "2  2000  4,281,139,167           57              54                   2   \n",
       "3  2001  4,229,515,282           -1              -3                   0   \n",
       "4  2002  4,257,236,204            1              -3                   0   \n",
       "5  2003  4,425,279,368            4               6                   1   \n",
       "6  2004  5,083,561,968           15              14                   2   \n",
       "7  2005  7,114,460,435           40              36                   3   \n",
       "8  2006  8,370,404,461           18              14                   2   \n",
       "9  2007  9,157,238,607            9               3                   3   \n",
       "\n",
       "   contrib_pp_reexport  \n",
       "0                  NaN  \n",
       "1                   -2  \n",
       "2                    2  \n",
       "3                    2  \n",
       "4                    4  \n",
       "5                   -3  \n",
       "6                   -1  \n",
       "7                    1  \n",
       "8                    3  \n",
       "9                    3  "
      ]
     },
     "execution_count": 55,
     "metadata": {},
     "output_type": "execute_result"
    }
   ],
   "source": [
    "\n",
    "exports_plus_re = df[df[\"trade_type\"].isin([\"Export\",\"Re-Export\"])].copy()\n",
    "\n",
    "oil_exp = (df[(df[\"trade_type\"]==\"Export\") & (df[\"oil_flag\"]==\"Oil (HS 27)\")]\n",
    "           .groupby(\"year\", as_index=False)[\"value_omr\"].sum()\n",
    "           .rename(columns={\"value_omr\":\"oil_export\"}))\n",
    "\n",
    "non_oil_exp = (df[(df[\"trade_type\"]==\"Export\") & (df[\"oil_flag\"]==\"Non‑Oil\")]\n",
    "               .groupby(\"year\", as_index=False)[\"value_omr\"].sum()\n",
    "               .rename(columns={\"value_omr\":\"non_oil_export\"}))\n",
    "\n",
    "reexp = (df[df[\"trade_type\"]==\"Re-Export\"]\n",
    "         .groupby(\"year\", as_index=False)[\"value_omr\"].sum()\n",
    "         .rename(columns={\"value_omr\":\"reexport\"}))\n",
    "\n",
    "totals = (exports_plus_re.groupby(\"year\", as_index=False)[\"value_omr\"].sum()\n",
    "          .rename(columns={\"value_omr\":\"total_exports\"}))\n",
    "\n",
    "comp = (totals.merge(oil_exp, on=\"year\", how=\"left\")\n",
    "               .merge(non_oil_exp, on=\"year\", how=\"left\")\n",
    "               .merge(reexp, on=\"year\", how=\"left\")).fillna(0.0).sort_values(\"year\")\n",
    "\n",
    "comp[\"total_prev\"] = comp[\"total_exports\"].shift(1)\n",
    "for col in [\"oil_export\",\"non_oil_export\",\"reexport\",\"total_exports\"]:\n",
    "    comp[f\"delta_{col}\"] = comp[col].diff()\n",
    "\n",
    "comp[\"contrib_pp_oil\"]      = np.where(comp[\"total_prev\"]>0, comp[\"delta_oil_export\"]     / comp[\"total_prev\"] * 100, np.nan)\n",
    "comp[\"contrib_pp_non_oil\"]  = np.where(comp[\"total_prev\"]>0, comp[\"delta_non_oil_export\"] / comp[\"total_prev\"] * 100, np.nan)\n",
    "comp[\"contrib_pp_reexport\"] = np.where(comp[\"total_prev\"]>0, comp[\"delta_reexport\"]       / comp[\"total_prev\"] * 100, np.nan)\n",
    "comp[\"yoy_total_%\"]         = np.where(comp[\"total_prev\"]>0, comp[\"delta_total_exports\"]  / comp[\"total_prev\"] * 100, np.nan)\n",
    "\n",
    "comp[[\"year\",\"total_exports\",\"yoy_total_%\",\"contrib_pp_oil\",\"contrib_pp_non_oil\",\"contrib_pp_reexport\"]].head(10)\n"
   ]
  },
  {
   "cell_type": "code",
   "execution_count": null,
   "id": "bb199e08",
   "metadata": {},
   "outputs": [
    {
     "data": {
      "application/vnd.plotly.v1+json": {
       "config": {
        "plotlyServerURL": "https://plot.ly"
       },
       "data": [
        {
         "name": "Non‑Oil (pp)",
         "type": "bar",
         "x": {
          "bdata": "zgfPB9AH0QfSB9MH1AfVB9YH1wfYB9kH2gfbB9wH3QfeB98H4AfhB+IH4wfkB+UH5gfnB+gH",
          "dtype": "i2"
         },
         "y": {
          "bdata": "AAAAAAAA+H8spZ6Z7kOmP55pyMnn0Po/c4NR4mZN2z8IaY2/cAWrPxurCzNuE/E/SZtvVV+MA0CR3jhxCswEQMFWih2Kl/g/dZGTzg9FCUApOybcJzoXQF6ZzYTJ6+I/cmvZYfPID0BWzMgHPAwZQEt+y2gWwOQ/862LjGKy8D+x1QpDnW/hP3ARB6Ux7QXAhh3a3cspEsBG4H6vkhYcQH/liJR/lhhAvpPdC2d2AsA5XSSGg1n5P0HdKzgJkCtAqBIRGgFHIEAbEdx/y4AKwBpGaLFlrALA",
          "dtype": "f8"
         }
        },
        {
         "name": "Oil (pp)",
         "type": "bar",
         "x": {
          "bdata": "zgfPB9AH0QfSB9MH1AfVB9YH1wfYB9kH2gfbB9wH3QfeB98H4AfhB+IH4wfkB+UH5gfnB+gH",
          "dtype": "i2"
         },
         "y": {
          "bdata": "AAAAAAAA+H9IuBlJF7VAQIww70GA3EpAWiggsGPRC8Cd1XtAFWEHwM0fdl45WhdAWVUiLw+wK0AqaebpBTpCQA3/r/RXFitA9EGk+tlSC0ClNAso9tlCQKWM7JEudjzAckBxQHN6PEDi+DDZSsgzQBMUXyYX3CNAFq+zSqPvCEB6yuYnXgQLwLEaNNZNPTzAaIZ8OyaZLcDK74MjSV0kQDy8JC2/oDJAHI8C2NYtAcDa5Tds3uI0wFeD9Ssg9TZAHPxwWK12RkAA0o1nrP3wv0qJt+P3NCRA",
          "dtype": "f8"
         }
        },
        {
         "name": "Re‑Export (pp)",
         "type": "bar",
         "x": {
          "bdata": "zgfPB9AH0QfSB9MH1AfVB9YH1wfYB9kH2gfbB9wH3QfeB98H4AfhB+IH4wfkB+UH5gfnB+gH",
          "dtype": "i2"
         },
         "y": {
          "bdata": "AAAAAAAA+H+ATs9d+kb9v79Khy7QZfk/2WiD9UmE/T9dhqFCSjMMQBPHMFI5qgfA+qJ74SeX9r+g8QL4P7fsPzx7HewDlQRAxwrDbK6bBkA7PiHJD2EWQELvfUGgsAJAIrb4eNpU6z+ay3H+fzwDQBw+XSzR8PU/Qk1mpp2nFUDnvbh1E2AGwHb4v7Ysk/2/FXmUbGVzDsDZi60WXjbgPwU0yL3mXQHAShD2r8wwBMB/Y0kxALECQEztqcJ+SBDAjj92CFa0Yr+SU4k+wfrmP9kmLMQlnN8/",
          "dtype": "f8"
         }
        }
       ],
       "layout": {
        "barmode": "relative",
        "template": {
         "data": {
          "bar": [
           {
            "error_x": {
             "color": "#2a3f5f"
            },
            "error_y": {
             "color": "#2a3f5f"
            },
            "marker": {
             "line": {
              "color": "white",
              "width": 0.5
             },
             "pattern": {
              "fillmode": "overlay",
              "size": 10,
              "solidity": 0.2
             }
            },
            "type": "bar"
           }
          ],
          "barpolar": [
           {
            "marker": {
             "line": {
              "color": "white",
              "width": 0.5
             },
             "pattern": {
              "fillmode": "overlay",
              "size": 10,
              "solidity": 0.2
             }
            },
            "type": "barpolar"
           }
          ],
          "carpet": [
           {
            "aaxis": {
             "endlinecolor": "#2a3f5f",
             "gridcolor": "#C8D4E3",
             "linecolor": "#C8D4E3",
             "minorgridcolor": "#C8D4E3",
             "startlinecolor": "#2a3f5f"
            },
            "baxis": {
             "endlinecolor": "#2a3f5f",
             "gridcolor": "#C8D4E3",
             "linecolor": "#C8D4E3",
             "minorgridcolor": "#C8D4E3",
             "startlinecolor": "#2a3f5f"
            },
            "type": "carpet"
           }
          ],
          "choropleth": [
           {
            "colorbar": {
             "outlinewidth": 0,
             "ticks": ""
            },
            "type": "choropleth"
           }
          ],
          "contour": [
           {
            "colorbar": {
             "outlinewidth": 0,
             "ticks": ""
            },
            "colorscale": [
             [
              0,
              "#0d0887"
             ],
             [
              0.1111111111111111,
              "#46039f"
             ],
             [
              0.2222222222222222,
              "#7201a8"
             ],
             [
              0.3333333333333333,
              "#9c179e"
             ],
             [
              0.4444444444444444,
              "#bd3786"
             ],
             [
              0.5555555555555556,
              "#d8576b"
             ],
             [
              0.6666666666666666,
              "#ed7953"
             ],
             [
              0.7777777777777778,
              "#fb9f3a"
             ],
             [
              0.8888888888888888,
              "#fdca26"
             ],
             [
              1,
              "#f0f921"
             ]
            ],
            "type": "contour"
           }
          ],
          "contourcarpet": [
           {
            "colorbar": {
             "outlinewidth": 0,
             "ticks": ""
            },
            "type": "contourcarpet"
           }
          ],
          "heatmap": [
           {
            "colorbar": {
             "outlinewidth": 0,
             "ticks": ""
            },
            "colorscale": [
             [
              0,
              "#0d0887"
             ],
             [
              0.1111111111111111,
              "#46039f"
             ],
             [
              0.2222222222222222,
              "#7201a8"
             ],
             [
              0.3333333333333333,
              "#9c179e"
             ],
             [
              0.4444444444444444,
              "#bd3786"
             ],
             [
              0.5555555555555556,
              "#d8576b"
             ],
             [
              0.6666666666666666,
              "#ed7953"
             ],
             [
              0.7777777777777778,
              "#fb9f3a"
             ],
             [
              0.8888888888888888,
              "#fdca26"
             ],
             [
              1,
              "#f0f921"
             ]
            ],
            "type": "heatmap"
           }
          ],
          "histogram": [
           {
            "marker": {
             "pattern": {
              "fillmode": "overlay",
              "size": 10,
              "solidity": 0.2
             }
            },
            "type": "histogram"
           }
          ],
          "histogram2d": [
           {
            "colorbar": {
             "outlinewidth": 0,
             "ticks": ""
            },
            "colorscale": [
             [
              0,
              "#0d0887"
             ],
             [
              0.1111111111111111,
              "#46039f"
             ],
             [
              0.2222222222222222,
              "#7201a8"
             ],
             [
              0.3333333333333333,
              "#9c179e"
             ],
             [
              0.4444444444444444,
              "#bd3786"
             ],
             [
              0.5555555555555556,
              "#d8576b"
             ],
             [
              0.6666666666666666,
              "#ed7953"
             ],
             [
              0.7777777777777778,
              "#fb9f3a"
             ],
             [
              0.8888888888888888,
              "#fdca26"
             ],
             [
              1,
              "#f0f921"
             ]
            ],
            "type": "histogram2d"
           }
          ],
          "histogram2dcontour": [
           {
            "colorbar": {
             "outlinewidth": 0,
             "ticks": ""
            },
            "colorscale": [
             [
              0,
              "#0d0887"
             ],
             [
              0.1111111111111111,
              "#46039f"
             ],
             [
              0.2222222222222222,
              "#7201a8"
             ],
             [
              0.3333333333333333,
              "#9c179e"
             ],
             [
              0.4444444444444444,
              "#bd3786"
             ],
             [
              0.5555555555555556,
              "#d8576b"
             ],
             [
              0.6666666666666666,
              "#ed7953"
             ],
             [
              0.7777777777777778,
              "#fb9f3a"
             ],
             [
              0.8888888888888888,
              "#fdca26"
             ],
             [
              1,
              "#f0f921"
             ]
            ],
            "type": "histogram2dcontour"
           }
          ],
          "mesh3d": [
           {
            "colorbar": {
             "outlinewidth": 0,
             "ticks": ""
            },
            "type": "mesh3d"
           }
          ],
          "parcoords": [
           {
            "line": {
             "colorbar": {
              "outlinewidth": 0,
              "ticks": ""
             }
            },
            "type": "parcoords"
           }
          ],
          "pie": [
           {
            "automargin": true,
            "type": "pie"
           }
          ],
          "scatter": [
           {
            "fillpattern": {
             "fillmode": "overlay",
             "size": 10,
             "solidity": 0.2
            },
            "type": "scatter"
           }
          ],
          "scatter3d": [
           {
            "line": {
             "colorbar": {
              "outlinewidth": 0,
              "ticks": ""
             }
            },
            "marker": {
             "colorbar": {
              "outlinewidth": 0,
              "ticks": ""
             }
            },
            "type": "scatter3d"
           }
          ],
          "scattercarpet": [
           {
            "marker": {
             "colorbar": {
              "outlinewidth": 0,
              "ticks": ""
             }
            },
            "type": "scattercarpet"
           }
          ],
          "scattergeo": [
           {
            "marker": {
             "colorbar": {
              "outlinewidth": 0,
              "ticks": ""
             }
            },
            "type": "scattergeo"
           }
          ],
          "scattergl": [
           {
            "marker": {
             "colorbar": {
              "outlinewidth": 0,
              "ticks": ""
             }
            },
            "type": "scattergl"
           }
          ],
          "scattermap": [
           {
            "marker": {
             "colorbar": {
              "outlinewidth": 0,
              "ticks": ""
             }
            },
            "type": "scattermap"
           }
          ],
          "scattermapbox": [
           {
            "marker": {
             "colorbar": {
              "outlinewidth": 0,
              "ticks": ""
             }
            },
            "type": "scattermapbox"
           }
          ],
          "scatterpolar": [
           {
            "marker": {
             "colorbar": {
              "outlinewidth": 0,
              "ticks": ""
             }
            },
            "type": "scatterpolar"
           }
          ],
          "scatterpolargl": [
           {
            "marker": {
             "colorbar": {
              "outlinewidth": 0,
              "ticks": ""
             }
            },
            "type": "scatterpolargl"
           }
          ],
          "scatterternary": [
           {
            "marker": {
             "colorbar": {
              "outlinewidth": 0,
              "ticks": ""
             }
            },
            "type": "scatterternary"
           }
          ],
          "surface": [
           {
            "colorbar": {
             "outlinewidth": 0,
             "ticks": ""
            },
            "colorscale": [
             [
              0,
              "#0d0887"
             ],
             [
              0.1111111111111111,
              "#46039f"
             ],
             [
              0.2222222222222222,
              "#7201a8"
             ],
             [
              0.3333333333333333,
              "#9c179e"
             ],
             [
              0.4444444444444444,
              "#bd3786"
             ],
             [
              0.5555555555555556,
              "#d8576b"
             ],
             [
              0.6666666666666666,
              "#ed7953"
             ],
             [
              0.7777777777777778,
              "#fb9f3a"
             ],
             [
              0.8888888888888888,
              "#fdca26"
             ],
             [
              1,
              "#f0f921"
             ]
            ],
            "type": "surface"
           }
          ],
          "table": [
           {
            "cells": {
             "fill": {
              "color": "#EBF0F8"
             },
             "line": {
              "color": "white"
             }
            },
            "header": {
             "fill": {
              "color": "#C8D4E3"
             },
             "line": {
              "color": "white"
             }
            },
            "type": "table"
           }
          ]
         },
         "layout": {
          "annotationdefaults": {
           "arrowcolor": "#2a3f5f",
           "arrowhead": 0,
           "arrowwidth": 1
          },
          "autotypenumbers": "strict",
          "coloraxis": {
           "colorbar": {
            "outlinewidth": 0,
            "ticks": ""
           }
          },
          "colorscale": {
           "diverging": [
            [
             0,
             "#8e0152"
            ],
            [
             0.1,
             "#c51b7d"
            ],
            [
             0.2,
             "#de77ae"
            ],
            [
             0.3,
             "#f1b6da"
            ],
            [
             0.4,
             "#fde0ef"
            ],
            [
             0.5,
             "#f7f7f7"
            ],
            [
             0.6,
             "#e6f5d0"
            ],
            [
             0.7,
             "#b8e186"
            ],
            [
             0.8,
             "#7fbc41"
            ],
            [
             0.9,
             "#4d9221"
            ],
            [
             1,
             "#276419"
            ]
           ],
           "sequential": [
            [
             0,
             "#0d0887"
            ],
            [
             0.1111111111111111,
             "#46039f"
            ],
            [
             0.2222222222222222,
             "#7201a8"
            ],
            [
             0.3333333333333333,
             "#9c179e"
            ],
            [
             0.4444444444444444,
             "#bd3786"
            ],
            [
             0.5555555555555556,
             "#d8576b"
            ],
            [
             0.6666666666666666,
             "#ed7953"
            ],
            [
             0.7777777777777778,
             "#fb9f3a"
            ],
            [
             0.8888888888888888,
             "#fdca26"
            ],
            [
             1,
             "#f0f921"
            ]
           ],
           "sequentialminus": [
            [
             0,
             "#0d0887"
            ],
            [
             0.1111111111111111,
             "#46039f"
            ],
            [
             0.2222222222222222,
             "#7201a8"
            ],
            [
             0.3333333333333333,
             "#9c179e"
            ],
            [
             0.4444444444444444,
             "#bd3786"
            ],
            [
             0.5555555555555556,
             "#d8576b"
            ],
            [
             0.6666666666666666,
             "#ed7953"
            ],
            [
             0.7777777777777778,
             "#fb9f3a"
            ],
            [
             0.8888888888888888,
             "#fdca26"
            ],
            [
             1,
             "#f0f921"
            ]
           ]
          },
          "colorway": [
           "#636efa",
           "#EF553B",
           "#00cc96",
           "#ab63fa",
           "#FFA15A",
           "#19d3f3",
           "#FF6692",
           "#B6E880",
           "#FF97FF",
           "#FECB52"
          ],
          "font": {
           "color": "#2a3f5f"
          },
          "geo": {
           "bgcolor": "white",
           "lakecolor": "white",
           "landcolor": "white",
           "showlakes": true,
           "showland": true,
           "subunitcolor": "#C8D4E3"
          },
          "hoverlabel": {
           "align": "left"
          },
          "hovermode": "closest",
          "mapbox": {
           "style": "light"
          },
          "paper_bgcolor": "white",
          "plot_bgcolor": "white",
          "polar": {
           "angularaxis": {
            "gridcolor": "#EBF0F8",
            "linecolor": "#EBF0F8",
            "ticks": ""
           },
           "bgcolor": "white",
           "radialaxis": {
            "gridcolor": "#EBF0F8",
            "linecolor": "#EBF0F8",
            "ticks": ""
           }
          },
          "scene": {
           "xaxis": {
            "backgroundcolor": "white",
            "gridcolor": "#DFE8F3",
            "gridwidth": 2,
            "linecolor": "#EBF0F8",
            "showbackground": true,
            "ticks": "",
            "zerolinecolor": "#EBF0F8"
           },
           "yaxis": {
            "backgroundcolor": "white",
            "gridcolor": "#DFE8F3",
            "gridwidth": 2,
            "linecolor": "#EBF0F8",
            "showbackground": true,
            "ticks": "",
            "zerolinecolor": "#EBF0F8"
           },
           "zaxis": {
            "backgroundcolor": "white",
            "gridcolor": "#DFE8F3",
            "gridwidth": 2,
            "linecolor": "#EBF0F8",
            "showbackground": true,
            "ticks": "",
            "zerolinecolor": "#EBF0F8"
           }
          },
          "shapedefaults": {
           "line": {
            "color": "#2a3f5f"
           }
          },
          "ternary": {
           "aaxis": {
            "gridcolor": "#DFE8F3",
            "linecolor": "#A2B1C6",
            "ticks": ""
           },
           "baxis": {
            "gridcolor": "#DFE8F3",
            "linecolor": "#A2B1C6",
            "ticks": ""
           },
           "bgcolor": "white",
           "caxis": {
            "gridcolor": "#DFE8F3",
            "linecolor": "#A2B1C6",
            "ticks": ""
           }
          },
          "title": {
           "x": 0.05
          },
          "xaxis": {
           "automargin": true,
           "gridcolor": "#EBF0F8",
           "linecolor": "#EBF0F8",
           "ticks": "",
           "title": {
            "standoff": 15
           },
           "zerolinecolor": "#EBF0F8",
           "zerolinewidth": 2
          },
          "yaxis": {
           "automargin": true,
           "gridcolor": "#EBF0F8",
           "linecolor": "#EBF0F8",
           "ticks": "",
           "title": {
            "standoff": 15
           },
           "zerolinecolor": "#EBF0F8",
           "zerolinewidth": 2
          }
         }
        },
        "title": {
         "text": "Contribution to Total Exports YoY Growth (pp) — Imports Excluded from Total"
        },
        "xaxis": {
         "title": {
          "text": "Year"
         }
        },
        "yaxis": {
         "title": {
          "text": "Percentage points"
         }
        }
       }
      }
     },
     "metadata": {},
     "output_type": "display_data"
    }
   ],
   "source": [
    "\n",
    "import plotly.graph_objects as go\n",
    "fig18 = go.Figure()\n",
    "fig18.add_bar(x=comp[\"year\"], y=comp[\"contrib_pp_non_oil\"], name=\"Non‑Oil (pp)\")\n",
    "fig18.add_bar(x=comp[\"year\"], y=comp[\"contrib_pp_oil\"], name=\"Oil (pp)\")\n",
    "fig18.add_bar(x=comp[\"year\"], y=comp[\"contrib_pp_reexport\"], name=\"Re‑Export (pp)\")\n",
    "fig18.update_layout(barmode=\"relative\", title=\"Contribution to Total Exports YoY Growth (pp) — Imports Excluded from Total\",\n",
    "                    xaxis_title=\"Year\", yaxis_title=\"Percentage points\", template=\"plotly_white\")\n",
    "fig18.show()\n"
   ]
  },
  {
   "cell_type": "markdown",
   "id": "ab4e7296",
   "metadata": {},
   "source": [
    "## 19) Contribution to **Non‑Oil Exports** Growth by BEC"
   ]
  },
  {
   "cell_type": "code",
   "execution_count": null,
   "id": "a69440c9",
   "metadata": {},
   "outputs": [
    {
     "data": {
      "text/html": [
       "<div>\n",
       "<style scoped>\n",
       "    .dataframe tbody tr th:only-of-type {\n",
       "        vertical-align: middle;\n",
       "    }\n",
       "\n",
       "    .dataframe tbody tr th {\n",
       "        vertical-align: top;\n",
       "    }\n",
       "\n",
       "    .dataframe thead th {\n",
       "        text-align: right;\n",
       "    }\n",
       "</style>\n",
       "<table border=\"1\" class=\"dataframe\">\n",
       "  <thead>\n",
       "    <tr style=\"text-align: right;\">\n",
       "      <th></th>\n",
       "      <th>year</th>\n",
       "      <th>BEC</th>\n",
       "      <th>contrib_pp</th>\n",
       "    </tr>\n",
       "  </thead>\n",
       "  <tbody>\n",
       "    <tr>\n",
       "      <th>0</th>\n",
       "      <td>1998</td>\n",
       "      <td>Capital Goods</td>\n",
       "      <td>NaN</td>\n",
       "    </tr>\n",
       "    <tr>\n",
       "      <th>1</th>\n",
       "      <td>1999</td>\n",
       "      <td>Capital Goods</td>\n",
       "      <td>-3</td>\n",
       "    </tr>\n",
       "    <tr>\n",
       "      <th>2</th>\n",
       "      <td>2000</td>\n",
       "      <td>Capital Goods</td>\n",
       "      <td>2</td>\n",
       "    </tr>\n",
       "    <tr>\n",
       "      <th>3</th>\n",
       "      <td>2001</td>\n",
       "      <td>Capital Goods</td>\n",
       "      <td>2</td>\n",
       "    </tr>\n",
       "    <tr>\n",
       "      <th>4</th>\n",
       "      <td>2002</td>\n",
       "      <td>Capital Goods</td>\n",
       "      <td>1</td>\n",
       "    </tr>\n",
       "    <tr>\n",
       "      <th>5</th>\n",
       "      <td>2003</td>\n",
       "      <td>Capital Goods</td>\n",
       "      <td>1</td>\n",
       "    </tr>\n",
       "    <tr>\n",
       "      <th>6</th>\n",
       "      <td>2004</td>\n",
       "      <td>Capital Goods</td>\n",
       "      <td>3</td>\n",
       "    </tr>\n",
       "    <tr>\n",
       "      <th>7</th>\n",
       "      <td>2005</td>\n",
       "      <td>Capital Goods</td>\n",
       "      <td>4</td>\n",
       "    </tr>\n",
       "    <tr>\n",
       "      <th>8</th>\n",
       "      <td>2006</td>\n",
       "      <td>Capital Goods</td>\n",
       "      <td>8</td>\n",
       "    </tr>\n",
       "    <tr>\n",
       "      <th>9</th>\n",
       "      <td>2007</td>\n",
       "      <td>Capital Goods</td>\n",
       "      <td>14</td>\n",
       "    </tr>\n",
       "  </tbody>\n",
       "</table>\n",
       "</div>"
      ],
      "text/plain": [
       "   year            BEC  contrib_pp\n",
       "0  1998  Capital Goods         NaN\n",
       "1  1999  Capital Goods          -3\n",
       "2  2000  Capital Goods           2\n",
       "3  2001  Capital Goods           2\n",
       "4  2002  Capital Goods           1\n",
       "5  2003  Capital Goods           1\n",
       "6  2004  Capital Goods           3\n",
       "7  2005  Capital Goods           4\n",
       "8  2006  Capital Goods           8\n",
       "9  2007  Capital Goods          14"
      ]
     },
     "execution_count": 57,
     "metadata": {},
     "output_type": "execute_result"
    }
   ],
   "source": [
    "\n",
    "no_bec = (df[(df[\"trade_type\"]==\"Export\") & (df[\"oil_flag\"]==\"Non‑Oil\")]\n",
    "          .groupby([\"year\",\"bec_broad\"], as_index=False)[\"value_omr\"].sum())\n",
    "\n",
    "no_total = (df[(df[\"trade_type\"]==\"Export\") & (df[\"oil_flag\"]==\"Non‑Oil\")]\n",
    "            .groupby(\"year\", as_index=False)[\"value_omr\"].sum()\n",
    "            .rename(columns={\"value_omr\":\"non_oil_total\"}))\n",
    "\n",
    "wide = no_bec.pivot(index=\"year\", columns=\"bec_broad\", values=\"value_omr\").fillna(0.0).sort_index()\n",
    "wide = wide.merge(no_total.set_index(\"year\"), left_index=True, right_index=True, how=\"left\")\n",
    "\n",
    "wide[\"total_prev\"] = wide[\"non_oil_total\"].shift(1)\n",
    "deltas = wide.drop(columns=[\"non_oil_total\",\"total_prev\"]).diff()\n",
    "contrib_pp = deltas.div(wide[\"total_prev\"], axis=0) * 100\n",
    "contrib_pp = contrib_pp.reset_index().melt(id_vars=\"year\", var_name=\"BEC\", value_name=\"contrib_pp\")\n",
    "\n",
    "contrib_pp.head(10)\n"
   ]
  },
  {
   "cell_type": "code",
   "execution_count": null,
   "id": "da34c1e1",
   "metadata": {},
   "outputs": [
    {
     "data": {
      "application/vnd.plotly.v1+json": {
       "config": {
        "plotlyServerURL": "https://plot.ly"
       },
       "data": [
        {
         "hovertemplate": "BEC=Capital Goods<br>year=%{x}<br>Percentage points=%{y}<extra></extra>",
         "legendgroup": "Capital Goods",
         "marker": {
          "color": "#636efa",
          "pattern": {
           "shape": ""
          }
         },
         "name": "Capital Goods",
         "orientation": "v",
         "showlegend": true,
         "textposition": "auto",
         "type": "bar",
         "x": {
          "bdata": "zgfPB9AH0QfSB9MH1AfVB9YH1wfYB9kH2gfbB9wH3QfeB98H4AfhB+IH4wfkB+UH5gfnB+gH",
          "dtype": "i2"
         },
         "xaxis": "x",
         "y": {
          "bdata": "AAAAAAAA+H9+UWHNBVAIwGzCRiH8M/s/OqNUWNrB/T/KDNQgib3kP17zzzho1uk/bv5VRc51CUABHQjEJoUMQKhjzgeQgiBAt+jJ/R/GK0C6Kkw694sXQOW7PWddxxrAamVECMjX+L+kNoaTHkjgPx4+qd7tc9e/Y5IUNPCa6z8lWfY/I3rjP3X7M5QvjNS/QBcIQWGU8b/zAw8mcuzkv2H96vSWtv4/HAuJ6nho8b/TiLTq5B9UP7OEPL5E8PQ/FjVFnH9AoD+tIki4P7wKQH5gPyi99Py/",
          "dtype": "f8"
         },
         "yaxis": "y"
        },
        {
         "hovertemplate": "BEC=Consumer Goods<br>year=%{x}<br>Percentage points=%{y}<extra></extra>",
         "legendgroup": "Consumer Goods",
         "marker": {
          "color": "#EF553B",
          "pattern": {
           "shape": ""
          }
         },
         "name": "Consumer Goods",
         "orientation": "v",
         "showlegend": true,
         "textposition": "auto",
         "type": "bar",
         "x": {
          "bdata": "zgfPB9AH0QfSB9MH1AfVB9YH1wfYB9kH2gfbB9wH3QfeB98H4AfhB+IH4wfkB+UH5gfnB+gH",
          "dtype": "i2"
         },
         "xaxis": "x",
         "y": {
          "bdata": "AAAAAAAA+H92DEbYMh0FwBTq98uo0gtAZcKBP6mC4T83es+tWNYCwNAlM7rdbwVAhvhJVdqQ9T8FiilJLRv3P/R9j9/+EAPAyyk5tcLp9D+uS0h6TBgGQDWediVqTPM/e+Xnavtf4j+sImhokMOZP7eoKdjkZ+o/4vmFyIYKmz+EY6JGlHXuP3dDKylSVbc/NPDdyCbWvL9gHmrluJfsP8O/ioJ0N98/ADpTv3j58j+KL1gkLjv5P0pHiaKX8Oy/OFOuUoJ52T+7U23yVjXcP6LW0FesheA/",
          "dtype": "f8"
         },
         "yaxis": "y"
        },
        {
         "hovertemplate": "BEC=Food & Beverages<br>year=%{x}<br>Percentage points=%{y}<extra></extra>",
         "legendgroup": "Food & Beverages",
         "marker": {
          "color": "#00cc96",
          "pattern": {
           "shape": ""
          }
         },
         "name": "Food & Beverages",
         "orientation": "v",
         "showlegend": true,
         "textposition": "auto",
         "type": "bar",
         "x": {
          "bdata": "zgfPB9AH0QfSB9MH1AfVB9YH1wfYB9kH2gfbB9wH3QfeB98H4AfhB+IH4wfkB+UH5gfnB+gH",
          "dtype": "i2"
         },
         "xaxis": "x",
         "y": {
          "bdata": "AAAAAAAA+H82sIT9/sD/vxO+wmq0+AlA7+g+yDAztD/zaoPEOk/Pvz00qc5H0wLAY/Ng1lQs3r8pxhZL5iXyPzjcW1ppi9S/xXCYe6hZ3L+KocYZS+PfP+SGCYSTFLG/aqWKkZ4p5T8E4C6gxj+0v3H010FN4KG/XF9L4FWtAED4QGoTkUXpv825SgCu1cU/Rp0MK1/nub+4lRf47w3Gv/IVod1PG4G/9HMNSWjd0b9t4CNQNOarv3izPYxHDLg/rs120qAlxT/uajs6pL22v56GXOCQj6I/",
          "dtype": "f8"
         },
         "yaxis": "y"
        },
        {
         "hovertemplate": "BEC=Fuels & Lubricants<br>year=%{x}<br>Percentage points=%{y}<extra></extra>",
         "legendgroup": "Fuels & Lubricants",
         "marker": {
          "color": "#ab63fa",
          "pattern": {
           "shape": ""
          }
         },
         "name": "Fuels & Lubricants",
         "orientation": "v",
         "showlegend": true,
         "textposition": "auto",
         "type": "bar",
         "x": {
          "bdata": "zgfPB9AH0QfSB9MH1AfVB9YH1wfYB9kH2gfbB9wH3QfeB98H4AfhB+IH4wfkB+UH5gfnB+gH",
          "dtype": "i2"
         },
         "xaxis": "x",
         "y": {
          "bdata": "AAAAAAAA+H+ZYSAZfn8FQKLADqLHsQZAjpUtshAG8D+nfpjWT0L1Py1U0sX3+glApdcSQyvmcb87NPwqB0LzP+pg6EnTaQpAasA7p4TVCEA1aATS1TcNQCz2sTlR3f+/w1bW3kHK8T/r5Ax0h14OQNoppIaK9BJANYJuk6RxIkCAU4ZruuYcwGVJn6sIhgzAMab4QwMXDsA2/OZQRCgwQMQfxYJ4JMY/GzTRBXoJEMAc2O9skRkCQOtep8tUzRFA17XurYqiJEAyfKFYIQALwP256+Qq+do/",
          "dtype": "f8"
         },
         "yaxis": "y"
        },
        {
         "hovertemplate": "BEC=Industrial Supplies<br>year=%{x}<br>Percentage points=%{y}<extra></extra>",
         "legendgroup": "Industrial Supplies",
         "marker": {
          "color": "#FFA15A",
          "pattern": {
           "shape": ""
          }
         },
         "name": "Industrial Supplies",
         "orientation": "v",
         "showlegend": true,
         "textposition": "auto",
         "type": "bar",
         "x": {
          "bdata": "zgfPB9AH0QfSB9MH1AfVB9YH1wfYB9kH2gfbB9wH3QfeB98H4AfhB+IH4wfkB+UH5gfnB+gH",
          "dtype": "i2"
         },
         "xaxis": "x",
         "y": {
          "bdata": "AAAAAAAA+H/rQ+Rdf2MWQLol3mh3SypAmb8HmD72EEA5l4kGkIrzPwjwQ1LUtytA8c184gYRQEBM0/DQEiM5QLwLcduyuCZASkUIsNL1NkCs8wN6LnlGQAOIUDuxWSpAcM1mYTzmOUBk2yEyasdDQM7t9UKzJ/G/FQkHcUybFMBhE6+JMLEjQBajAr5YnyvAEhSP2Z9cMcAErrnyjqIzQO+CtucrhTNA0/aB7NdmG8BQlPptwdIfQH15XGHVV0RA3dHcwLW5LkA97GMJFccpwOeQuiWf7SHA",
          "dtype": "f8"
         },
         "yaxis": "y"
        },
        {
         "hovertemplate": "BEC=Special Category<br>year=%{x}<br>Percentage points=%{y}<extra></extra>",
         "legendgroup": "Special Category",
         "marker": {
          "color": "#19d3f3",
          "pattern": {
           "shape": ""
          }
         },
         "name": "Special Category",
         "orientation": "v",
         "showlegend": true,
         "textposition": "auto",
         "type": "bar",
         "x": {
          "bdata": "zgfPB9AH0QfSB9MH1AfVB9YH1wfYB9kH2gfbB9wH3QfeB98H4AfhB+IH4wfkB+UH5gfnB+gH",
          "dtype": "i2"
         },
         "xaxis": "x",
         "y": {
          "bdata": "AAAAAAAA+H98LfXFri5gv2tqWdhz9na/S/APqE6UQb/5MU4UntQIPx02VO+knAi/32fGTuqJIT98wE8bR8QFv5PMIJzadQa/AAAAAAAAAABK+sN4r2EjP+PHibDGtIw/4krwGT9ei78AAAAAAAAAAAAAAAAAAAAAAAAAAAAAAAAAAAAAAAAAAAAAAAAAAAAAAAAAAAAAAAAAAAAAAAAAAFJa9Ou27cE/L5oEKdj1qL8WONoc02+xvwAAAAAAAAAAAAAAAAAAAAAAAAAAAAAAABiZKGbLPWw/",
          "dtype": "f8"
         },
         "yaxis": "y"
        },
        {
         "hovertemplate": "BEC=Transport Equipment<br>year=%{x}<br>Percentage points=%{y}<extra></extra>",
         "legendgroup": "Transport Equipment",
         "marker": {
          "color": "#FF6692",
          "pattern": {
           "shape": ""
          }
         },
         "name": "Transport Equipment",
         "orientation": "v",
         "showlegend": true,
         "textposition": "auto",
         "type": "bar",
         "x": {
          "bdata": "zgfPB9AH0QfSB9MH1AfVB9YH1wfYB9kH2gfbB9wH3QfeB98H4AfhB+IH4wfkB+UH5gfnB+gH",
          "dtype": "i2"
         },
         "xaxis": "x",
         "y": {
          "bdata": "AAAAAAAA+H9QBFDGnWzBv7fAipIUrB0/jQWh4etmvD9aPvq+JIbSP8q//hOkStS/A2/s+3Fxjb/XeXvxgGuTv0z+9/Nf67A/dEKL6xAsqb8o5b7rudXfP5yQpGMZxKu/BnkwPz50yb+Zd3HCrhPHP6YWkoiAdpu/Kc6g99EYgr82iH+oeZzXPwqEsDutss0/qAQEbr8E5r+wQK4E3228vwqqHTHwnBNAJA8gl7U99D9V8Hzsdd0SwILQO93Hk/U/lbvkRD2y878vfC9+J2a3P+/vFAbGNb4/",
          "dtype": "f8"
         },
         "yaxis": "y"
        }
       ],
       "layout": {
        "barmode": "relative",
        "legend": {
         "title": {
          "text": "BEC"
         },
         "tracegroupgap": 0
        },
        "template": {
         "data": {
          "bar": [
           {
            "error_x": {
             "color": "#2a3f5f"
            },
            "error_y": {
             "color": "#2a3f5f"
            },
            "marker": {
             "line": {
              "color": "white",
              "width": 0.5
             },
             "pattern": {
              "fillmode": "overlay",
              "size": 10,
              "solidity": 0.2
             }
            },
            "type": "bar"
           }
          ],
          "barpolar": [
           {
            "marker": {
             "line": {
              "color": "white",
              "width": 0.5
             },
             "pattern": {
              "fillmode": "overlay",
              "size": 10,
              "solidity": 0.2
             }
            },
            "type": "barpolar"
           }
          ],
          "carpet": [
           {
            "aaxis": {
             "endlinecolor": "#2a3f5f",
             "gridcolor": "#C8D4E3",
             "linecolor": "#C8D4E3",
             "minorgridcolor": "#C8D4E3",
             "startlinecolor": "#2a3f5f"
            },
            "baxis": {
             "endlinecolor": "#2a3f5f",
             "gridcolor": "#C8D4E3",
             "linecolor": "#C8D4E3",
             "minorgridcolor": "#C8D4E3",
             "startlinecolor": "#2a3f5f"
            },
            "type": "carpet"
           }
          ],
          "choropleth": [
           {
            "colorbar": {
             "outlinewidth": 0,
             "ticks": ""
            },
            "type": "choropleth"
           }
          ],
          "contour": [
           {
            "colorbar": {
             "outlinewidth": 0,
             "ticks": ""
            },
            "colorscale": [
             [
              0,
              "#0d0887"
             ],
             [
              0.1111111111111111,
              "#46039f"
             ],
             [
              0.2222222222222222,
              "#7201a8"
             ],
             [
              0.3333333333333333,
              "#9c179e"
             ],
             [
              0.4444444444444444,
              "#bd3786"
             ],
             [
              0.5555555555555556,
              "#d8576b"
             ],
             [
              0.6666666666666666,
              "#ed7953"
             ],
             [
              0.7777777777777778,
              "#fb9f3a"
             ],
             [
              0.8888888888888888,
              "#fdca26"
             ],
             [
              1,
              "#f0f921"
             ]
            ],
            "type": "contour"
           }
          ],
          "contourcarpet": [
           {
            "colorbar": {
             "outlinewidth": 0,
             "ticks": ""
            },
            "type": "contourcarpet"
           }
          ],
          "heatmap": [
           {
            "colorbar": {
             "outlinewidth": 0,
             "ticks": ""
            },
            "colorscale": [
             [
              0,
              "#0d0887"
             ],
             [
              0.1111111111111111,
              "#46039f"
             ],
             [
              0.2222222222222222,
              "#7201a8"
             ],
             [
              0.3333333333333333,
              "#9c179e"
             ],
             [
              0.4444444444444444,
              "#bd3786"
             ],
             [
              0.5555555555555556,
              "#d8576b"
             ],
             [
              0.6666666666666666,
              "#ed7953"
             ],
             [
              0.7777777777777778,
              "#fb9f3a"
             ],
             [
              0.8888888888888888,
              "#fdca26"
             ],
             [
              1,
              "#f0f921"
             ]
            ],
            "type": "heatmap"
           }
          ],
          "histogram": [
           {
            "marker": {
             "pattern": {
              "fillmode": "overlay",
              "size": 10,
              "solidity": 0.2
             }
            },
            "type": "histogram"
           }
          ],
          "histogram2d": [
           {
            "colorbar": {
             "outlinewidth": 0,
             "ticks": ""
            },
            "colorscale": [
             [
              0,
              "#0d0887"
             ],
             [
              0.1111111111111111,
              "#46039f"
             ],
             [
              0.2222222222222222,
              "#7201a8"
             ],
             [
              0.3333333333333333,
              "#9c179e"
             ],
             [
              0.4444444444444444,
              "#bd3786"
             ],
             [
              0.5555555555555556,
              "#d8576b"
             ],
             [
              0.6666666666666666,
              "#ed7953"
             ],
             [
              0.7777777777777778,
              "#fb9f3a"
             ],
             [
              0.8888888888888888,
              "#fdca26"
             ],
             [
              1,
              "#f0f921"
             ]
            ],
            "type": "histogram2d"
           }
          ],
          "histogram2dcontour": [
           {
            "colorbar": {
             "outlinewidth": 0,
             "ticks": ""
            },
            "colorscale": [
             [
              0,
              "#0d0887"
             ],
             [
              0.1111111111111111,
              "#46039f"
             ],
             [
              0.2222222222222222,
              "#7201a8"
             ],
             [
              0.3333333333333333,
              "#9c179e"
             ],
             [
              0.4444444444444444,
              "#bd3786"
             ],
             [
              0.5555555555555556,
              "#d8576b"
             ],
             [
              0.6666666666666666,
              "#ed7953"
             ],
             [
              0.7777777777777778,
              "#fb9f3a"
             ],
             [
              0.8888888888888888,
              "#fdca26"
             ],
             [
              1,
              "#f0f921"
             ]
            ],
            "type": "histogram2dcontour"
           }
          ],
          "mesh3d": [
           {
            "colorbar": {
             "outlinewidth": 0,
             "ticks": ""
            },
            "type": "mesh3d"
           }
          ],
          "parcoords": [
           {
            "line": {
             "colorbar": {
              "outlinewidth": 0,
              "ticks": ""
             }
            },
            "type": "parcoords"
           }
          ],
          "pie": [
           {
            "automargin": true,
            "type": "pie"
           }
          ],
          "scatter": [
           {
            "fillpattern": {
             "fillmode": "overlay",
             "size": 10,
             "solidity": 0.2
            },
            "type": "scatter"
           }
          ],
          "scatter3d": [
           {
            "line": {
             "colorbar": {
              "outlinewidth": 0,
              "ticks": ""
             }
            },
            "marker": {
             "colorbar": {
              "outlinewidth": 0,
              "ticks": ""
             }
            },
            "type": "scatter3d"
           }
          ],
          "scattercarpet": [
           {
            "marker": {
             "colorbar": {
              "outlinewidth": 0,
              "ticks": ""
             }
            },
            "type": "scattercarpet"
           }
          ],
          "scattergeo": [
           {
            "marker": {
             "colorbar": {
              "outlinewidth": 0,
              "ticks": ""
             }
            },
            "type": "scattergeo"
           }
          ],
          "scattergl": [
           {
            "marker": {
             "colorbar": {
              "outlinewidth": 0,
              "ticks": ""
             }
            },
            "type": "scattergl"
           }
          ],
          "scattermap": [
           {
            "marker": {
             "colorbar": {
              "outlinewidth": 0,
              "ticks": ""
             }
            },
            "type": "scattermap"
           }
          ],
          "scattermapbox": [
           {
            "marker": {
             "colorbar": {
              "outlinewidth": 0,
              "ticks": ""
             }
            },
            "type": "scattermapbox"
           }
          ],
          "scatterpolar": [
           {
            "marker": {
             "colorbar": {
              "outlinewidth": 0,
              "ticks": ""
             }
            },
            "type": "scatterpolar"
           }
          ],
          "scatterpolargl": [
           {
            "marker": {
             "colorbar": {
              "outlinewidth": 0,
              "ticks": ""
             }
            },
            "type": "scatterpolargl"
           }
          ],
          "scatterternary": [
           {
            "marker": {
             "colorbar": {
              "outlinewidth": 0,
              "ticks": ""
             }
            },
            "type": "scatterternary"
           }
          ],
          "surface": [
           {
            "colorbar": {
             "outlinewidth": 0,
             "ticks": ""
            },
            "colorscale": [
             [
              0,
              "#0d0887"
             ],
             [
              0.1111111111111111,
              "#46039f"
             ],
             [
              0.2222222222222222,
              "#7201a8"
             ],
             [
              0.3333333333333333,
              "#9c179e"
             ],
             [
              0.4444444444444444,
              "#bd3786"
             ],
             [
              0.5555555555555556,
              "#d8576b"
             ],
             [
              0.6666666666666666,
              "#ed7953"
             ],
             [
              0.7777777777777778,
              "#fb9f3a"
             ],
             [
              0.8888888888888888,
              "#fdca26"
             ],
             [
              1,
              "#f0f921"
             ]
            ],
            "type": "surface"
           }
          ],
          "table": [
           {
            "cells": {
             "fill": {
              "color": "#EBF0F8"
             },
             "line": {
              "color": "white"
             }
            },
            "header": {
             "fill": {
              "color": "#C8D4E3"
             },
             "line": {
              "color": "white"
             }
            },
            "type": "table"
           }
          ]
         },
         "layout": {
          "annotationdefaults": {
           "arrowcolor": "#2a3f5f",
           "arrowhead": 0,
           "arrowwidth": 1
          },
          "autotypenumbers": "strict",
          "coloraxis": {
           "colorbar": {
            "outlinewidth": 0,
            "ticks": ""
           }
          },
          "colorscale": {
           "diverging": [
            [
             0,
             "#8e0152"
            ],
            [
             0.1,
             "#c51b7d"
            ],
            [
             0.2,
             "#de77ae"
            ],
            [
             0.3,
             "#f1b6da"
            ],
            [
             0.4,
             "#fde0ef"
            ],
            [
             0.5,
             "#f7f7f7"
            ],
            [
             0.6,
             "#e6f5d0"
            ],
            [
             0.7,
             "#b8e186"
            ],
            [
             0.8,
             "#7fbc41"
            ],
            [
             0.9,
             "#4d9221"
            ],
            [
             1,
             "#276419"
            ]
           ],
           "sequential": [
            [
             0,
             "#0d0887"
            ],
            [
             0.1111111111111111,
             "#46039f"
            ],
            [
             0.2222222222222222,
             "#7201a8"
            ],
            [
             0.3333333333333333,
             "#9c179e"
            ],
            [
             0.4444444444444444,
             "#bd3786"
            ],
            [
             0.5555555555555556,
             "#d8576b"
            ],
            [
             0.6666666666666666,
             "#ed7953"
            ],
            [
             0.7777777777777778,
             "#fb9f3a"
            ],
            [
             0.8888888888888888,
             "#fdca26"
            ],
            [
             1,
             "#f0f921"
            ]
           ],
           "sequentialminus": [
            [
             0,
             "#0d0887"
            ],
            [
             0.1111111111111111,
             "#46039f"
            ],
            [
             0.2222222222222222,
             "#7201a8"
            ],
            [
             0.3333333333333333,
             "#9c179e"
            ],
            [
             0.4444444444444444,
             "#bd3786"
            ],
            [
             0.5555555555555556,
             "#d8576b"
            ],
            [
             0.6666666666666666,
             "#ed7953"
            ],
            [
             0.7777777777777778,
             "#fb9f3a"
            ],
            [
             0.8888888888888888,
             "#fdca26"
            ],
            [
             1,
             "#f0f921"
            ]
           ]
          },
          "colorway": [
           "#636efa",
           "#EF553B",
           "#00cc96",
           "#ab63fa",
           "#FFA15A",
           "#19d3f3",
           "#FF6692",
           "#B6E880",
           "#FF97FF",
           "#FECB52"
          ],
          "font": {
           "color": "#2a3f5f"
          },
          "geo": {
           "bgcolor": "white",
           "lakecolor": "white",
           "landcolor": "white",
           "showlakes": true,
           "showland": true,
           "subunitcolor": "#C8D4E3"
          },
          "hoverlabel": {
           "align": "left"
          },
          "hovermode": "closest",
          "mapbox": {
           "style": "light"
          },
          "paper_bgcolor": "white",
          "plot_bgcolor": "white",
          "polar": {
           "angularaxis": {
            "gridcolor": "#EBF0F8",
            "linecolor": "#EBF0F8",
            "ticks": ""
           },
           "bgcolor": "white",
           "radialaxis": {
            "gridcolor": "#EBF0F8",
            "linecolor": "#EBF0F8",
            "ticks": ""
           }
          },
          "scene": {
           "xaxis": {
            "backgroundcolor": "white",
            "gridcolor": "#DFE8F3",
            "gridwidth": 2,
            "linecolor": "#EBF0F8",
            "showbackground": true,
            "ticks": "",
            "zerolinecolor": "#EBF0F8"
           },
           "yaxis": {
            "backgroundcolor": "white",
            "gridcolor": "#DFE8F3",
            "gridwidth": 2,
            "linecolor": "#EBF0F8",
            "showbackground": true,
            "ticks": "",
            "zerolinecolor": "#EBF0F8"
           },
           "zaxis": {
            "backgroundcolor": "white",
            "gridcolor": "#DFE8F3",
            "gridwidth": 2,
            "linecolor": "#EBF0F8",
            "showbackground": true,
            "ticks": "",
            "zerolinecolor": "#EBF0F8"
           }
          },
          "shapedefaults": {
           "line": {
            "color": "#2a3f5f"
           }
          },
          "ternary": {
           "aaxis": {
            "gridcolor": "#DFE8F3",
            "linecolor": "#A2B1C6",
            "ticks": ""
           },
           "baxis": {
            "gridcolor": "#DFE8F3",
            "linecolor": "#A2B1C6",
            "ticks": ""
           },
           "bgcolor": "white",
           "caxis": {
            "gridcolor": "#DFE8F3",
            "linecolor": "#A2B1C6",
            "ticks": ""
           }
          },
          "title": {
           "x": 0.05
          },
          "xaxis": {
           "automargin": true,
           "gridcolor": "#EBF0F8",
           "linecolor": "#EBF0F8",
           "ticks": "",
           "title": {
            "standoff": 15
           },
           "zerolinecolor": "#EBF0F8",
           "zerolinewidth": 2
          },
          "yaxis": {
           "automargin": true,
           "gridcolor": "#EBF0F8",
           "linecolor": "#EBF0F8",
           "ticks": "",
           "title": {
            "standoff": 15
           },
           "zerolinecolor": "#EBF0F8",
           "zerolinewidth": 2
          }
         }
        },
        "title": {
         "text": "Contribution to Non‑Oil Exports YoY Growth by BEC (pp)"
        },
        "xaxis": {
         "anchor": "y",
         "domain": [
          0,
          1
         ],
         "title": {
          "text": "year"
         }
        },
        "yaxis": {
         "anchor": "x",
         "domain": [
          0,
          1
         ],
         "title": {
          "text": "Percentage points"
         }
        }
       }
      }
     },
     "metadata": {},
     "output_type": "display_data"
    }
   ],
   "source": [
    "\n",
    "import plotly.express as px\n",
    "fig19 = px.bar(contrib_pp, x=\"year\", y=\"contrib_pp\", color=\"BEC\",\n",
    "               title=\"Contribution to Non‑Oil Exports YoY Growth by BEC (pp)\",\n",
    "               labels={\"contrib_pp\":\"Percentage points\"})\n",
    "fig19.update_layout(barmode=\"relative\", template=\"plotly_white\")\n",
    "fig19.show()\n"
   ]
  },
  {
   "cell_type": "code",
   "execution_count": null,
   "id": "941addff",
   "metadata": {},
   "outputs": [
    {
     "data": {
      "text/html": [
       "<div>\n",
       "<style scoped>\n",
       "    .dataframe tbody tr th:only-of-type {\n",
       "        vertical-align: middle;\n",
       "    }\n",
       "\n",
       "    .dataframe tbody tr th {\n",
       "        vertical-align: top;\n",
       "    }\n",
       "\n",
       "    .dataframe thead th {\n",
       "        text-align: right;\n",
       "    }\n",
       "</style>\n",
       "<table border=\"1\" class=\"dataframe\">\n",
       "  <thead>\n",
       "    <tr style=\"text-align: right;\">\n",
       "      <th></th>\n",
       "      <th>year</th>\n",
       "      <th>type</th>\n",
       "      <th>rank</th>\n",
       "      <th>BEC</th>\n",
       "      <th>pp</th>\n",
       "    </tr>\n",
       "  </thead>\n",
       "  <tbody>\n",
       "    <tr>\n",
       "      <th>0</th>\n",
       "      <td>2020</td>\n",
       "      <td>Top +</td>\n",
       "      <td>1</td>\n",
       "      <td>Industrial Supplies</td>\n",
       "      <td>8</td>\n",
       "    </tr>\n",
       "    <tr>\n",
       "      <th>1</th>\n",
       "      <td>2020</td>\n",
       "      <td>Top +</td>\n",
       "      <td>2</td>\n",
       "      <td>Fuels &amp; Lubricants</td>\n",
       "      <td>2</td>\n",
       "    </tr>\n",
       "    <tr>\n",
       "      <th>2</th>\n",
       "      <td>2020</td>\n",
       "      <td>Top +</td>\n",
       "      <td>3</td>\n",
       "      <td>Consumer Goods</td>\n",
       "      <td>2</td>\n",
       "    </tr>\n",
       "    <tr>\n",
       "      <th>3</th>\n",
       "      <td>2020</td>\n",
       "      <td>Top -</td>\n",
       "      <td>1</td>\n",
       "      <td>Transport Equipment</td>\n",
       "      <td>-5</td>\n",
       "    </tr>\n",
       "    <tr>\n",
       "      <th>4</th>\n",
       "      <td>2020</td>\n",
       "      <td>Top -</td>\n",
       "      <td>2</td>\n",
       "      <td>Special Category</td>\n",
       "      <td>-0</td>\n",
       "    </tr>\n",
       "    <tr>\n",
       "      <th>5</th>\n",
       "      <td>2020</td>\n",
       "      <td>Top -</td>\n",
       "      <td>3</td>\n",
       "      <td>Food &amp; Beverages</td>\n",
       "      <td>-0</td>\n",
       "    </tr>\n",
       "    <tr>\n",
       "      <th>6</th>\n",
       "      <td>2021</td>\n",
       "      <td>Top +</td>\n",
       "      <td>1</td>\n",
       "      <td>Industrial Supplies</td>\n",
       "      <td>41</td>\n",
       "    </tr>\n",
       "    <tr>\n",
       "      <th>7</th>\n",
       "      <td>2021</td>\n",
       "      <td>Top +</td>\n",
       "      <td>2</td>\n",
       "      <td>Fuels &amp; Lubricants</td>\n",
       "      <td>4</td>\n",
       "    </tr>\n",
       "    <tr>\n",
       "      <th>8</th>\n",
       "      <td>2021</td>\n",
       "      <td>Top +</td>\n",
       "      <td>3</td>\n",
       "      <td>Transport Equipment</td>\n",
       "      <td>1</td>\n",
       "    </tr>\n",
       "    <tr>\n",
       "      <th>9</th>\n",
       "      <td>2021</td>\n",
       "      <td>Top -</td>\n",
       "      <td>1</td>\n",
       "      <td>Consumer Goods</td>\n",
       "      <td>-1</td>\n",
       "    </tr>\n",
       "    <tr>\n",
       "      <th>10</th>\n",
       "      <td>2021</td>\n",
       "      <td>Top -</td>\n",
       "      <td>2</td>\n",
       "      <td>Special Category</td>\n",
       "      <td>0</td>\n",
       "    </tr>\n",
       "    <tr>\n",
       "      <th>11</th>\n",
       "      <td>2021</td>\n",
       "      <td>Top -</td>\n",
       "      <td>3</td>\n",
       "      <td>Food &amp; Beverages</td>\n",
       "      <td>0</td>\n",
       "    </tr>\n",
       "    <tr>\n",
       "      <th>12</th>\n",
       "      <td>2022</td>\n",
       "      <td>Top +</td>\n",
       "      <td>1</td>\n",
       "      <td>Industrial Supplies</td>\n",
       "      <td>15</td>\n",
       "    </tr>\n",
       "    <tr>\n",
       "      <th>13</th>\n",
       "      <td>2022</td>\n",
       "      <td>Top +</td>\n",
       "      <td>2</td>\n",
       "      <td>Fuels &amp; Lubricants</td>\n",
       "      <td>10</td>\n",
       "    </tr>\n",
       "    <tr>\n",
       "      <th>14</th>\n",
       "      <td>2022</td>\n",
       "      <td>Top +</td>\n",
       "      <td>3</td>\n",
       "      <td>Consumer Goods</td>\n",
       "      <td>0</td>\n",
       "    </tr>\n",
       "    <tr>\n",
       "      <th>15</th>\n",
       "      <td>2022</td>\n",
       "      <td>Top -</td>\n",
       "      <td>1</td>\n",
       "      <td>Transport Equipment</td>\n",
       "      <td>-1</td>\n",
       "    </tr>\n",
       "    <tr>\n",
       "      <th>16</th>\n",
       "      <td>2022</td>\n",
       "      <td>Top -</td>\n",
       "      <td>2</td>\n",
       "      <td>Special Category</td>\n",
       "      <td>0</td>\n",
       "    </tr>\n",
       "    <tr>\n",
       "      <th>17</th>\n",
       "      <td>2022</td>\n",
       "      <td>Top -</td>\n",
       "      <td>3</td>\n",
       "      <td>Capital Goods</td>\n",
       "      <td>0</td>\n",
       "    </tr>\n",
       "    <tr>\n",
       "      <th>18</th>\n",
       "      <td>2023</td>\n",
       "      <td>Top +</td>\n",
       "      <td>1</td>\n",
       "      <td>Capital Goods</td>\n",
       "      <td>3</td>\n",
       "    </tr>\n",
       "    <tr>\n",
       "      <th>19</th>\n",
       "      <td>2023</td>\n",
       "      <td>Top +</td>\n",
       "      <td>2</td>\n",
       "      <td>Consumer Goods</td>\n",
       "      <td>0</td>\n",
       "    </tr>\n",
       "    <tr>\n",
       "      <th>20</th>\n",
       "      <td>2023</td>\n",
       "      <td>Top +</td>\n",
       "      <td>3</td>\n",
       "      <td>Transport Equipment</td>\n",
       "      <td>0</td>\n",
       "    </tr>\n",
       "    <tr>\n",
       "      <th>21</th>\n",
       "      <td>2023</td>\n",
       "      <td>Top -</td>\n",
       "      <td>1</td>\n",
       "      <td>Industrial Supplies</td>\n",
       "      <td>-13</td>\n",
       "    </tr>\n",
       "    <tr>\n",
       "      <th>22</th>\n",
       "      <td>2023</td>\n",
       "      <td>Top -</td>\n",
       "      <td>2</td>\n",
       "      <td>Fuels &amp; Lubricants</td>\n",
       "      <td>-3</td>\n",
       "    </tr>\n",
       "    <tr>\n",
       "      <th>23</th>\n",
       "      <td>2023</td>\n",
       "      <td>Top -</td>\n",
       "      <td>3</td>\n",
       "      <td>Food &amp; Beverages</td>\n",
       "      <td>-0</td>\n",
       "    </tr>\n",
       "    <tr>\n",
       "      <th>24</th>\n",
       "      <td>2024</td>\n",
       "      <td>Top +</td>\n",
       "      <td>1</td>\n",
       "      <td>Consumer Goods</td>\n",
       "      <td>1</td>\n",
       "    </tr>\n",
       "    <tr>\n",
       "      <th>25</th>\n",
       "      <td>2024</td>\n",
       "      <td>Top +</td>\n",
       "      <td>2</td>\n",
       "      <td>Fuels &amp; Lubricants</td>\n",
       "      <td>0</td>\n",
       "    </tr>\n",
       "    <tr>\n",
       "      <th>26</th>\n",
       "      <td>2024</td>\n",
       "      <td>Top +</td>\n",
       "      <td>3</td>\n",
       "      <td>Transport Equipment</td>\n",
       "      <td>0</td>\n",
       "    </tr>\n",
       "    <tr>\n",
       "      <th>27</th>\n",
       "      <td>2024</td>\n",
       "      <td>Top -</td>\n",
       "      <td>1</td>\n",
       "      <td>Industrial Supplies</td>\n",
       "      <td>-9</td>\n",
       "    </tr>\n",
       "    <tr>\n",
       "      <th>28</th>\n",
       "      <td>2024</td>\n",
       "      <td>Top -</td>\n",
       "      <td>2</td>\n",
       "      <td>Capital Goods</td>\n",
       "      <td>-2</td>\n",
       "    </tr>\n",
       "    <tr>\n",
       "      <th>29</th>\n",
       "      <td>2024</td>\n",
       "      <td>Top -</td>\n",
       "      <td>3</td>\n",
       "      <td>Special Category</td>\n",
       "      <td>0</td>\n",
       "    </tr>\n",
       "  </tbody>\n",
       "</table>\n",
       "</div>"
      ],
      "text/plain": [
       "    year   type  rank                  BEC  pp\n",
       "0   2020  Top +     1  Industrial Supplies   8\n",
       "1   2020  Top +     2   Fuels & Lubricants   2\n",
       "2   2020  Top +     3       Consumer Goods   2\n",
       "3   2020  Top -     1  Transport Equipment  -5\n",
       "4   2020  Top -     2     Special Category  -0\n",
       "5   2020  Top -     3     Food & Beverages  -0\n",
       "6   2021  Top +     1  Industrial Supplies  41\n",
       "7   2021  Top +     2   Fuels & Lubricants   4\n",
       "8   2021  Top +     3  Transport Equipment   1\n",
       "9   2021  Top -     1       Consumer Goods  -1\n",
       "10  2021  Top -     2     Special Category   0\n",
       "11  2021  Top -     3     Food & Beverages   0\n",
       "12  2022  Top +     1  Industrial Supplies  15\n",
       "13  2022  Top +     2   Fuels & Lubricants  10\n",
       "14  2022  Top +     3       Consumer Goods   0\n",
       "15  2022  Top -     1  Transport Equipment  -1\n",
       "16  2022  Top -     2     Special Category   0\n",
       "17  2022  Top -     3        Capital Goods   0\n",
       "18  2023  Top +     1        Capital Goods   3\n",
       "19  2023  Top +     2       Consumer Goods   0\n",
       "20  2023  Top +     3  Transport Equipment   0\n",
       "21  2023  Top -     1  Industrial Supplies -13\n",
       "22  2023  Top -     2   Fuels & Lubricants  -3\n",
       "23  2023  Top -     3     Food & Beverages  -0\n",
       "24  2024  Top +     1       Consumer Goods   1\n",
       "25  2024  Top +     2   Fuels & Lubricants   0\n",
       "26  2024  Top +     3  Transport Equipment   0\n",
       "27  2024  Top -     1  Industrial Supplies  -9\n",
       "28  2024  Top -     2        Capital Goods  -2\n",
       "29  2024  Top -     3     Special Category   0"
      ]
     },
     "execution_count": 59,
     "metadata": {},
     "output_type": "execute_result"
    }
   ],
   "source": [
    "\n",
    "last_years = contrib_pp[\"year\"].dropna().unique()\n",
    "last_years = np.sort(last_years)[-5:] if len(last_years)>5 else np.sort(last_years)\n",
    "\n",
    "tbl = []\n",
    "for y in last_years:\n",
    "    sub = contrib_pp[contrib_pp[\"year\"]==y].dropna(subset=[\"contrib_pp\"])\n",
    "    if len(sub)==0: \n",
    "        continue\n",
    "    top_pos = sub.nlargest(3, \"contrib_pp\")\n",
    "    top_neg = sub.nsmallest(3, \"contrib_pp\")\n",
    "    for rank, row in enumerate(top_pos.itertuples(index=False), 1):\n",
    "        tbl.append({\"year\": int(y), \"type\":\"Top +\", \"rank\": rank, \"BEC\": row.BEC, \"pp\": row.contrib_pp})\n",
    "    for rank, row in enumerate(top_neg.itertuples(index=False), 1):\n",
    "        tbl.append({\"year\": int(y), \"type\":\"Top -\", \"rank\": rank, \"BEC\": row.BEC, \"pp\": row.contrib_pp})\n",
    "\n",
    "import pandas as pd\n",
    "tbl_df = pd.DataFrame(tbl)\n",
    "tbl_df\n"
   ]
  },
  {
   "cell_type": "markdown",
   "id": "df7eeb9a",
   "metadata": {},
   "source": [
    "## 20) Top **Non‑Oil** Products (value & growth)"
   ]
  },
  {
   "cell_type": "code",
   "execution_count": null,
   "id": "77d408f9",
   "metadata": {},
   "outputs": [
    {
     "name": "stdout",
     "output_type": "stream",
     "text": [
      "Latest year: 2024 | Previous: 2023\n",
      "Top 10 by value:\n"
     ]
    },
    {
     "data": {
      "text/html": [
       "<div>\n",
       "<style scoped>\n",
       "    .dataframe tbody tr th:only-of-type {\n",
       "        vertical-align: middle;\n",
       "    }\n",
       "\n",
       "    .dataframe tbody tr th {\n",
       "        vertical-align: top;\n",
       "    }\n",
       "\n",
       "    .dataframe thead th {\n",
       "        text-align: right;\n",
       "    }\n",
       "</style>\n",
       "<table border=\"1\" class=\"dataframe\">\n",
       "  <thead>\n",
       "    <tr style=\"text-align: right;\">\n",
       "      <th></th>\n",
       "      <th>hs_code</th>\n",
       "      <th>hs_name</th>\n",
       "      <th>value_curr</th>\n",
       "      <th>value_prev</th>\n",
       "      <th>abs_delta</th>\n",
       "      <th>yoy_pct</th>\n",
       "    </tr>\n",
       "  </thead>\n",
       "  <tbody>\n",
       "    <tr>\n",
       "      <th>273</th>\n",
       "      <td>26011200.0</td>\n",
       "      <td>Agglomerated Iron Ores And Concentrates Excl R...</td>\n",
       "      <td>674,724,865</td>\n",
       "      <td>635,262,553</td>\n",
       "      <td>39,462,312</td>\n",
       "      <td>6</td>\n",
       "    </tr>\n",
       "    <tr>\n",
       "      <th>345</th>\n",
       "      <td>31021000.0</td>\n",
       "      <td>Urea Whether Or Not In Aqueous Solution Excl T...</td>\n",
       "      <td>421,099,044</td>\n",
       "      <td>418,104,969</td>\n",
       "      <td>2,994,075</td>\n",
       "      <td>1</td>\n",
       "    </tr>\n",
       "    <tr>\n",
       "      <th>1029</th>\n",
       "      <td>72142040.0</td>\n",
       "      <td>Other bars and rods of iron or nonalloy steel ...</td>\n",
       "      <td>249,612,049</td>\n",
       "      <td>223,470,552</td>\n",
       "      <td>26,141,497</td>\n",
       "      <td>12</td>\n",
       "    </tr>\n",
       "    <tr>\n",
       "      <th>308</th>\n",
       "      <td>29051100.0</td>\n",
       "      <td>Methanol Methyl Alcohol</td>\n",
       "      <td>236,365,241</td>\n",
       "      <td>198,210,177</td>\n",
       "      <td>38,155,064</td>\n",
       "      <td>19</td>\n",
       "    </tr>\n",
       "    <tr>\n",
       "      <th>1193</th>\n",
       "      <td>76011000.0</td>\n",
       "      <td>Aluminium Not Alloyed Unwrought</td>\n",
       "      <td>222,067,770</td>\n",
       "      <td>249,100,878</td>\n",
       "      <td>-27,033,108</td>\n",
       "      <td>-11</td>\n",
       "    </tr>\n",
       "    <tr>\n",
       "      <th>501</th>\n",
       "      <td>39076100.0</td>\n",
       "      <td>poly ethylene terephthalate Having a viscosity...</td>\n",
       "      <td>204,902,697</td>\n",
       "      <td>161,365,837</td>\n",
       "      <td>43,536,860</td>\n",
       "      <td>27</td>\n",
       "    </tr>\n",
       "    <tr>\n",
       "      <th>535</th>\n",
       "      <td>39206200.0</td>\n",
       "      <td>Plates Sheets Film Foil And Strip Of NonCellul...</td>\n",
       "      <td>172,083,069</td>\n",
       "      <td>157,979,433</td>\n",
       "      <td>14,103,636</td>\n",
       "      <td>9</td>\n",
       "    </tr>\n",
       "    <tr>\n",
       "      <th>999</th>\n",
       "      <td>72071100.0</td>\n",
       "      <td>SemiFinished Products Of Iron Or NonAlloy Stee...</td>\n",
       "      <td>167,791,621</td>\n",
       "      <td>120,271,006</td>\n",
       "      <td>47,520,615</td>\n",
       "      <td>40</td>\n",
       "    </tr>\n",
       "    <tr>\n",
       "      <th>488</th>\n",
       "      <td>39021000.0</td>\n",
       "      <td>Polypropylene In Primary Forms</td>\n",
       "      <td>163,900,363</td>\n",
       "      <td>174,344,707</td>\n",
       "      <td>-10,444,344</td>\n",
       "      <td>-6</td>\n",
       "    </tr>\n",
       "    <tr>\n",
       "      <th>484</th>\n",
       "      <td>39012000.0</td>\n",
       "      <td>Polyethylene With A Specific Gravity Of 094 In...</td>\n",
       "      <td>149,311,837</td>\n",
       "      <td>102,391,061</td>\n",
       "      <td>46,920,776</td>\n",
       "      <td>46</td>\n",
       "    </tr>\n",
       "  </tbody>\n",
       "</table>\n",
       "</div>"
      ],
      "text/plain": [
       "         hs_code                                            hs_name  \\\n",
       "273   26011200.0  Agglomerated Iron Ores And Concentrates Excl R...   \n",
       "345   31021000.0  Urea Whether Or Not In Aqueous Solution Excl T...   \n",
       "1029  72142040.0  Other bars and rods of iron or nonalloy steel ...   \n",
       "308   29051100.0                            Methanol Methyl Alcohol   \n",
       "1193  76011000.0                    Aluminium Not Alloyed Unwrought   \n",
       "501   39076100.0  poly ethylene terephthalate Having a viscosity...   \n",
       "535   39206200.0  Plates Sheets Film Foil And Strip Of NonCellul...   \n",
       "999   72071100.0  SemiFinished Products Of Iron Or NonAlloy Stee...   \n",
       "488   39021000.0                     Polypropylene In Primary Forms   \n",
       "484   39012000.0  Polyethylene With A Specific Gravity Of 094 In...   \n",
       "\n",
       "      value_curr  value_prev   abs_delta  yoy_pct  \n",
       "273  674,724,865 635,262,553  39,462,312        6  \n",
       "345  421,099,044 418,104,969   2,994,075        1  \n",
       "1029 249,612,049 223,470,552  26,141,497       12  \n",
       "308  236,365,241 198,210,177  38,155,064       19  \n",
       "1193 222,067,770 249,100,878 -27,033,108      -11  \n",
       "501  204,902,697 161,365,837  43,536,860       27  \n",
       "535  172,083,069 157,979,433  14,103,636        9  \n",
       "999  167,791,621 120,271,006  47,520,615       40  \n",
       "488  163,900,363 174,344,707 -10,444,344       -6  \n",
       "484  149,311,837 102,391,061  46,920,776       46  "
      ]
     },
     "execution_count": 61,
     "metadata": {},
     "output_type": "execute_result"
    }
   ],
   "source": [
    "\n",
    "latest_year = int(df[\"year\"].dropna().max())\n",
    "prev_year = latest_year - 1\n",
    "print(\"Latest year:\", latest_year, \"| Previous:\", prev_year)\n",
    "\n",
    "non_oil_export = df[(df[\"trade_type\"]==\"Export\") & (df[\"oil_flag\"]==\"Non‑Oil\")].copy()\n",
    "\n",
    "cur = (non_oil_export[non_oil_export[\"year\"]==latest_year]\n",
    "       .groupby([\"hs_code\",\"hs_name\"], as_index=False)[\"value_omr\"].sum()\n",
    "       .rename(columns={\"value_omr\":\"value_curr\"}))\n",
    "\n",
    "prev = (non_oil_export[non_oil_export[\"year\"]==prev_year]\n",
    "        .groupby([\"hs_code\",\"hs_name\"], as_index=False)[\"value_omr\"].sum()\n",
    "        .rename(columns={\"value_omr\":\"value_prev\"}))\n",
    "\n",
    "prod = cur.merge(prev, on=[\"hs_code\",\"hs_name\"], how=\"left\").fillna({\"value_prev\":0.0})\n",
    "prod[\"abs_delta\"] = prod[\"value_curr\"] - prod[\"value_prev\"]\n",
    "prod[\"yoy_pct\"] = np.where(prod[\"value_prev\"]>0, (prod[\"abs_delta\"]/prod[\"value_prev\"])*100, np.nan)\n",
    "\n",
    "top_val = prod.sort_values(\"value_curr\", ascending=False).head(10)\n",
    "top_grow = prod.sort_values(\"abs_delta\", ascending=False).head(10)\n",
    "\n",
    "print(\"Top 10 by value:\")\n",
    "top_val[[\"hs_code\",\"hs_name\",\"value_curr\",\"value_prev\",\"abs_delta\",\"yoy_pct\"]]\n"
   ]
  },
  {
   "cell_type": "code",
   "execution_count": null,
   "id": "5b07edbb",
   "metadata": {},
   "outputs": [
    {
     "name": "stdout",
     "output_type": "stream",
     "text": [
      "Top 10 by growth (absolute):\n"
     ]
    },
    {
     "data": {
      "text/html": [
       "<div>\n",
       "<style scoped>\n",
       "    .dataframe tbody tr th:only-of-type {\n",
       "        vertical-align: middle;\n",
       "    }\n",
       "\n",
       "    .dataframe tbody tr th {\n",
       "        vertical-align: top;\n",
       "    }\n",
       "\n",
       "    .dataframe thead th {\n",
       "        text-align: right;\n",
       "    }\n",
       "</style>\n",
       "<table border=\"1\" class=\"dataframe\">\n",
       "  <thead>\n",
       "    <tr style=\"text-align: right;\">\n",
       "      <th></th>\n",
       "      <th>hs_code</th>\n",
       "      <th>hs_name</th>\n",
       "      <th>value_curr</th>\n",
       "      <th>value_prev</th>\n",
       "      <th>abs_delta</th>\n",
       "      <th>yoy_pct</th>\n",
       "    </tr>\n",
       "  </thead>\n",
       "  <tbody>\n",
       "    <tr>\n",
       "      <th>999</th>\n",
       "      <td>72071100.0</td>\n",
       "      <td>SemiFinished Products Of Iron Or NonAlloy Stee...</td>\n",
       "      <td>167,791,621</td>\n",
       "      <td>120,271,006</td>\n",
       "      <td>47,520,615</td>\n",
       "      <td>40</td>\n",
       "    </tr>\n",
       "    <tr>\n",
       "      <th>484</th>\n",
       "      <td>39012000.0</td>\n",
       "      <td>Polyethylene With A Specific Gravity Of 094 In...</td>\n",
       "      <td>149,311,837</td>\n",
       "      <td>102,391,061</td>\n",
       "      <td>46,920,776</td>\n",
       "      <td>46</td>\n",
       "    </tr>\n",
       "    <tr>\n",
       "      <th>501</th>\n",
       "      <td>39076100.0</td>\n",
       "      <td>poly ethylene terephthalate Having a viscosity...</td>\n",
       "      <td>204,902,697</td>\n",
       "      <td>161,365,837</td>\n",
       "      <td>43,536,860</td>\n",
       "      <td>27</td>\n",
       "    </tr>\n",
       "    <tr>\n",
       "      <th>273</th>\n",
       "      <td>26011200.0</td>\n",
       "      <td>Agglomerated Iron Ores And Concentrates Excl R...</td>\n",
       "      <td>674,724,865</td>\n",
       "      <td>635,262,553</td>\n",
       "      <td>39,462,312</td>\n",
       "      <td>6</td>\n",
       "    </tr>\n",
       "    <tr>\n",
       "      <th>308</th>\n",
       "      <td>29051100.0</td>\n",
       "      <td>Methanol Methyl Alcohol</td>\n",
       "      <td>236,365,241</td>\n",
       "      <td>198,210,177</td>\n",
       "      <td>38,155,064</td>\n",
       "      <td>19</td>\n",
       "    </tr>\n",
       "    <tr>\n",
       "      <th>489</th>\n",
       "      <td>39023000.0</td>\n",
       "      <td>Propylene Copolymers In Primary Forms</td>\n",
       "      <td>30,887,279</td>\n",
       "      <td>2,345,724</td>\n",
       "      <td>28,541,555</td>\n",
       "      <td>1,217</td>\n",
       "    </tr>\n",
       "    <tr>\n",
       "      <th>1029</th>\n",
       "      <td>72142040.0</td>\n",
       "      <td>Other bars and rods of iron or nonalloy steel ...</td>\n",
       "      <td>249,612,049</td>\n",
       "      <td>223,470,552</td>\n",
       "      <td>26,141,497</td>\n",
       "      <td>12</td>\n",
       "    </tr>\n",
       "    <tr>\n",
       "      <th>1206</th>\n",
       "      <td>76061230.0</td>\n",
       "      <td>Aluminium flattened or grained coils and strip...</td>\n",
       "      <td>99,060,623</td>\n",
       "      <td>74,190,680</td>\n",
       "      <td>24,869,943</td>\n",
       "      <td>34</td>\n",
       "    </tr>\n",
       "    <tr>\n",
       "      <th>486</th>\n",
       "      <td>39014000.0</td>\n",
       "      <td>Ethylenealphaolefin copolymers having a specif...</td>\n",
       "      <td>40,298,805</td>\n",
       "      <td>18,156,839</td>\n",
       "      <td>22,141,966</td>\n",
       "      <td>122</td>\n",
       "    </tr>\n",
       "    <tr>\n",
       "      <th>976</th>\n",
       "      <td>71081210.0</td>\n",
       "      <td>Ingots Of Gold NonMonetary In Unwrought Forms</td>\n",
       "      <td>40,185,085</td>\n",
       "      <td>23,410,651</td>\n",
       "      <td>16,774,434</td>\n",
       "      <td>72</td>\n",
       "    </tr>\n",
       "  </tbody>\n",
       "</table>\n",
       "</div>"
      ],
      "text/plain": [
       "         hs_code                                            hs_name  \\\n",
       "999   72071100.0  SemiFinished Products Of Iron Or NonAlloy Stee...   \n",
       "484   39012000.0  Polyethylene With A Specific Gravity Of 094 In...   \n",
       "501   39076100.0  poly ethylene terephthalate Having a viscosity...   \n",
       "273   26011200.0  Agglomerated Iron Ores And Concentrates Excl R...   \n",
       "308   29051100.0                            Methanol Methyl Alcohol   \n",
       "489   39023000.0              Propylene Copolymers In Primary Forms   \n",
       "1029  72142040.0  Other bars and rods of iron or nonalloy steel ...   \n",
       "1206  76061230.0  Aluminium flattened or grained coils and strip...   \n",
       "486   39014000.0  Ethylenealphaolefin copolymers having a specif...   \n",
       "976   71081210.0      Ingots Of Gold NonMonetary In Unwrought Forms   \n",
       "\n",
       "      value_curr  value_prev  abs_delta  yoy_pct  \n",
       "999  167,791,621 120,271,006 47,520,615       40  \n",
       "484  149,311,837 102,391,061 46,920,776       46  \n",
       "501  204,902,697 161,365,837 43,536,860       27  \n",
       "273  674,724,865 635,262,553 39,462,312        6  \n",
       "308  236,365,241 198,210,177 38,155,064       19  \n",
       "489   30,887,279   2,345,724 28,541,555    1,217  \n",
       "1029 249,612,049 223,470,552 26,141,497       12  \n",
       "1206  99,060,623  74,190,680 24,869,943       34  \n",
       "486   40,298,805  18,156,839 22,141,966      122  \n",
       "976   40,185,085  23,410,651 16,774,434       72  "
      ]
     },
     "execution_count": 62,
     "metadata": {},
     "output_type": "execute_result"
    }
   ],
   "source": [
    "\n",
    "print(\"Top 10 by growth (absolute):\")\n",
    "top_grow[[\"hs_code\",\"hs_name\",\"value_curr\",\"value_prev\",\"abs_delta\",\"yoy_pct\"]]\n"
   ]
  },
  {
   "cell_type": "code",
   "execution_count": null,
   "id": "f6e9d274",
   "metadata": {},
   "outputs": [
    {
     "data": {
      "application/vnd.plotly.v1+json": {
       "config": {
        "plotlyServerURL": "https://plot.ly"
       },
       "data": [
        {
         "hovertemplate": "OMR=%{x}<br>=%{y}<extra></extra>",
         "legendgroup": "",
         "marker": {
          "color": "#636efa",
          "pattern": {
           "shape": ""
          }
         },
         "name": "",
         "orientation": "h",
         "showlegend": false,
         "textposition": "auto",
         "type": "bar",
         "x": {
          "bdata": "AAAAuqLMoUEAAACW14mjQQAAAAqYAKRBAAAA+o6DpEEAAABSIm2oQQAAAHT4eKpBAAAAckstrEEAAAAijsGtQQAAACR2GblBAACAAL4bxEE=",
          "dtype": "f8"
         },
         "xaxis": "x",
         "y": [
          "Polyethylene With A Specific Gravity Of 094 In Primary Forms",
          "Polypropylene In Primary Forms",
          "SemiFinished Products Of Iron Or NonAlloy Steel Containing By Weight 025 Of Carbon Of Square Or Rectangular CrossSection The Width Measuring Twice The Thickness",
          "Plates Sheets Film Foil And Strip Of NonCellular PolyEthylene Terephthalate Not Reinforced Laminated Supported Or Similarly Combined With Other Materials Without Backing Unworked Or Merely SurfaceWorked Or Merely Cut Into Squares Or Rectangle",
          "poly ethylene terephthalate Having a viscosity number of 78 mlg or higher",
          "Aluminium Not Alloyed Unwrought",
          "Methanol Methyl Alcohol",
          "Other bars and rods of iron or nonalloy steel Containing indentations ribs grooves or otherdeformations produced during the rolling process or twisted after rolling Of circular crosssection measuring 840 mm in diameter",
          "Urea Whether Or Not In Aqueous Solution Excl That In Pellet Or Similar Forms Or In Packages With A Gross Weight Of 10 Kg",
          "Agglomerated Iron Ores And Concentrates Excl Roasted Iron Pyrites"
         ],
         "yaxis": "y"
        }
       ],
       "layout": {
        "barmode": "relative",
        "legend": {
         "tracegroupgap": 0
        },
        "template": {
         "data": {
          "bar": [
           {
            "error_x": {
             "color": "#2a3f5f"
            },
            "error_y": {
             "color": "#2a3f5f"
            },
            "marker": {
             "line": {
              "color": "white",
              "width": 0.5
             },
             "pattern": {
              "fillmode": "overlay",
              "size": 10,
              "solidity": 0.2
             }
            },
            "type": "bar"
           }
          ],
          "barpolar": [
           {
            "marker": {
             "line": {
              "color": "white",
              "width": 0.5
             },
             "pattern": {
              "fillmode": "overlay",
              "size": 10,
              "solidity": 0.2
             }
            },
            "type": "barpolar"
           }
          ],
          "carpet": [
           {
            "aaxis": {
             "endlinecolor": "#2a3f5f",
             "gridcolor": "#C8D4E3",
             "linecolor": "#C8D4E3",
             "minorgridcolor": "#C8D4E3",
             "startlinecolor": "#2a3f5f"
            },
            "baxis": {
             "endlinecolor": "#2a3f5f",
             "gridcolor": "#C8D4E3",
             "linecolor": "#C8D4E3",
             "minorgridcolor": "#C8D4E3",
             "startlinecolor": "#2a3f5f"
            },
            "type": "carpet"
           }
          ],
          "choropleth": [
           {
            "colorbar": {
             "outlinewidth": 0,
             "ticks": ""
            },
            "type": "choropleth"
           }
          ],
          "contour": [
           {
            "colorbar": {
             "outlinewidth": 0,
             "ticks": ""
            },
            "colorscale": [
             [
              0,
              "#0d0887"
             ],
             [
              0.1111111111111111,
              "#46039f"
             ],
             [
              0.2222222222222222,
              "#7201a8"
             ],
             [
              0.3333333333333333,
              "#9c179e"
             ],
             [
              0.4444444444444444,
              "#bd3786"
             ],
             [
              0.5555555555555556,
              "#d8576b"
             ],
             [
              0.6666666666666666,
              "#ed7953"
             ],
             [
              0.7777777777777778,
              "#fb9f3a"
             ],
             [
              0.8888888888888888,
              "#fdca26"
             ],
             [
              1,
              "#f0f921"
             ]
            ],
            "type": "contour"
           }
          ],
          "contourcarpet": [
           {
            "colorbar": {
             "outlinewidth": 0,
             "ticks": ""
            },
            "type": "contourcarpet"
           }
          ],
          "heatmap": [
           {
            "colorbar": {
             "outlinewidth": 0,
             "ticks": ""
            },
            "colorscale": [
             [
              0,
              "#0d0887"
             ],
             [
              0.1111111111111111,
              "#46039f"
             ],
             [
              0.2222222222222222,
              "#7201a8"
             ],
             [
              0.3333333333333333,
              "#9c179e"
             ],
             [
              0.4444444444444444,
              "#bd3786"
             ],
             [
              0.5555555555555556,
              "#d8576b"
             ],
             [
              0.6666666666666666,
              "#ed7953"
             ],
             [
              0.7777777777777778,
              "#fb9f3a"
             ],
             [
              0.8888888888888888,
              "#fdca26"
             ],
             [
              1,
              "#f0f921"
             ]
            ],
            "type": "heatmap"
           }
          ],
          "histogram": [
           {
            "marker": {
             "pattern": {
              "fillmode": "overlay",
              "size": 10,
              "solidity": 0.2
             }
            },
            "type": "histogram"
           }
          ],
          "histogram2d": [
           {
            "colorbar": {
             "outlinewidth": 0,
             "ticks": ""
            },
            "colorscale": [
             [
              0,
              "#0d0887"
             ],
             [
              0.1111111111111111,
              "#46039f"
             ],
             [
              0.2222222222222222,
              "#7201a8"
             ],
             [
              0.3333333333333333,
              "#9c179e"
             ],
             [
              0.4444444444444444,
              "#bd3786"
             ],
             [
              0.5555555555555556,
              "#d8576b"
             ],
             [
              0.6666666666666666,
              "#ed7953"
             ],
             [
              0.7777777777777778,
              "#fb9f3a"
             ],
             [
              0.8888888888888888,
              "#fdca26"
             ],
             [
              1,
              "#f0f921"
             ]
            ],
            "type": "histogram2d"
           }
          ],
          "histogram2dcontour": [
           {
            "colorbar": {
             "outlinewidth": 0,
             "ticks": ""
            },
            "colorscale": [
             [
              0,
              "#0d0887"
             ],
             [
              0.1111111111111111,
              "#46039f"
             ],
             [
              0.2222222222222222,
              "#7201a8"
             ],
             [
              0.3333333333333333,
              "#9c179e"
             ],
             [
              0.4444444444444444,
              "#bd3786"
             ],
             [
              0.5555555555555556,
              "#d8576b"
             ],
             [
              0.6666666666666666,
              "#ed7953"
             ],
             [
              0.7777777777777778,
              "#fb9f3a"
             ],
             [
              0.8888888888888888,
              "#fdca26"
             ],
             [
              1,
              "#f0f921"
             ]
            ],
            "type": "histogram2dcontour"
           }
          ],
          "mesh3d": [
           {
            "colorbar": {
             "outlinewidth": 0,
             "ticks": ""
            },
            "type": "mesh3d"
           }
          ],
          "parcoords": [
           {
            "line": {
             "colorbar": {
              "outlinewidth": 0,
              "ticks": ""
             }
            },
            "type": "parcoords"
           }
          ],
          "pie": [
           {
            "automargin": true,
            "type": "pie"
           }
          ],
          "scatter": [
           {
            "fillpattern": {
             "fillmode": "overlay",
             "size": 10,
             "solidity": 0.2
            },
            "type": "scatter"
           }
          ],
          "scatter3d": [
           {
            "line": {
             "colorbar": {
              "outlinewidth": 0,
              "ticks": ""
             }
            },
            "marker": {
             "colorbar": {
              "outlinewidth": 0,
              "ticks": ""
             }
            },
            "type": "scatter3d"
           }
          ],
          "scattercarpet": [
           {
            "marker": {
             "colorbar": {
              "outlinewidth": 0,
              "ticks": ""
             }
            },
            "type": "scattercarpet"
           }
          ],
          "scattergeo": [
           {
            "marker": {
             "colorbar": {
              "outlinewidth": 0,
              "ticks": ""
             }
            },
            "type": "scattergeo"
           }
          ],
          "scattergl": [
           {
            "marker": {
             "colorbar": {
              "outlinewidth": 0,
              "ticks": ""
             }
            },
            "type": "scattergl"
           }
          ],
          "scattermap": [
           {
            "marker": {
             "colorbar": {
              "outlinewidth": 0,
              "ticks": ""
             }
            },
            "type": "scattermap"
           }
          ],
          "scattermapbox": [
           {
            "marker": {
             "colorbar": {
              "outlinewidth": 0,
              "ticks": ""
             }
            },
            "type": "scattermapbox"
           }
          ],
          "scatterpolar": [
           {
            "marker": {
             "colorbar": {
              "outlinewidth": 0,
              "ticks": ""
             }
            },
            "type": "scatterpolar"
           }
          ],
          "scatterpolargl": [
           {
            "marker": {
             "colorbar": {
              "outlinewidth": 0,
              "ticks": ""
             }
            },
            "type": "scatterpolargl"
           }
          ],
          "scatterternary": [
           {
            "marker": {
             "colorbar": {
              "outlinewidth": 0,
              "ticks": ""
             }
            },
            "type": "scatterternary"
           }
          ],
          "surface": [
           {
            "colorbar": {
             "outlinewidth": 0,
             "ticks": ""
            },
            "colorscale": [
             [
              0,
              "#0d0887"
             ],
             [
              0.1111111111111111,
              "#46039f"
             ],
             [
              0.2222222222222222,
              "#7201a8"
             ],
             [
              0.3333333333333333,
              "#9c179e"
             ],
             [
              0.4444444444444444,
              "#bd3786"
             ],
             [
              0.5555555555555556,
              "#d8576b"
             ],
             [
              0.6666666666666666,
              "#ed7953"
             ],
             [
              0.7777777777777778,
              "#fb9f3a"
             ],
             [
              0.8888888888888888,
              "#fdca26"
             ],
             [
              1,
              "#f0f921"
             ]
            ],
            "type": "surface"
           }
          ],
          "table": [
           {
            "cells": {
             "fill": {
              "color": "#EBF0F8"
             },
             "line": {
              "color": "white"
             }
            },
            "header": {
             "fill": {
              "color": "#C8D4E3"
             },
             "line": {
              "color": "white"
             }
            },
            "type": "table"
           }
          ]
         },
         "layout": {
          "annotationdefaults": {
           "arrowcolor": "#2a3f5f",
           "arrowhead": 0,
           "arrowwidth": 1
          },
          "autotypenumbers": "strict",
          "coloraxis": {
           "colorbar": {
            "outlinewidth": 0,
            "ticks": ""
           }
          },
          "colorscale": {
           "diverging": [
            [
             0,
             "#8e0152"
            ],
            [
             0.1,
             "#c51b7d"
            ],
            [
             0.2,
             "#de77ae"
            ],
            [
             0.3,
             "#f1b6da"
            ],
            [
             0.4,
             "#fde0ef"
            ],
            [
             0.5,
             "#f7f7f7"
            ],
            [
             0.6,
             "#e6f5d0"
            ],
            [
             0.7,
             "#b8e186"
            ],
            [
             0.8,
             "#7fbc41"
            ],
            [
             0.9,
             "#4d9221"
            ],
            [
             1,
             "#276419"
            ]
           ],
           "sequential": [
            [
             0,
             "#0d0887"
            ],
            [
             0.1111111111111111,
             "#46039f"
            ],
            [
             0.2222222222222222,
             "#7201a8"
            ],
            [
             0.3333333333333333,
             "#9c179e"
            ],
            [
             0.4444444444444444,
             "#bd3786"
            ],
            [
             0.5555555555555556,
             "#d8576b"
            ],
            [
             0.6666666666666666,
             "#ed7953"
            ],
            [
             0.7777777777777778,
             "#fb9f3a"
            ],
            [
             0.8888888888888888,
             "#fdca26"
            ],
            [
             1,
             "#f0f921"
            ]
           ],
           "sequentialminus": [
            [
             0,
             "#0d0887"
            ],
            [
             0.1111111111111111,
             "#46039f"
            ],
            [
             0.2222222222222222,
             "#7201a8"
            ],
            [
             0.3333333333333333,
             "#9c179e"
            ],
            [
             0.4444444444444444,
             "#bd3786"
            ],
            [
             0.5555555555555556,
             "#d8576b"
            ],
            [
             0.6666666666666666,
             "#ed7953"
            ],
            [
             0.7777777777777778,
             "#fb9f3a"
            ],
            [
             0.8888888888888888,
             "#fdca26"
            ],
            [
             1,
             "#f0f921"
            ]
           ]
          },
          "colorway": [
           "#636efa",
           "#EF553B",
           "#00cc96",
           "#ab63fa",
           "#FFA15A",
           "#19d3f3",
           "#FF6692",
           "#B6E880",
           "#FF97FF",
           "#FECB52"
          ],
          "font": {
           "color": "#2a3f5f"
          },
          "geo": {
           "bgcolor": "white",
           "lakecolor": "white",
           "landcolor": "white",
           "showlakes": true,
           "showland": true,
           "subunitcolor": "#C8D4E3"
          },
          "hoverlabel": {
           "align": "left"
          },
          "hovermode": "closest",
          "mapbox": {
           "style": "light"
          },
          "paper_bgcolor": "white",
          "plot_bgcolor": "white",
          "polar": {
           "angularaxis": {
            "gridcolor": "#EBF0F8",
            "linecolor": "#EBF0F8",
            "ticks": ""
           },
           "bgcolor": "white",
           "radialaxis": {
            "gridcolor": "#EBF0F8",
            "linecolor": "#EBF0F8",
            "ticks": ""
           }
          },
          "scene": {
           "xaxis": {
            "backgroundcolor": "white",
            "gridcolor": "#DFE8F3",
            "gridwidth": 2,
            "linecolor": "#EBF0F8",
            "showbackground": true,
            "ticks": "",
            "zerolinecolor": "#EBF0F8"
           },
           "yaxis": {
            "backgroundcolor": "white",
            "gridcolor": "#DFE8F3",
            "gridwidth": 2,
            "linecolor": "#EBF0F8",
            "showbackground": true,
            "ticks": "",
            "zerolinecolor": "#EBF0F8"
           },
           "zaxis": {
            "backgroundcolor": "white",
            "gridcolor": "#DFE8F3",
            "gridwidth": 2,
            "linecolor": "#EBF0F8",
            "showbackground": true,
            "ticks": "",
            "zerolinecolor": "#EBF0F8"
           }
          },
          "shapedefaults": {
           "line": {
            "color": "#2a3f5f"
           }
          },
          "ternary": {
           "aaxis": {
            "gridcolor": "#DFE8F3",
            "linecolor": "#A2B1C6",
            "ticks": ""
           },
           "baxis": {
            "gridcolor": "#DFE8F3",
            "linecolor": "#A2B1C6",
            "ticks": ""
           },
           "bgcolor": "white",
           "caxis": {
            "gridcolor": "#DFE8F3",
            "linecolor": "#A2B1C6",
            "ticks": ""
           }
          },
          "title": {
           "x": 0.05
          },
          "xaxis": {
           "automargin": true,
           "gridcolor": "#EBF0F8",
           "linecolor": "#EBF0F8",
           "ticks": "",
           "title": {
            "standoff": 15
           },
           "zerolinecolor": "#EBF0F8",
           "zerolinewidth": 2
          },
          "yaxis": {
           "automargin": true,
           "gridcolor": "#EBF0F8",
           "linecolor": "#EBF0F8",
           "ticks": "",
           "title": {
            "standoff": 15
           },
           "zerolinecolor": "#EBF0F8",
           "zerolinewidth": 2
          }
         }
        },
        "title": {
         "text": "Top 10 Non‑Oil Products by Value — 2024"
        },
        "xaxis": {
         "anchor": "y",
         "domain": [
          0,
          1
         ],
         "title": {
          "text": "OMR"
         }
        },
        "yaxis": {
         "anchor": "x",
         "domain": [
          0,
          1
         ],
         "title": {
          "text": ""
         }
        }
       }
      }
     },
     "metadata": {},
     "output_type": "display_data"
    }
   ],
   "source": [
    "\n",
    "import plotly.express as px\n",
    "fig20 = px.bar(top_val.sort_values(\"value_curr\"), \n",
    "               x=\"value_curr\", y=\"hs_name\", orientation=\"h\",\n",
    "               title=f\"Top 10 Non‑Oil Products by Value — {latest_year}\",\n",
    "               labels={\"value_curr\":\"OMR\",\"hs_name\":\"\"})\n",
    "fig20.update_layout(template=\"plotly_white\")\n",
    "fig20.show()\n"
   ]
  },
  {
   "cell_type": "markdown",
   "id": "764bee41",
   "metadata": {},
   "source": [
    "## 21) HS Sections — Growth & Share over Time"
   ]
  },
  {
   "cell_type": "code",
   "execution_count": null,
   "id": "55cf044d",
   "metadata": {},
   "outputs": [
    {
     "name": "stdout",
     "output_type": "stream",
     "text": [
      "Non‑Oil section totals (wide):\n"
     ]
    },
    {
     "data": {
      "text/html": [
       "<div>\n",
       "<style scoped>\n",
       "    .dataframe tbody tr th:only-of-type {\n",
       "        vertical-align: middle;\n",
       "    }\n",
       "\n",
       "    .dataframe tbody tr th {\n",
       "        vertical-align: top;\n",
       "    }\n",
       "\n",
       "    .dataframe thead th {\n",
       "        text-align: right;\n",
       "    }\n",
       "</style>\n",
       "<table border=\"1\" class=\"dataframe\">\n",
       "  <thead>\n",
       "    <tr style=\"text-align: right;\">\n",
       "      <th>section_name_clean</th>\n",
       "      <th>Animal/vegetable fats &amp; oils</th>\n",
       "      <th>Arms &amp; ammunition</th>\n",
       "      <th>Base metals &amp; articles</th>\n",
       "      <th>Chemical products</th>\n",
       "      <th>Footwear, headgear, umbrellas</th>\n",
       "      <th>Hides, leather, furskins &amp; articles</th>\n",
       "      <th>Machinery, electrical equipment &amp; parts</th>\n",
       "      <th>Mineral products</th>\n",
       "      <th>Miscellaneous manufactured articles</th>\n",
       "      <th>Pearls, precious stones &amp; metals; jewellery; coin</th>\n",
       "      <th>Plastics &amp; rubber</th>\n",
       "      <th>Precision/medical instruments; clocks; musical</th>\n",
       "      <th>Prepared foods; beverages; tobacco</th>\n",
       "      <th>Pulp, paper &amp; paperboard; articles</th>\n",
       "      <th>Stone, plaster, cement; ceramics; glass</th>\n",
       "      <th>Textiles &amp; textile articles</th>\n",
       "      <th>Vegetable products</th>\n",
       "      <th>Vehicles, aircraft &amp; vessels</th>\n",
       "      <th>Wood, cork &amp; basketwork</th>\n",
       "      <th>Works of art &amp; antiques</th>\n",
       "    </tr>\n",
       "    <tr>\n",
       "      <th>year</th>\n",
       "      <th></th>\n",
       "      <th></th>\n",
       "      <th></th>\n",
       "      <th></th>\n",
       "      <th></th>\n",
       "      <th></th>\n",
       "      <th></th>\n",
       "      <th></th>\n",
       "      <th></th>\n",
       "      <th></th>\n",
       "      <th></th>\n",
       "      <th></th>\n",
       "      <th></th>\n",
       "      <th></th>\n",
       "      <th></th>\n",
       "      <th></th>\n",
       "      <th></th>\n",
       "      <th></th>\n",
       "      <th></th>\n",
       "      <th></th>\n",
       "    </tr>\n",
       "  </thead>\n",
       "  <tbody>\n",
       "    <tr>\n",
       "      <th>2022</th>\n",
       "      <td>121,496,413</td>\n",
       "      <td>0</td>\n",
       "      <td>1,483,447,104</td>\n",
       "      <td>1,596,383,951</td>\n",
       "      <td>833,303</td>\n",
       "      <td>359,137</td>\n",
       "      <td>157,596,853</td>\n",
       "      <td>1,060,131,388</td>\n",
       "      <td>13,504,789</td>\n",
       "      <td>13,430,763</td>\n",
       "      <td>1,271,428,360</td>\n",
       "      <td>6,908,617</td>\n",
       "      <td>230,283,566</td>\n",
       "      <td>48,055,302</td>\n",
       "      <td>145,381,488</td>\n",
       "      <td>21,323,443</td>\n",
       "      <td>59,075,644</td>\n",
       "      <td>16,590,155</td>\n",
       "      <td>1,839,855</td>\n",
       "      <td>4,329,937</td>\n",
       "    </tr>\n",
       "    <tr>\n",
       "      <th>2023</th>\n",
       "      <td>102,495,127</td>\n",
       "      <td>0</td>\n",
       "      <td>1,328,080,603</td>\n",
       "      <td>1,208,960,417</td>\n",
       "      <td>971,022</td>\n",
       "      <td>371,616</td>\n",
       "      <td>369,872,329</td>\n",
       "      <td>849,108,909</td>\n",
       "      <td>12,955,500</td>\n",
       "      <td>40,384,094</td>\n",
       "      <td>1,029,691,798</td>\n",
       "      <td>3,583,250</td>\n",
       "      <td>243,257,834</td>\n",
       "      <td>65,186,812</td>\n",
       "      <td>126,205,704</td>\n",
       "      <td>9,642,635</td>\n",
       "      <td>53,521,562</td>\n",
       "      <td>22,305,005</td>\n",
       "      <td>1,550,648</td>\n",
       "      <td>4,040,040</td>\n",
       "    </tr>\n",
       "    <tr>\n",
       "      <th>2024</th>\n",
       "      <td>102,363,966</td>\n",
       "      <td>188,650</td>\n",
       "      <td>1,319,787,074</td>\n",
       "      <td>804,172,153</td>\n",
       "      <td>1,182,175</td>\n",
       "      <td>433,435</td>\n",
       "      <td>271,741,252</td>\n",
       "      <td>872,171,869</td>\n",
       "      <td>15,315,685</td>\n",
       "      <td>75,584,472</td>\n",
       "      <td>995,652,716</td>\n",
       "      <td>2,681,422</td>\n",
       "      <td>235,768,647</td>\n",
       "      <td>55,751,560</td>\n",
       "      <td>92,020,083</td>\n",
       "      <td>8,478,829</td>\n",
       "      <td>55,505,315</td>\n",
       "      <td>28,762,622</td>\n",
       "      <td>1,891,166</td>\n",
       "      <td>3,113,348</td>\n",
       "    </tr>\n",
       "  </tbody>\n",
       "</table>\n",
       "</div>"
      ],
      "text/plain": [
       "section_name_clean  Animal/vegetable fats & oils  Arms & ammunition  \\\n",
       "year                                                                  \n",
       "2022                                 121,496,413                  0   \n",
       "2023                                 102,495,127                  0   \n",
       "2024                                 102,363,966            188,650   \n",
       "\n",
       "section_name_clean  Base metals & articles  Chemical products  \\\n",
       "year                                                            \n",
       "2022                         1,483,447,104      1,596,383,951   \n",
       "2023                         1,328,080,603      1,208,960,417   \n",
       "2024                         1,319,787,074        804,172,153   \n",
       "\n",
       "section_name_clean  Footwear, headgear, umbrellas  \\\n",
       "year                                                \n",
       "2022                                      833,303   \n",
       "2023                                      971,022   \n",
       "2024                                    1,182,175   \n",
       "\n",
       "section_name_clean  Hides, leather, furskins & articles  \\\n",
       "year                                                      \n",
       "2022                                            359,137   \n",
       "2023                                            371,616   \n",
       "2024                                            433,435   \n",
       "\n",
       "section_name_clean  Machinery, electrical equipment & parts  Mineral products  \\\n",
       "year                                                                            \n",
       "2022                                            157,596,853     1,060,131,388   \n",
       "2023                                            369,872,329       849,108,909   \n",
       "2024                                            271,741,252       872,171,869   \n",
       "\n",
       "section_name_clean  Miscellaneous manufactured articles  \\\n",
       "year                                                      \n",
       "2022                                         13,504,789   \n",
       "2023                                         12,955,500   \n",
       "2024                                         15,315,685   \n",
       "\n",
       "section_name_clean  Pearls, precious stones & metals; jewellery; coin  \\\n",
       "year                                                                    \n",
       "2022                                                       13,430,763   \n",
       "2023                                                       40,384,094   \n",
       "2024                                                       75,584,472   \n",
       "\n",
       "section_name_clean  Plastics & rubber  \\\n",
       "year                                    \n",
       "2022                    1,271,428,360   \n",
       "2023                    1,029,691,798   \n",
       "2024                      995,652,716   \n",
       "\n",
       "section_name_clean  Precision/medical instruments; clocks; musical  \\\n",
       "year                                                                 \n",
       "2022                                                     6,908,617   \n",
       "2023                                                     3,583,250   \n",
       "2024                                                     2,681,422   \n",
       "\n",
       "section_name_clean  Prepared foods; beverages; tobacco  \\\n",
       "year                                                     \n",
       "2022                                       230,283,566   \n",
       "2023                                       243,257,834   \n",
       "2024                                       235,768,647   \n",
       "\n",
       "section_name_clean  Pulp, paper & paperboard; articles  \\\n",
       "year                                                     \n",
       "2022                                        48,055,302   \n",
       "2023                                        65,186,812   \n",
       "2024                                        55,751,560   \n",
       "\n",
       "section_name_clean  Stone, plaster, cement; ceramics; glass  \\\n",
       "year                                                          \n",
       "2022                                            145,381,488   \n",
       "2023                                            126,205,704   \n",
       "2024                                             92,020,083   \n",
       "\n",
       "section_name_clean  Textiles & textile articles  Vegetable products  \\\n",
       "year                                                                  \n",
       "2022                                 21,323,443          59,075,644   \n",
       "2023                                  9,642,635          53,521,562   \n",
       "2024                                  8,478,829          55,505,315   \n",
       "\n",
       "section_name_clean  Vehicles, aircraft & vessels  Wood, cork & basketwork  \\\n",
       "year                                                                        \n",
       "2022                                  16,590,155                1,839,855   \n",
       "2023                                  22,305,005                1,550,648   \n",
       "2024                                  28,762,622                1,891,166   \n",
       "\n",
       "section_name_clean  Works of art & antiques  \n",
       "year                                         \n",
       "2022                              4,329,937  \n",
       "2023                              4,040,040  \n",
       "2024                              3,113,348  "
      ]
     },
     "execution_count": 64,
     "metadata": {},
     "output_type": "execute_result"
    }
   ],
   "source": [
    "\n",
    "sec = (df[(df[\"trade_type\"]==\"Export\")]\n",
    "       .groupby([\"year\",\"section_name_clean\",\"oil_flag\"], as_index=False)[\"value_omr\"].sum())\n",
    "\n",
    "sec_no = sec[sec[\"oil_flag\"]==\"Non‑Oil\"].drop(columns=[\"oil_flag\"])\n",
    "wide_sec = sec_no.pivot(index=\"year\", columns=\"section_name_clean\", values=\"value_omr\").fillna(0.0).sort_index()\n",
    "\n",
    "growth_sec = wide_sec.pct_change()*100\n",
    "growth_sec = growth_sec.replace([np.inf,-np.inf], np.nan)\n",
    "\n",
    "year_tot_no = wide_sec.sum(axis=1).replace(0, np.nan)\n",
    "share_sec = wide_sec.div(year_tot_no, axis=0)*100\n",
    "\n",
    "print(\"Non‑Oil section totals (wide):\")\n",
    "wide_sec.tail(3)\n"
   ]
  },
  {
   "cell_type": "code",
   "execution_count": null,
   "id": "13b78496",
   "metadata": {},
   "outputs": [
    {
     "name": "stdout",
     "output_type": "stream",
     "text": [
      "YoY growth (%):\n"
     ]
    },
    {
     "data": {
      "text/html": [
       "<div>\n",
       "<style scoped>\n",
       "    .dataframe tbody tr th:only-of-type {\n",
       "        vertical-align: middle;\n",
       "    }\n",
       "\n",
       "    .dataframe tbody tr th {\n",
       "        vertical-align: top;\n",
       "    }\n",
       "\n",
       "    .dataframe thead th {\n",
       "        text-align: right;\n",
       "    }\n",
       "</style>\n",
       "<table border=\"1\" class=\"dataframe\">\n",
       "  <thead>\n",
       "    <tr style=\"text-align: right;\">\n",
       "      <th>section_name_clean</th>\n",
       "      <th>Animal/vegetable fats &amp; oils</th>\n",
       "      <th>Arms &amp; ammunition</th>\n",
       "      <th>Base metals &amp; articles</th>\n",
       "      <th>Chemical products</th>\n",
       "      <th>Footwear, headgear, umbrellas</th>\n",
       "      <th>Hides, leather, furskins &amp; articles</th>\n",
       "      <th>Machinery, electrical equipment &amp; parts</th>\n",
       "      <th>Mineral products</th>\n",
       "      <th>Miscellaneous manufactured articles</th>\n",
       "      <th>Pearls, precious stones &amp; metals; jewellery; coin</th>\n",
       "      <th>Plastics &amp; rubber</th>\n",
       "      <th>Precision/medical instruments; clocks; musical</th>\n",
       "      <th>Prepared foods; beverages; tobacco</th>\n",
       "      <th>Pulp, paper &amp; paperboard; articles</th>\n",
       "      <th>Stone, plaster, cement; ceramics; glass</th>\n",
       "      <th>Textiles &amp; textile articles</th>\n",
       "      <th>Vegetable products</th>\n",
       "      <th>Vehicles, aircraft &amp; vessels</th>\n",
       "      <th>Wood, cork &amp; basketwork</th>\n",
       "      <th>Works of art &amp; antiques</th>\n",
       "    </tr>\n",
       "    <tr>\n",
       "      <th>year</th>\n",
       "      <th></th>\n",
       "      <th></th>\n",
       "      <th></th>\n",
       "      <th></th>\n",
       "      <th></th>\n",
       "      <th></th>\n",
       "      <th></th>\n",
       "      <th></th>\n",
       "      <th></th>\n",
       "      <th></th>\n",
       "      <th></th>\n",
       "      <th></th>\n",
       "      <th></th>\n",
       "      <th></th>\n",
       "      <th></th>\n",
       "      <th></th>\n",
       "      <th></th>\n",
       "      <th></th>\n",
       "      <th></th>\n",
       "      <th></th>\n",
       "    </tr>\n",
       "  </thead>\n",
       "  <tbody>\n",
       "    <tr>\n",
       "      <th>2022</th>\n",
       "      <td>33</td>\n",
       "      <td>NaN</td>\n",
       "      <td>13</td>\n",
       "      <td>20</td>\n",
       "      <td>-25</td>\n",
       "      <td>-5</td>\n",
       "      <td>1</td>\n",
       "      <td>95</td>\n",
       "      <td>-3</td>\n",
       "      <td>-10</td>\n",
       "      <td>29</td>\n",
       "      <td>13</td>\n",
       "      <td>13</td>\n",
       "      <td>-38</td>\n",
       "      <td>31</td>\n",
       "      <td>-16</td>\n",
       "      <td>16</td>\n",
       "      <td>-79</td>\n",
       "      <td>15</td>\n",
       "      <td>-11</td>\n",
       "    </tr>\n",
       "    <tr>\n",
       "      <th>2023</th>\n",
       "      <td>-16</td>\n",
       "      <td>NaN</td>\n",
       "      <td>-10</td>\n",
       "      <td>-24</td>\n",
       "      <td>17</td>\n",
       "      <td>3</td>\n",
       "      <td>135</td>\n",
       "      <td>-20</td>\n",
       "      <td>-4</td>\n",
       "      <td>201</td>\n",
       "      <td>-19</td>\n",
       "      <td>-48</td>\n",
       "      <td>6</td>\n",
       "      <td>36</td>\n",
       "      <td>-13</td>\n",
       "      <td>-55</td>\n",
       "      <td>-9</td>\n",
       "      <td>34</td>\n",
       "      <td>-16</td>\n",
       "      <td>-7</td>\n",
       "    </tr>\n",
       "    <tr>\n",
       "      <th>2024</th>\n",
       "      <td>-0</td>\n",
       "      <td>NaN</td>\n",
       "      <td>-1</td>\n",
       "      <td>-33</td>\n",
       "      <td>22</td>\n",
       "      <td>17</td>\n",
       "      <td>-27</td>\n",
       "      <td>3</td>\n",
       "      <td>18</td>\n",
       "      <td>87</td>\n",
       "      <td>-3</td>\n",
       "      <td>-25</td>\n",
       "      <td>-3</td>\n",
       "      <td>-14</td>\n",
       "      <td>-27</td>\n",
       "      <td>-12</td>\n",
       "      <td>4</td>\n",
       "      <td>29</td>\n",
       "      <td>22</td>\n",
       "      <td>-23</td>\n",
       "    </tr>\n",
       "  </tbody>\n",
       "</table>\n",
       "</div>"
      ],
      "text/plain": [
       "section_name_clean  Animal/vegetable fats & oils  Arms & ammunition  \\\n",
       "year                                                                  \n",
       "2022                                          33                NaN   \n",
       "2023                                         -16                NaN   \n",
       "2024                                          -0                NaN   \n",
       "\n",
       "section_name_clean  Base metals & articles  Chemical products  \\\n",
       "year                                                            \n",
       "2022                                    13                 20   \n",
       "2023                                   -10                -24   \n",
       "2024                                    -1                -33   \n",
       "\n",
       "section_name_clean  Footwear, headgear, umbrellas  \\\n",
       "year                                                \n",
       "2022                                          -25   \n",
       "2023                                           17   \n",
       "2024                                           22   \n",
       "\n",
       "section_name_clean  Hides, leather, furskins & articles  \\\n",
       "year                                                      \n",
       "2022                                                 -5   \n",
       "2023                                                  3   \n",
       "2024                                                 17   \n",
       "\n",
       "section_name_clean  Machinery, electrical equipment & parts  Mineral products  \\\n",
       "year                                                                            \n",
       "2022                                                      1                95   \n",
       "2023                                                    135               -20   \n",
       "2024                                                    -27                 3   \n",
       "\n",
       "section_name_clean  Miscellaneous manufactured articles  \\\n",
       "year                                                      \n",
       "2022                                                 -3   \n",
       "2023                                                 -4   \n",
       "2024                                                 18   \n",
       "\n",
       "section_name_clean  Pearls, precious stones & metals; jewellery; coin  \\\n",
       "year                                                                    \n",
       "2022                                                              -10   \n",
       "2023                                                              201   \n",
       "2024                                                               87   \n",
       "\n",
       "section_name_clean  Plastics & rubber  \\\n",
       "year                                    \n",
       "2022                               29   \n",
       "2023                              -19   \n",
       "2024                               -3   \n",
       "\n",
       "section_name_clean  Precision/medical instruments; clocks; musical  \\\n",
       "year                                                                 \n",
       "2022                                                            13   \n",
       "2023                                                           -48   \n",
       "2024                                                           -25   \n",
       "\n",
       "section_name_clean  Prepared foods; beverages; tobacco  \\\n",
       "year                                                     \n",
       "2022                                                13   \n",
       "2023                                                 6   \n",
       "2024                                                -3   \n",
       "\n",
       "section_name_clean  Pulp, paper & paperboard; articles  \\\n",
       "year                                                     \n",
       "2022                                               -38   \n",
       "2023                                                36   \n",
       "2024                                               -14   \n",
       "\n",
       "section_name_clean  Stone, plaster, cement; ceramics; glass  \\\n",
       "year                                                          \n",
       "2022                                                     31   \n",
       "2023                                                    -13   \n",
       "2024                                                    -27   \n",
       "\n",
       "section_name_clean  Textiles & textile articles  Vegetable products  \\\n",
       "year                                                                  \n",
       "2022                                        -16                  16   \n",
       "2023                                        -55                  -9   \n",
       "2024                                        -12                   4   \n",
       "\n",
       "section_name_clean  Vehicles, aircraft & vessels  Wood, cork & basketwork  \\\n",
       "year                                                                        \n",
       "2022                                         -79                       15   \n",
       "2023                                          34                      -16   \n",
       "2024                                          29                       22   \n",
       "\n",
       "section_name_clean  Works of art & antiques  \n",
       "year                                         \n",
       "2022                                    -11  \n",
       "2023                                     -7  \n",
       "2024                                    -23  "
      ]
     },
     "execution_count": 65,
     "metadata": {},
     "output_type": "execute_result"
    }
   ],
   "source": [
    "\n",
    "print(\"YoY growth (%):\")\n",
    "growth_sec.tail(3)\n"
   ]
  },
  {
   "cell_type": "code",
   "execution_count": null,
   "id": "c15ba9a6",
   "metadata": {},
   "outputs": [],
   "source": [
    "\n",
    "print(\"Share of non‑oil (%):\")\n",
    "share_sec.tail(3)\n"
   ]
  },
  {
   "cell_type": "code",
   "execution_count": null,
   "id": "62ef24b6",
   "metadata": {},
   "outputs": [
    {
     "data": {
      "application/vnd.plotly.v1+json": {
       "config": {
        "plotlyServerURL": "https://plot.ly"
       },
       "data": [
        {
         "coloraxis": "coloraxis",
         "hovertemplate": "Year: %{x}<br>HS Section: %{y}<br>% YoY: %{z}<extra></extra>",
         "name": "0",
         "type": "heatmap",
         "x": {
          "bdata": "zgfPB9AH0QfSB9MH1AfVB9YH1wfYB9kH2gfbB9wH3QfeB98H4AfhB+IH4wfkB+UH5gfnB+gH",
          "dtype": "i2"
         },
         "xaxis": "x",
         "y": [
          "Animal/vegetable fats & oils",
          "Arms & ammunition",
          "Base metals & articles",
          "Chemical products",
          "Footwear, headgear, umbrellas",
          "Hides, leather, furskins & articles",
          "Machinery, electrical equipment & parts",
          "Mineral products",
          "Miscellaneous manufactured articles",
          "Pearls, precious stones & metals; jewellery; coin",
          "Plastics & rubber",
          "Precision/medical instruments; clocks; musical",
          "Prepared foods; beverages; tobacco",
          "Pulp, paper & paperboard; articles",
          "Stone, plaster, cement; ceramics; glass",
          "Textiles & textile articles",
          "Vegetable products",
          "Vehicles, aircraft & vessels",
          "Wood, cork & basketwork",
          "Works of art & antiques"
         ],
         "yaxis": "y",
         "z": {
          "bdata": "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",
          "dtype": "f8",
          "shape": "20, 27"
         }
        }
       ],
       "layout": {
        "coloraxis": {
         "colorbar": {
          "title": {
           "text": "% YoY"
          }
         },
         "colorscale": [
          [
           0,
           "rgb(103,0,31)"
          ],
          [
           0.1,
           "rgb(178,24,43)"
          ],
          [
           0.2,
           "rgb(214,96,77)"
          ],
          [
           0.3,
           "rgb(244,165,130)"
          ],
          [
           0.4,
           "rgb(253,219,199)"
          ],
          [
           0.5,
           "rgb(247,247,247)"
          ],
          [
           0.6,
           "rgb(209,229,240)"
          ],
          [
           0.7,
           "rgb(146,197,222)"
          ],
          [
           0.8,
           "rgb(67,147,195)"
          ],
          [
           0.9,
           "rgb(33,102,172)"
          ],
          [
           1,
           "rgb(5,48,97)"
          ]
         ]
        },
        "template": {
         "data": {
          "bar": [
           {
            "error_x": {
             "color": "#2a3f5f"
            },
            "error_y": {
             "color": "#2a3f5f"
            },
            "marker": {
             "line": {
              "color": "white",
              "width": 0.5
             },
             "pattern": {
              "fillmode": "overlay",
              "size": 10,
              "solidity": 0.2
             }
            },
            "type": "bar"
           }
          ],
          "barpolar": [
           {
            "marker": {
             "line": {
              "color": "white",
              "width": 0.5
             },
             "pattern": {
              "fillmode": "overlay",
              "size": 10,
              "solidity": 0.2
             }
            },
            "type": "barpolar"
           }
          ],
          "carpet": [
           {
            "aaxis": {
             "endlinecolor": "#2a3f5f",
             "gridcolor": "#C8D4E3",
             "linecolor": "#C8D4E3",
             "minorgridcolor": "#C8D4E3",
             "startlinecolor": "#2a3f5f"
            },
            "baxis": {
             "endlinecolor": "#2a3f5f",
             "gridcolor": "#C8D4E3",
             "linecolor": "#C8D4E3",
             "minorgridcolor": "#C8D4E3",
             "startlinecolor": "#2a3f5f"
            },
            "type": "carpet"
           }
          ],
          "choropleth": [
           {
            "colorbar": {
             "outlinewidth": 0,
             "ticks": ""
            },
            "type": "choropleth"
           }
          ],
          "contour": [
           {
            "colorbar": {
             "outlinewidth": 0,
             "ticks": ""
            },
            "colorscale": [
             [
              0,
              "#0d0887"
             ],
             [
              0.1111111111111111,
              "#46039f"
             ],
             [
              0.2222222222222222,
              "#7201a8"
             ],
             [
              0.3333333333333333,
              "#9c179e"
             ],
             [
              0.4444444444444444,
              "#bd3786"
             ],
             [
              0.5555555555555556,
              "#d8576b"
             ],
             [
              0.6666666666666666,
              "#ed7953"
             ],
             [
              0.7777777777777778,
              "#fb9f3a"
             ],
             [
              0.8888888888888888,
              "#fdca26"
             ],
             [
              1,
              "#f0f921"
             ]
            ],
            "type": "contour"
           }
          ],
          "contourcarpet": [
           {
            "colorbar": {
             "outlinewidth": 0,
             "ticks": ""
            },
            "type": "contourcarpet"
           }
          ],
          "heatmap": [
           {
            "colorbar": {
             "outlinewidth": 0,
             "ticks": ""
            },
            "colorscale": [
             [
              0,
              "#0d0887"
             ],
             [
              0.1111111111111111,
              "#46039f"
             ],
             [
              0.2222222222222222,
              "#7201a8"
             ],
             [
              0.3333333333333333,
              "#9c179e"
             ],
             [
              0.4444444444444444,
              "#bd3786"
             ],
             [
              0.5555555555555556,
              "#d8576b"
             ],
             [
              0.6666666666666666,
              "#ed7953"
             ],
             [
              0.7777777777777778,
              "#fb9f3a"
             ],
             [
              0.8888888888888888,
              "#fdca26"
             ],
             [
              1,
              "#f0f921"
             ]
            ],
            "type": "heatmap"
           }
          ],
          "histogram": [
           {
            "marker": {
             "pattern": {
              "fillmode": "overlay",
              "size": 10,
              "solidity": 0.2
             }
            },
            "type": "histogram"
           }
          ],
          "histogram2d": [
           {
            "colorbar": {
             "outlinewidth": 0,
             "ticks": ""
            },
            "colorscale": [
             [
              0,
              "#0d0887"
             ],
             [
              0.1111111111111111,
              "#46039f"
             ],
             [
              0.2222222222222222,
              "#7201a8"
             ],
             [
              0.3333333333333333,
              "#9c179e"
             ],
             [
              0.4444444444444444,
              "#bd3786"
             ],
             [
              0.5555555555555556,
              "#d8576b"
             ],
             [
              0.6666666666666666,
              "#ed7953"
             ],
             [
              0.7777777777777778,
              "#fb9f3a"
             ],
             [
              0.8888888888888888,
              "#fdca26"
             ],
             [
              1,
              "#f0f921"
             ]
            ],
            "type": "histogram2d"
           }
          ],
          "histogram2dcontour": [
           {
            "colorbar": {
             "outlinewidth": 0,
             "ticks": ""
            },
            "colorscale": [
             [
              0,
              "#0d0887"
             ],
             [
              0.1111111111111111,
              "#46039f"
             ],
             [
              0.2222222222222222,
              "#7201a8"
             ],
             [
              0.3333333333333333,
              "#9c179e"
             ],
             [
              0.4444444444444444,
              "#bd3786"
             ],
             [
              0.5555555555555556,
              "#d8576b"
             ],
             [
              0.6666666666666666,
              "#ed7953"
             ],
             [
              0.7777777777777778,
              "#fb9f3a"
             ],
             [
              0.8888888888888888,
              "#fdca26"
             ],
             [
              1,
              "#f0f921"
             ]
            ],
            "type": "histogram2dcontour"
           }
          ],
          "mesh3d": [
           {
            "colorbar": {
             "outlinewidth": 0,
             "ticks": ""
            },
            "type": "mesh3d"
           }
          ],
          "parcoords": [
           {
            "line": {
             "colorbar": {
              "outlinewidth": 0,
              "ticks": ""
             }
            },
            "type": "parcoords"
           }
          ],
          "pie": [
           {
            "automargin": true,
            "type": "pie"
           }
          ],
          "scatter": [
           {
            "fillpattern": {
             "fillmode": "overlay",
             "size": 10,
             "solidity": 0.2
            },
            "type": "scatter"
           }
          ],
          "scatter3d": [
           {
            "line": {
             "colorbar": {
              "outlinewidth": 0,
              "ticks": ""
             }
            },
            "marker": {
             "colorbar": {
              "outlinewidth": 0,
              "ticks": ""
             }
            },
            "type": "scatter3d"
           }
          ],
          "scattercarpet": [
           {
            "marker": {
             "colorbar": {
              "outlinewidth": 0,
              "ticks": ""
             }
            },
            "type": "scattercarpet"
           }
          ],
          "scattergeo": [
           {
            "marker": {
             "colorbar": {
              "outlinewidth": 0,
              "ticks": ""
             }
            },
            "type": "scattergeo"
           }
          ],
          "scattergl": [
           {
            "marker": {
             "colorbar": {
              "outlinewidth": 0,
              "ticks": ""
             }
            },
            "type": "scattergl"
           }
          ],
          "scattermap": [
           {
            "marker": {
             "colorbar": {
              "outlinewidth": 0,
              "ticks": ""
             }
            },
            "type": "scattermap"
           }
          ],
          "scattermapbox": [
           {
            "marker": {
             "colorbar": {
              "outlinewidth": 0,
              "ticks": ""
             }
            },
            "type": "scattermapbox"
           }
          ],
          "scatterpolar": [
           {
            "marker": {
             "colorbar": {
              "outlinewidth": 0,
              "ticks": ""
             }
            },
            "type": "scatterpolar"
           }
          ],
          "scatterpolargl": [
           {
            "marker": {
             "colorbar": {
              "outlinewidth": 0,
              "ticks": ""
             }
            },
            "type": "scatterpolargl"
           }
          ],
          "scatterternary": [
           {
            "marker": {
             "colorbar": {
              "outlinewidth": 0,
              "ticks": ""
             }
            },
            "type": "scatterternary"
           }
          ],
          "surface": [
           {
            "colorbar": {
             "outlinewidth": 0,
             "ticks": ""
            },
            "colorscale": [
             [
              0,
              "#0d0887"
             ],
             [
              0.1111111111111111,
              "#46039f"
             ],
             [
              0.2222222222222222,
              "#7201a8"
             ],
             [
              0.3333333333333333,
              "#9c179e"
             ],
             [
              0.4444444444444444,
              "#bd3786"
             ],
             [
              0.5555555555555556,
              "#d8576b"
             ],
             [
              0.6666666666666666,
              "#ed7953"
             ],
             [
              0.7777777777777778,
              "#fb9f3a"
             ],
             [
              0.8888888888888888,
              "#fdca26"
             ],
             [
              1,
              "#f0f921"
             ]
            ],
            "type": "surface"
           }
          ],
          "table": [
           {
            "cells": {
             "fill": {
              "color": "#EBF0F8"
             },
             "line": {
              "color": "white"
             }
            },
            "header": {
             "fill": {
              "color": "#C8D4E3"
             },
             "line": {
              "color": "white"
             }
            },
            "type": "table"
           }
          ]
         },
         "layout": {
          "annotationdefaults": {
           "arrowcolor": "#2a3f5f",
           "arrowhead": 0,
           "arrowwidth": 1
          },
          "autotypenumbers": "strict",
          "coloraxis": {
           "colorbar": {
            "outlinewidth": 0,
            "ticks": ""
           }
          },
          "colorscale": {
           "diverging": [
            [
             0,
             "#8e0152"
            ],
            [
             0.1,
             "#c51b7d"
            ],
            [
             0.2,
             "#de77ae"
            ],
            [
             0.3,
             "#f1b6da"
            ],
            [
             0.4,
             "#fde0ef"
            ],
            [
             0.5,
             "#f7f7f7"
            ],
            [
             0.6,
             "#e6f5d0"
            ],
            [
             0.7,
             "#b8e186"
            ],
            [
             0.8,
             "#7fbc41"
            ],
            [
             0.9,
             "#4d9221"
            ],
            [
             1,
             "#276419"
            ]
           ],
           "sequential": [
            [
             0,
             "#0d0887"
            ],
            [
             0.1111111111111111,
             "#46039f"
            ],
            [
             0.2222222222222222,
             "#7201a8"
            ],
            [
             0.3333333333333333,
             "#9c179e"
            ],
            [
             0.4444444444444444,
             "#bd3786"
            ],
            [
             0.5555555555555556,
             "#d8576b"
            ],
            [
             0.6666666666666666,
             "#ed7953"
            ],
            [
             0.7777777777777778,
             "#fb9f3a"
            ],
            [
             0.8888888888888888,
             "#fdca26"
            ],
            [
             1,
             "#f0f921"
            ]
           ],
           "sequentialminus": [
            [
             0,
             "#0d0887"
            ],
            [
             0.1111111111111111,
             "#46039f"
            ],
            [
             0.2222222222222222,
             "#7201a8"
            ],
            [
             0.3333333333333333,
             "#9c179e"
            ],
            [
             0.4444444444444444,
             "#bd3786"
            ],
            [
             0.5555555555555556,
             "#d8576b"
            ],
            [
             0.6666666666666666,
             "#ed7953"
            ],
            [
             0.7777777777777778,
             "#fb9f3a"
            ],
            [
             0.8888888888888888,
             "#fdca26"
            ],
            [
             1,
             "#f0f921"
            ]
           ]
          },
          "colorway": [
           "#636efa",
           "#EF553B",
           "#00cc96",
           "#ab63fa",
           "#FFA15A",
           "#19d3f3",
           "#FF6692",
           "#B6E880",
           "#FF97FF",
           "#FECB52"
          ],
          "font": {
           "color": "#2a3f5f"
          },
          "geo": {
           "bgcolor": "white",
           "lakecolor": "white",
           "landcolor": "white",
           "showlakes": true,
           "showland": true,
           "subunitcolor": "#C8D4E3"
          },
          "hoverlabel": {
           "align": "left"
          },
          "hovermode": "closest",
          "mapbox": {
           "style": "light"
          },
          "paper_bgcolor": "white",
          "plot_bgcolor": "white",
          "polar": {
           "angularaxis": {
            "gridcolor": "#EBF0F8",
            "linecolor": "#EBF0F8",
            "ticks": ""
           },
           "bgcolor": "white",
           "radialaxis": {
            "gridcolor": "#EBF0F8",
            "linecolor": "#EBF0F8",
            "ticks": ""
           }
          },
          "scene": {
           "xaxis": {
            "backgroundcolor": "white",
            "gridcolor": "#DFE8F3",
            "gridwidth": 2,
            "linecolor": "#EBF0F8",
            "showbackground": true,
            "ticks": "",
            "zerolinecolor": "#EBF0F8"
           },
           "yaxis": {
            "backgroundcolor": "white",
            "gridcolor": "#DFE8F3",
            "gridwidth": 2,
            "linecolor": "#EBF0F8",
            "showbackground": true,
            "ticks": "",
            "zerolinecolor": "#EBF0F8"
           },
           "zaxis": {
            "backgroundcolor": "white",
            "gridcolor": "#DFE8F3",
            "gridwidth": 2,
            "linecolor": "#EBF0F8",
            "showbackground": true,
            "ticks": "",
            "zerolinecolor": "#EBF0F8"
           }
          },
          "shapedefaults": {
           "line": {
            "color": "#2a3f5f"
           }
          },
          "ternary": {
           "aaxis": {
            "gridcolor": "#DFE8F3",
            "linecolor": "#A2B1C6",
            "ticks": ""
           },
           "baxis": {
            "gridcolor": "#DFE8F3",
            "linecolor": "#A2B1C6",
            "ticks": ""
           },
           "bgcolor": "white",
           "caxis": {
            "gridcolor": "#DFE8F3",
            "linecolor": "#A2B1C6",
            "ticks": ""
           }
          },
          "title": {
           "x": 0.05
          },
          "xaxis": {
           "automargin": true,
           "gridcolor": "#EBF0F8",
           "linecolor": "#EBF0F8",
           "ticks": "",
           "title": {
            "standoff": 15
           },
           "zerolinecolor": "#EBF0F8",
           "zerolinewidth": 2
          },
          "yaxis": {
           "automargin": true,
           "gridcolor": "#EBF0F8",
           "linecolor": "#EBF0F8",
           "ticks": "",
           "title": {
            "standoff": 15
           },
           "zerolinecolor": "#EBF0F8",
           "zerolinewidth": 2
          }
         }
        },
        "title": {
         "text": "YoY Growth (%) — Non‑Oil Exports by HS Section"
        },
        "xaxis": {
         "anchor": "y",
         "domain": [
          0,
          1
         ],
         "title": {
          "text": "Year"
         }
        },
        "yaxis": {
         "anchor": "x",
         "autorange": true,
         "domain": [
          0,
          1
         ],
         "title": {
          "text": "HS Section"
         }
        }
       }
      }
     },
     "metadata": {},
     "output_type": "display_data"
    }
   ],
   "source": [
    "\n",
    "import plotly.express as px\n",
    "fig21 = px.imshow(growth_sec.T, aspect='auto', color_continuous_scale='RdBu', origin='lower',\n",
    "                  title='YoY Growth (%) — Non‑Oil Exports by HS Section',\n",
    "                  labels=dict(x=\"Year\", y=\"HS Section\", color=\"% YoY\"))\n",
    "fig21.update_layout(template=\"plotly_white\")\n",
    "fig21.show()\n"
   ]
  },
  {
   "cell_type": "markdown",
   "id": "32e6de04",
   "metadata": {},
   "source": [
    "## 22) Contribution to **Non‑Oil** Growth by HS Section (pp)"
   ]
  },
  {
   "cell_type": "code",
   "execution_count": null,
   "id": "f3518948",
   "metadata": {},
   "outputs": [
    {
     "data": {
      "text/html": [
       "<div>\n",
       "<style scoped>\n",
       "    .dataframe tbody tr th:only-of-type {\n",
       "        vertical-align: middle;\n",
       "    }\n",
       "\n",
       "    .dataframe tbody tr th {\n",
       "        vertical-align: top;\n",
       "    }\n",
       "\n",
       "    .dataframe thead th {\n",
       "        text-align: right;\n",
       "    }\n",
       "</style>\n",
       "<table border=\"1\" class=\"dataframe\">\n",
       "  <thead>\n",
       "    <tr style=\"text-align: right;\">\n",
       "      <th></th>\n",
       "      <th>year</th>\n",
       "      <th>HS Section</th>\n",
       "      <th>pp</th>\n",
       "    </tr>\n",
       "  </thead>\n",
       "  <tbody>\n",
       "    <tr>\n",
       "      <th>0</th>\n",
       "      <td>1998</td>\n",
       "      <td>Animal/vegetable fats &amp; oils</td>\n",
       "      <td>NaN</td>\n",
       "    </tr>\n",
       "    <tr>\n",
       "      <th>1</th>\n",
       "      <td>1999</td>\n",
       "      <td>Animal/vegetable fats &amp; oils</td>\n",
       "      <td>-0</td>\n",
       "    </tr>\n",
       "    <tr>\n",
       "      <th>2</th>\n",
       "      <td>2000</td>\n",
       "      <td>Animal/vegetable fats &amp; oils</td>\n",
       "      <td>1</td>\n",
       "    </tr>\n",
       "    <tr>\n",
       "      <th>3</th>\n",
       "      <td>2001</td>\n",
       "      <td>Animal/vegetable fats &amp; oils</td>\n",
       "      <td>-1</td>\n",
       "    </tr>\n",
       "    <tr>\n",
       "      <th>4</th>\n",
       "      <td>2002</td>\n",
       "      <td>Animal/vegetable fats &amp; oils</td>\n",
       "      <td>0</td>\n",
       "    </tr>\n",
       "    <tr>\n",
       "      <th>5</th>\n",
       "      <td>2003</td>\n",
       "      <td>Animal/vegetable fats &amp; oils</td>\n",
       "      <td>2</td>\n",
       "    </tr>\n",
       "    <tr>\n",
       "      <th>6</th>\n",
       "      <td>2004</td>\n",
       "      <td>Animal/vegetable fats &amp; oils</td>\n",
       "      <td>2</td>\n",
       "    </tr>\n",
       "    <tr>\n",
       "      <th>7</th>\n",
       "      <td>2005</td>\n",
       "      <td>Animal/vegetable fats &amp; oils</td>\n",
       "      <td>3</td>\n",
       "    </tr>\n",
       "    <tr>\n",
       "      <th>8</th>\n",
       "      <td>2006</td>\n",
       "      <td>Animal/vegetable fats &amp; oils</td>\n",
       "      <td>0</td>\n",
       "    </tr>\n",
       "    <tr>\n",
       "      <th>9</th>\n",
       "      <td>2007</td>\n",
       "      <td>Animal/vegetable fats &amp; oils</td>\n",
       "      <td>1</td>\n",
       "    </tr>\n",
       "  </tbody>\n",
       "</table>\n",
       "</div>"
      ],
      "text/plain": [
       "   year                    HS Section  pp\n",
       "0  1998  Animal/vegetable fats & oils NaN\n",
       "1  1999  Animal/vegetable fats & oils  -0\n",
       "2  2000  Animal/vegetable fats & oils   1\n",
       "3  2001  Animal/vegetable fats & oils  -1\n",
       "4  2002  Animal/vegetable fats & oils   0\n",
       "5  2003  Animal/vegetable fats & oils   2\n",
       "6  2004  Animal/vegetable fats & oils   2\n",
       "7  2005  Animal/vegetable fats & oils   3\n",
       "8  2006  Animal/vegetable fats & oils   0\n",
       "9  2007  Animal/vegetable fats & oils   1"
      ]
     },
     "execution_count": 67,
     "metadata": {},
     "output_type": "execute_result"
    }
   ],
   "source": [
    "\n",
    "no_sec = (df[(df[\"trade_type\"]==\"Export\") & (df[\"oil_flag\"]==\"Non‑Oil\")]\n",
    "          .groupby([\"year\",\"section_name_clean\"], as_index=False)[\"value_omr\"].sum())\n",
    "\n",
    "no_tot = (df[(df[\"trade_type\"]==\"Export\") & (df[\"oil_flag\"]==\"Non‑Oil\")]\n",
    "          .groupby(\"year\", as_index=False)[\"value_omr\"].sum().rename(columns={\"value_omr\":\"non_oil_total\"}))\n",
    "\n",
    "pivot_sec = no_sec.pivot(index=\"year\", columns=\"section_name_clean\", values=\"value_omr\").fillna(0.0).sort_index()\n",
    "pivot_sec = pivot_sec.merge(no_tot.set_index(\"year\"), left_index=True, right_index=True, how=\"left\")\n",
    "\n",
    "pivot_sec[\"total_prev\"] = pivot_sec[\"non_oil_total\"].shift(1)\n",
    "deltas = pivot_sec.drop(columns=[\"non_oil_total\",\"total_prev\"]).diff()\n",
    "contrib_pp_sec = deltas.div(pivot_sec[\"total_prev\"], axis=0) * 100\n",
    "\n",
    "contrib_long = contrib_pp_sec.reset_index().melt(id_vars=\"year\", var_name=\"HS Section\", value_name=\"pp\")\n",
    "contrib_long.head(10)\n"
   ]
  },
  {
   "cell_type": "code",
   "execution_count": null,
   "id": "72ba8e17",
   "metadata": {},
   "outputs": [
    {
     "data": {
      "application/vnd.plotly.v1+json": {
       "config": {
        "plotlyServerURL": "https://plot.ly"
       },
       "data": [
        {
         "hovertemplate": "HS Section=Animal/vegetable fats & oils<br>year=%{x}<br>Percentage points=%{y}<extra></extra>",
         "legendgroup": "Animal/vegetable fats & oils",
         "marker": {
          "color": "#636efa",
          "pattern": {
           "shape": ""
          }
         },
         "name": "Animal/vegetable fats & oils",
         "orientation": "v",
         "showlegend": true,
         "textposition": "auto",
         "type": "bar",
         "x": {
          "bdata": "zgfPB9AH0QfSB9MH1AfVB9YH1wfYB9kH2gfbB9wH3QfeB98H4AfhB+IH4wfkB+UH5gfnB+gH",
          "dtype": "i2"
         },
         "xaxis": "x",
         "y": {
          "bdata": "AAAAAAAA+H+jydAKC/HWv2eEI+MlaOU/uZK8LZpV7L/R2K20uX3SP16gGrUduvk/7ZBq+JyE/T9O1W8qSQAFQPMxuBWwyaM/AaGemU1J8j9P4sLxhxoSQLkoqKVAiOy/W8FHo+BU4r+9OpI3VtfwP/wxMDANduu/9ndiHtpg5D/IdAsbNKPVP+1YTBHIwJ4/rWDfNfmpw7+QeS9tzL7Iv/cJBU0KEMq/siZ/COut0r8wbJu83mDaPyylmUUlteI/2JQxzvhk4z8NApE7KXPTv2DrvTqYomO/",
          "dtype": "f8"
         },
         "yaxis": "y"
        },
        {
         "hovertemplate": "HS Section=Arms & ammunition<br>year=%{x}<br>Percentage points=%{y}<extra></extra>",
         "legendgroup": "Arms & ammunition",
         "marker": {
          "color": "#EF553B",
          "pattern": {
           "shape": ""
          }
         },
         "name": "Arms & ammunition",
         "orientation": "v",
         "showlegend": true,
         "textposition": "auto",
         "type": "bar",
         "x": {
          "bdata": "zgfPB9AH0QfSB9MH1AfVB9YH1wfYB9kH2gfbB9wH3QfeB98H4AfhB+IH4wfkB+UH5gfnB+gH",
          "dtype": "i2"
         },
         "xaxis": "x",
         "y": {
          "bdata": "AAAAAAAA+H98LfXFri5gv2tqWdhz9na/S/APqE6UQb/5MU4UntQIPx02VO+knAi/32fGTuqJIT98wE8bR8QFv5PMIJzadQa/AAAAAAAAAABK+sN4r2EjP+PHibDGtIw/4krwGT9ei78AAAAAAAAAAAAAAAAAAAAAAAAAAAAAAAAAAAAAAAAAAAAAAAAAAAAAAAAAAAAAAAAAAAAAAAAAAFJa9Ou27cE/L5oEKdj1qL8WONoc02+xvwAAAAAAAAAAAAAAAAAAAAAAAAAAAAAAABiZKGbLPWw/",
          "dtype": "f8"
         },
         "yaxis": "y"
        },
        {
         "hovertemplate": "HS Section=Base metals & articles<br>year=%{x}<br>Percentage points=%{y}<extra></extra>",
         "legendgroup": "Base metals & articles",
         "marker": {
          "color": "#00cc96",
          "pattern": {
           "shape": ""
          }
         },
         "name": "Base metals & articles",
         "orientation": "v",
         "showlegend": true,
         "textposition": "auto",
         "type": "bar",
         "x": {
          "bdata": "zgfPB9AH0QfSB9MH1AfVB9YH1wfYB9kH2gfbB9wH3QfeB98H4AfhB+IH4wfkB+UH5gfnB+gH",
          "dtype": "i2"
         },
         "xaxis": "x",
         "y": {
          "bdata": "AAAAAAAA+H8s2qo1xyIDwGvcfyipMBlAjK7vzxRMDEDtEO19pZQUwA30kFPBeQZAE/1Hz5KwJUDXORHpULAWQHW0bAd/mhRAFUVRGqlix79wHKjNBLkTQLle6zZwHixAbOWCuriw/r9bX04qLI0lQAvNMw4vrBJArU0xOLkx/T8rNbt2RQD1P/JwfEO83wzA5DETt51cFcDr/SmKjQEXQLbxKy3PIStAI28o2dMiD8AHgTqK3pXUP1Na5B8rAylAuN9bIpckDEBb1HBhGOEDwDZHkuI/ZsO/",
          "dtype": "f8"
         },
         "yaxis": "y"
        },
        {
         "hovertemplate": "HS Section=Chemical products<br>year=%{x}<br>Percentage points=%{y}<extra></extra>",
         "legendgroup": "Chemical products",
         "marker": {
          "color": "#ab63fa",
          "pattern": {
           "shape": ""
          }
         },
         "name": "Chemical products",
         "orientation": "v",
         "showlegend": true,
         "textposition": "auto",
         "type": "bar",
         "x": {
          "bdata": "zgfPB9AH0QfSB9MH1AfVB9YH1wfYB9kH2gfbB9wH3QfeB98H4AfhB+IH4wfkB+UH5gfnB+gH",
          "dtype": "i2"
         },
         "xaxis": "x",
         "y": {
          "bdata": "AAAAAAAA+H80B0C3etz5v9q+3C/SQhNAfJnlF/XT8j8i68BIcBYRQJd3FLIvqvg/PRFtWG2FEUB9+9fn44ksQP797rig5SFAxF6FsLkGFkDgqg+K/esrQFxDGgSAKtw/BuW2ocoFO0CjW918RQU5QAgpFZMj0w7Alb9MmORtI8B0nLr3SAQTQM1mor0NDR/A+tdzbEv+EMDuwRWe4H0jQL6F/gHYGxJAWgMY/za44b+HNGxWq8kKwPRxQLdjzSxApSvh4Vu5FUAt2ZhPHMkYwEUUN6a6lh3A",
          "dtype": "f8"
         },
         "yaxis": "y"
        },
        {
         "hovertemplate": "HS Section=Footwear, headgear, umbrellas<br>year=%{x}<br>Percentage points=%{y}<extra></extra>",
         "legendgroup": "Footwear, headgear, umbrellas",
         "marker": {
          "color": "#FFA15A",
          "pattern": {
           "shape": ""
          }
         },
         "name": "Footwear, headgear, umbrellas",
         "orientation": "v",
         "showlegend": true,
         "textposition": "auto",
         "type": "bar",
         "x": {
          "bdata": "zgfPB9AH0QfSB9MH1AfVB9YH1wfYB9kH2gfbB9wH3QfeB98H4AfhB+IH4wfkB+UH5gfnB+gH",
          "dtype": "i2"
         },
         "xaxis": "x",
         "y": {
          "bdata": "AAAAAAAA+H/lospwsTaqv2M3jmMxscM/O1tZgmuQyL+Q54LrGvm+P0tAGkG6P8G/1Jd38V8GkT+GuIx/qsymP+o/NUG0ZJI/c/XB5z2YoT9VQ99Tzq2gPyzpw7xrmp2/hi1+cuwheb9H2w7/dO5Svzp+J8fDilE/8/AW9p5ndz8jtG7gXD50PxQwqdsjo3m/LxpRFHupjz+XR0yiF2Z7vwrwcoLMU2G/V0LzbhZfQz/ah+ab5NxtPzBdqn8ViHw/8hnYaXhCd79WsrgXTwtiPxUU8zYynG8/",
          "dtype": "f8"
         },
         "yaxis": "y"
        },
        {
         "hovertemplate": "HS Section=Hides, leather, furskins & articles<br>year=%{x}<br>Percentage points=%{y}<extra></extra>",
         "legendgroup": "Hides, leather, furskins & articles",
         "marker": {
          "color": "#19d3f3",
          "pattern": {
           "shape": ""
          }
         },
         "name": "Hides, leather, furskins & articles",
         "orientation": "v",
         "showlegend": true,
         "textposition": "auto",
         "type": "bar",
         "x": {
          "bdata": "zgfPB9AH0QfSB9MH1AfVB9YH1wfYB9kH2gfbB9wH3QfeB98H4AfhB+IH4wfkB+UH5gfnB+gH",
          "dtype": "i2"
         },
         "xaxis": "x",
         "y": {
          "bdata": "AAAAAAAA+H/+UIGDgByFv5bG9irRWJs/4CuNlKg4gD+/P3PDlrqiP45VHsvq2Ku/WMNp0Oh5lz9APHxP8Ud8v5E3jzTT0HI/5ozcjLTegj9dsPpqWBCiPxeCtJAJYJq/N27JPg2gdb8+IQiOTzNxP8f/OeUdiGw/t3IMEVLJlj/xAs5B8o54vyReHOjqnl0/lEn4qkm8cz9L+QYhMI2QvyUT+61gIo+/ZqON/lz1ej/7TSHWFY1kPzTzSYnnkWO//qwep7YMOL/qYPtVCikqP7QcyshIglI/",
          "dtype": "f8"
         },
         "yaxis": "y"
        },
        {
         "hovertemplate": "HS Section=Machinery, electrical equipment & parts<br>year=%{x}<br>Percentage points=%{y}<extra></extra>",
         "legendgroup": "Machinery, electrical equipment & parts",
         "marker": {
          "color": "#FF6692",
          "pattern": {
           "shape": ""
          }
         },
         "name": "Machinery, electrical equipment & parts",
         "orientation": "v",
         "showlegend": true,
         "textposition": "auto",
         "type": "bar",
         "x": {
          "bdata": "zgfPB9AH0QfSB9MH1AfVB9YH1wfYB9kH2gfbB9wH3QfeB98H4AfhB+IH4wfkB+UH5gfnB+gH",
          "dtype": "i2"
         },
         "xaxis": "x",
         "y": {
          "bdata": "AAAAAAAA+H/r/DGECp0HwCaEZBOh+/s/sBadC3+z+z8I5BaWg1jnP8z5LQO6Sus/CfWYt5NoCUBWBA7SI4gMQPoBhTfohyBADbo5NiXIK0ArudbkDEkXQHQEWeO80RrAfClLT2Ab+b/d2+qpDbDePwLQSHRJYNa/q1VWhSO46z8SdQKh1/jiP7sNM7MEpNO/QURYHxBD8r8VSYrn/yDnv8XSlCj8gP0/rg6u+Ijd8L/Tg65Gov+2v+4/NG9BhvU/e2/IHGp0kD/klk02LCkLQMMQbGU8sfy/",
          "dtype": "f8"
         },
         "yaxis": "y"
        },
        {
         "hovertemplate": "HS Section=Mineral products<br>year=%{x}<br>Percentage points=%{y}<extra></extra>",
         "legendgroup": "Mineral products",
         "marker": {
          "color": "#B6E880",
          "pattern": {
           "shape": ""
          }
         },
         "name": "Mineral products",
         "orientation": "v",
         "showlegend": true,
         "textposition": "auto",
         "type": "bar",
         "x": {
          "bdata": "zgfPB9AH0QfSB9MH1AfVB9YH1wfYB9kH2gfbB9wH3QfeB98H4AfhB+IH4wfkB+UH5gfnB+gH",
          "dtype": "i2"
         },
         "xaxis": "x",
         "y": {
          "bdata": "AAAAAAAA+H+ZYSAZfn8FQKLADqLHsQZAjpUtshAG8D+nfpjWT0L1Py1U0sX3+glApdcSQyvmcb87NPwqB0LzP+pg6EnTaQpAasA7p4TVCEA1aATS1TcNQCz2sTlR3f+/w1bW3kHK8T/r5Ax0h14OQNoppIaK9BJANYJuk6RxIkCAU4ZruuYcwGVJn6sIhgzAMab4QwMXDsA2/OZQRCgwQMQfxYJ4JMY/GzTRBXoJEMAc2O9skRkCQOtep8tUzRFA17XurYqiJEAyfKFYIQALwP256+Qq+do/",
          "dtype": "f8"
         },
         "yaxis": "y"
        },
        {
         "hovertemplate": "HS Section=Miscellaneous manufactured articles<br>year=%{x}<br>Percentage points=%{y}<extra></extra>",
         "legendgroup": "Miscellaneous manufactured articles",
         "marker": {
          "color": "#FF97FF",
          "pattern": {
           "shape": ""
          }
         },
         "name": "Miscellaneous manufactured articles",
         "orientation": "v",
         "showlegend": true,
         "textposition": "auto",
         "type": "bar",
         "x": {
          "bdata": "zgfPB9AH0QfSB9MH1AfVB9YH1wfYB9kH2gfbB9wH3QfeB98H4AfhB+IH4wfkB+UH5gfnB+gH",
          "dtype": "i2"
         },
         "xaxis": "x",
         "y": {
          "bdata": "AAAAAAAA+H/D6R8UMC3xv3zRDrI+wtW/2xktlxI+3z/3CLRp3tLcv/tlNIhhbPo/Sz5mquMN0L+3APVdONHAP2NOCu1ss8a/ease6Qo8s78c88KlNUD1PzZU1/rbeOC/5MxE7by2sr8lTR/xYkelP4JwdzxZ+a6/qtNDIgSJtj8sRyWCO27NP2IUvn5+vcO/bry9/r5IwD90P07nUWvVvyHqt1VcCaU/6MOJkOTdiT9Nj3jiMgC7v9I4dvYbaYO/eGjeGnb0gr8JvCZYAP6BvzUhRQ82FaY/",
          "dtype": "f8"
         },
         "yaxis": "y"
        },
        {
         "hovertemplate": "HS Section=Pearls, precious stones & metals; jewellery; coin<br>year=%{x}<br>Percentage points=%{y}<extra></extra>",
         "legendgroup": "Pearls, precious stones & metals; jewellery; coin",
         "marker": {
          "color": "#FECB52",
          "pattern": {
           "shape": ""
          }
         },
         "name": "Pearls, precious stones & metals; jewellery; coin",
         "orientation": "v",
         "showlegend": true,
         "textposition": "auto",
         "type": "bar",
         "x": {
          "bdata": "zgfPB9AH0QfSB9MH1AfVB9YH1wfYB9kH2gfbB9wH3QfeB98H4AfhB+IH4wfkB+UH5gfnB+gH",
          "dtype": "i2"
         },
         "xaxis": "x",
         "y": {
          "bdata": "AAAAAAAA+H/vL7TSSirnP1ZteT1lNrW/xEeLvtBvsD/YWbf0F13bv1twi12IJde/OMxidG/i1T/ov0u4827mP2D3tVj+yOO/4I0/FAjxxD87MboyT8rYP28XUT+cUek/QwBG3zLeoL9oMhNsdZnlv5Hoji+Z3KM/B7ixGY5Kpz+n6dVcB/OYv7udQcJpg66/3sfTMkrjhr/Dk5vTI8C9P1Tb1dv7l9g/OUch6PKN8D8Q73vDlEnUPzkEkWCTNfa/mUiHmQhXnb9JKd4W8ZbbP6KjZAyWleQ/",
          "dtype": "f8"
         },
         "yaxis": "y"
        },
        {
         "hovertemplate": "HS Section=Plastics & rubber<br>year=%{x}<br>Percentage points=%{y}<extra></extra>",
         "legendgroup": "Plastics & rubber",
         "marker": {
          "color": "#636efa",
          "pattern": {
           "shape": ""
          }
         },
         "name": "Plastics & rubber",
         "orientation": "v",
         "showlegend": true,
         "textposition": "auto",
         "type": "bar",
         "x": {
          "bdata": "zgfPB9AH0QfSB9MH1AfVB9YH1wfYB9kH2gfbB9wH3QfeB98H4AfhB+IH4wfkB+UH5gfnB+gH",
          "dtype": "i2"
         },
         "xaxis": "x",
         "y": {
          "bdata": "AAAAAAAA+H9ONGfBWeoiQP6GwRwEnaY/1C72IgXlmr8/q7dm817vP4aoG3RPRBlAdgmbPSxuJkDYcF/kXBrnv2uDG4A/7wTAxFxHrwG9LUCLt5VPc58xQC5rht0I/NY/e5/Dbh514j/oWXHPfZUHQEtHY/mFU/m/zjnC3GsG9z812J3mam8FQHsNW6QcZAXAKrDjEuULGsCu1m7K5jcRQCwO9oKy5Pg/UBSKNceq+79+RCXi7F8kQJmd5flbPiZAdglBpGPXFkA07sXYLu4OwErZm7a85+O/",
          "dtype": "f8"
         },
         "yaxis": "y"
        },
        {
         "hovertemplate": "HS Section=Precision/medical instruments; clocks; musical<br>year=%{x}<br>Percentage points=%{y}<extra></extra>",
         "legendgroup": "Precision/medical instruments; clocks; musical",
         "marker": {
          "color": "#EF553B",
          "pattern": {
           "shape": ""
          }
         },
         "name": "Precision/medical instruments; clocks; musical",
         "orientation": "v",
         "showlegend": true,
         "textposition": "auto",
         "type": "bar",
         "x": {
          "bdata": "zgfPB9AH0QfSB9MH1AfVB9YH1wfYB9kH2gfbB9wH3QfeB98H4AfhB+IH4wfkB+UH5gfnB+gH",
          "dtype": "i2"
         },
         "xaxis": "x",
         "y": {
          "bdata": "AAAAAAAA+H9ZkuolaV+2vzg3uEOe9Ki/U2S8ZdpywD/vuRaq09e0v8Jm4KUcRae/NscSeht1ej98oDovcOhXv9xLedq+YIW/QrCKfsMpcL/TY1xdlbqwP6UdkTb4voQ/cwSxwRHmkD/IFhnS9wKeP8/hBqZGOpG/aEjDQVEzbb9UgnzecymQP1K3HSBcBY2/I6AFytvVpT8ZKdoLbqSxP7upYsWsWbM/qI1fO/5dob/3VVnaIVC3P3Rn9x6Wv6K/svrBG5UMkD+eDV2BHzurv8Tu07Qw4JC/",
          "dtype": "f8"
         },
         "yaxis": "y"
        },
        {
         "hovertemplate": "HS Section=Prepared foods; beverages; tobacco<br>year=%{x}<br>Percentage points=%{y}<extra></extra>",
         "legendgroup": "Prepared foods; beverages; tobacco",
         "marker": {
          "color": "#00cc96",
          "pattern": {
           "shape": ""
          }
         },
         "name": "Prepared foods; beverages; tobacco",
         "orientation": "v",
         "showlegend": true,
         "textposition": "auto",
         "type": "bar",
         "x": {
          "bdata": "zgfPB9AH0QfSB9MH1AfVB9YH1wfYB9kH2gfbB9wH3QfeB98H4AfhB+IH4wfkB+UH5gfnB+gH",
          "dtype": "i2"
         },
         "xaxis": "x",
         "y": {
          "bdata": "AAAAAAAA+H98FhN7Frvqv6fmxdwpytA/HF9oVDYL+j9XujmUpinwP4Uk5Kynrfk/qhzNdftn/j+4t408EnUHQNoSIHp9S++/JQ/xSevr8j8qkOijC0v6Pwk1zOh91vA/ehHd14HH4T+z+1jOnUrkP7mzZFqPceg/PoJLGcIzwb8bTBI9dJnkPzse1mDr8Ng/FNFz4VH3078czkSlMYvvPy1G7cSORcM/pj9qvpgJyD+VRrYYNe7kP23rm1TonOE/GR8YN5Id4T/omI5SpI/KP4Q83POZhMG/",
          "dtype": "f8"
         },
         "yaxis": "y"
        },
        {
         "hovertemplate": "HS Section=Pulp, paper & paperboard; articles<br>year=%{x}<br>Percentage points=%{y}<extra></extra>",
         "legendgroup": "Pulp, paper & paperboard; articles",
         "marker": {
          "color": "#ab63fa",
          "pattern": {
           "shape": ""
          }
         },
         "name": "Pulp, paper & paperboard; articles",
         "orientation": "v",
         "showlegend": true,
         "textposition": "auto",
         "type": "bar",
         "x": {
          "bdata": "zgfPB9AH0QfSB9MH1AfVB9YH1wfYB9kH2gfbB9wH3QfeB98H4AfhB+IH4wfkB+UH5gfnB+gH",
          "dtype": "i2"
         },
         "xaxis": "x",
         "y": {
          "bdata": "AAAAAAAA+H8O5lffRXDRvyKgUsT5BMI/hAyaZysjwD9xnGEaNaFdv/ZI0+93rZ6/Eft7nLyC3z95Dg3EUETkPxuANasoqsq/wvGdMGfE2j98jbYMIS7hPwg6CiLrJMa/W25nK0x3vT9Cs3D+aES9P6kIDq+ECpI/l+kRe7Jsk7/bb4FC+gi7P/fujWHQg7Y/ap4GJgccpL9OLEmJMCXVP1mrpHdB8Mm/Ogc/vCmIvT+Pz2UaUm+9v3Yotunacfs/FR6BGEEM47+a4SPbMonRP297Q8bsEca/",
          "dtype": "f8"
         },
         "yaxis": "y"
        },
        {
         "hovertemplate": "HS Section=Stone, plaster, cement; ceramics; glass<br>year=%{x}<br>Percentage points=%{y}<extra></extra>",
         "legendgroup": "Stone, plaster, cement; ceramics; glass",
         "marker": {
          "color": "#FFA15A",
          "pattern": {
           "shape": ""
          }
         },
         "name": "Stone, plaster, cement; ceramics; glass",
         "orientation": "v",
         "showlegend": true,
         "textposition": "auto",
         "type": "bar",
         "x": {
          "bdata": "zgfPB9AH0QfSB9MH1AfVB9YH1wfYB9kH2gfbB9wH3QfeB98H4AfhB+IH4wfkB+UH5gfnB+gH",
          "dtype": "i2"
         },
         "xaxis": "x",
         "y": {
          "bdata": "AAAAAAAA+H8Pso62XdXpP9aQjYjuOPM/N54Xhz190j9ne/N4arzpP5mmd3sK0/o/iGyqCIe+CkDRCDV/b8oEQGF9Az0RG7U/2mezfzU78z86KyeTCfQKQC39mkiPzuO/Kdwx0JN05T9D7XesumrYv3s8WkYSH+A/h5egOjy65T/AYsgZDFnkPxUIdCFSesA/EYwEsOfb8L9ejiF65BvYv9aZK2998dI/5kT2806M3b9b5sBDFUrgPztmlhYPnNU/zO0CNp8C5j8+9ZwZ46DTv5YC86as/eO/",
          "dtype": "f8"
         },
         "yaxis": "y"
        },
        {
         "hovertemplate": "HS Section=Textiles & textile articles<br>year=%{x}<br>Percentage points=%{y}<extra></extra>",
         "legendgroup": "Textiles & textile articles",
         "marker": {
          "color": "#19d3f3",
          "pattern": {
           "shape": ""
          }
         },
         "name": "Textiles & textile articles",
         "orientation": "v",
         "showlegend": true,
         "textposition": "auto",
         "type": "bar",
         "x": {
          "bdata": "zgfPB9AH0QfSB9MH1AfVB9YH1wfYB9kH2gfbB9wH3QfeB98H4AfhB+IH4wfkB+UH5gfnB+gH",
          "dtype": "i2"
         },
         "xaxis": "x",
         "y": {
          "bdata": "AAAAAAAA+H9zMYxA5z32vxVtPuSrqgtA9TJxGUGR978E8a37F8YFwDBimx9nIrA/yK3oKVjh5r/kg1fJcvwCwGBV3ASov+O/i0tn8qz94b8k1H9Z5ibSv1hvod0A56+/ixB2DAvbwD90txSPSbGRP2voN8rh3rQ/4L9V48Emib/83cHjU8W5Pz/AgPmTyrW/IoOehylXob9vcaaWnRajv5DDZp2yuqY/sINLzSvtrL9vL2gbiYTmPxlksmFGILa/znIN5rYStb8ZPmSzwenHv8ilD+Uwx5W/",
          "dtype": "f8"
         },
         "yaxis": "y"
        },
        {
         "hovertemplate": "HS Section=Vegetable products<br>year=%{x}<br>Percentage points=%{y}<extra></extra>",
         "legendgroup": "Vegetable products",
         "marker": {
          "color": "#FF6692",
          "pattern": {
           "shape": ""
          }
         },
         "name": "Vegetable products",
         "orientation": "v",
         "showlegend": true,
         "textposition": "auto",
         "type": "bar",
         "x": {
          "bdata": "zgfPB9AH0QfSB9MH1AfVB9YH1wfYB9kH2gfbB9wH3QfeB98H4AfhB+IH4wfkB+UH5gfnB+gH",
          "dtype": "i2"
         },
         "xaxis": "x",
         "y": {
          "bdata": "AAAAAAAA+H82sIT9/sD/vxO+wmq0+AlA7+g+yDAztD/zaoPEOk/Pvz00qc5H0wLAY/Ng1lQs3r8pxhZL5iXyPzjcW1ppi9S/xXCYe6hZ3L+KocYZS+PfP+SGCYSTFLG/aqWKkZ4p5T8E4C6gxj+0v3H010FN4KG/XF9L4FWtAED4QGoTkUXpv825SgCu1cU/Rp0MK1/nub+4lRf47w3Gv/IVod1PG4G/9HMNSWjd0b9t4CNQNOarv3izPYxHDLg/rs120qAlxT/uajs6pL22v56GXOCQj6I/",
          "dtype": "f8"
         },
         "yaxis": "y"
        },
        {
         "hovertemplate": "HS Section=Vehicles, aircraft & vessels<br>year=%{x}<br>Percentage points=%{y}<extra></extra>",
         "legendgroup": "Vehicles, aircraft & vessels",
         "marker": {
          "color": "#B6E880",
          "pattern": {
           "shape": ""
          }
         },
         "name": "Vehicles, aircraft & vessels",
         "orientation": "v",
         "showlegend": true,
         "textposition": "auto",
         "type": "bar",
         "x": {
          "bdata": "zgfPB9AH0QfSB9MH1AfVB9YH1wfYB9kH2gfbB9wH3QfeB98H4AfhB+IH4wfkB+UH5gfnB+gH",
          "dtype": "i2"
         },
         "xaxis": "x",
         "y": {
          "bdata": "AAAAAAAA+H9QBFDGnWzBv7fAipIUrB0/jQWh4etmvD9aPvq+JIbSP8q//hOkStS/A2/s+3Fxjb/XeXvxgGuTv0z+9/Nf67A/dEKL6xAsqb8o5b7rudXfP5yQpGMZxKu/BnkwPz50yb+Zd3HCrhPHP6YWkoiAdpu/Kc6g99EYgr82iH+oeZzXPwqEsDutss0/qAQEbr8E5r+wQK4E3228vwqqHTHwnBNAJA8gl7U99D9V8Hzsdd0SwILQO93Hk/U/lbvkRD2y878vfC9+J2a3P+/vFAbGNb4/",
          "dtype": "f8"
         },
         "yaxis": "y"
        },
        {
         "hovertemplate": "HS Section=Wood, cork & basketwork<br>year=%{x}<br>Percentage points=%{y}<extra></extra>",
         "legendgroup": "Wood, cork & basketwork",
         "marker": {
          "color": "#FF97FF",
          "pattern": {
           "shape": ""
          }
         },
         "name": "Wood, cork & basketwork",
         "orientation": "v",
         "showlegend": true,
         "textposition": "auto",
         "type": "bar",
         "x": {
          "bdata": "zgfPB9AH0QfSB9MH1AfVB9YH1wfYB9kH2gfbB9wH3QfeB98H4AfhB+IH4wfkB+UH5gfnB+gH",
          "dtype": "i2"
         },
         "xaxis": "x",
         "y": {
          "bdata": "AAAAAAAA+H9JFQF0hEidv3ajPIS7LpW/eDPAQgHilz9PUu/f8muXP9S1h4X+K7C/9A9u9ypqiT+qzfwc3cuuP9fNVBCxtKG/3cKWBALvcD/pOtsAxXQ1P3ZLNv6I0Ro/YQMY9CT3dT+8RC4t2uicP8Q/574glqA/boQhgg3rYz+rgweynNiUPzv9iDTKs4i/C/fVqtdejr/gYVgm95myP8LsTAfXCJO/5ZLv6CwZo79hk30rv2eGv3n40kQU+ZM/z79IzDPWcz9ao/LLOfJyvwQVTwf7fHk/",
          "dtype": "f8"
         },
         "yaxis": "y"
        },
        {
         "hovertemplate": "HS Section=Works of art & antiques<br>year=%{x}<br>Percentage points=%{y}<extra></extra>",
         "legendgroup": "Works of art & antiques",
         "marker": {
          "color": "#FECB52",
          "pattern": {
           "shape": ""
          }
         },
         "name": "Works of art & antiques",
         "orientation": "v",
         "showlegend": true,
         "textposition": "auto",
         "type": "bar",
         "x": {
          "bdata": "zgfPB9AH0QfSB9MH1AfVB9YH1wfYB9kH2gfbB9wH3QfeB98H4AfhB+IH4wfkB+UH5gfnB+gH",
          "dtype": "i2"
         },
         "xaxis": "x",
         "y": {
          "bdata": "AAAAAAAA+H/ibWVG9vNlv60EtAbEIEG/2snyjXSemD/jN6Sk88azP3Ljzcw3xba/8zpR3dtMoD/MZNwVDBiPP/dC8+7s8I6/Q+FbcJy/4T84S4EFz2XYv4NIi28JUne/PVtsdsf6cT92MyprIAJxP+5OTXw6CGm/LPwP8yO/hz9zyvc3EiBoPx4/qgARynM/7u1lzKzMuD/U00AMLdvHP5BXw+5XgL2//nfrMJziIz9UOfdhKeBYP2ML3lK4Opk/48y/B2Oahb+Heb8vzP1yv69cfQBNV5G/",
          "dtype": "f8"
         },
         "yaxis": "y"
        }
       ],
       "layout": {
        "barmode": "relative",
        "legend": {
         "title": {
          "text": "HS Section"
         },
         "tracegroupgap": 0
        },
        "template": {
         "data": {
          "bar": [
           {
            "error_x": {
             "color": "#2a3f5f"
            },
            "error_y": {
             "color": "#2a3f5f"
            },
            "marker": {
             "line": {
              "color": "white",
              "width": 0.5
             },
             "pattern": {
              "fillmode": "overlay",
              "size": 10,
              "solidity": 0.2
             }
            },
            "type": "bar"
           }
          ],
          "barpolar": [
           {
            "marker": {
             "line": {
              "color": "white",
              "width": 0.5
             },
             "pattern": {
              "fillmode": "overlay",
              "size": 10,
              "solidity": 0.2
             }
            },
            "type": "barpolar"
           }
          ],
          "carpet": [
           {
            "aaxis": {
             "endlinecolor": "#2a3f5f",
             "gridcolor": "#C8D4E3",
             "linecolor": "#C8D4E3",
             "minorgridcolor": "#C8D4E3",
             "startlinecolor": "#2a3f5f"
            },
            "baxis": {
             "endlinecolor": "#2a3f5f",
             "gridcolor": "#C8D4E3",
             "linecolor": "#C8D4E3",
             "minorgridcolor": "#C8D4E3",
             "startlinecolor": "#2a3f5f"
            },
            "type": "carpet"
           }
          ],
          "choropleth": [
           {
            "colorbar": {
             "outlinewidth": 0,
             "ticks": ""
            },
            "type": "choropleth"
           }
          ],
          "contour": [
           {
            "colorbar": {
             "outlinewidth": 0,
             "ticks": ""
            },
            "colorscale": [
             [
              0,
              "#0d0887"
             ],
             [
              0.1111111111111111,
              "#46039f"
             ],
             [
              0.2222222222222222,
              "#7201a8"
             ],
             [
              0.3333333333333333,
              "#9c179e"
             ],
             [
              0.4444444444444444,
              "#bd3786"
             ],
             [
              0.5555555555555556,
              "#d8576b"
             ],
             [
              0.6666666666666666,
              "#ed7953"
             ],
             [
              0.7777777777777778,
              "#fb9f3a"
             ],
             [
              0.8888888888888888,
              "#fdca26"
             ],
             [
              1,
              "#f0f921"
             ]
            ],
            "type": "contour"
           }
          ],
          "contourcarpet": [
           {
            "colorbar": {
             "outlinewidth": 0,
             "ticks": ""
            },
            "type": "contourcarpet"
           }
          ],
          "heatmap": [
           {
            "colorbar": {
             "outlinewidth": 0,
             "ticks": ""
            },
            "colorscale": [
             [
              0,
              "#0d0887"
             ],
             [
              0.1111111111111111,
              "#46039f"
             ],
             [
              0.2222222222222222,
              "#7201a8"
             ],
             [
              0.3333333333333333,
              "#9c179e"
             ],
             [
              0.4444444444444444,
              "#bd3786"
             ],
             [
              0.5555555555555556,
              "#d8576b"
             ],
             [
              0.6666666666666666,
              "#ed7953"
             ],
             [
              0.7777777777777778,
              "#fb9f3a"
             ],
             [
              0.8888888888888888,
              "#fdca26"
             ],
             [
              1,
              "#f0f921"
             ]
            ],
            "type": "heatmap"
           }
          ],
          "histogram": [
           {
            "marker": {
             "pattern": {
              "fillmode": "overlay",
              "size": 10,
              "solidity": 0.2
             }
            },
            "type": "histogram"
           }
          ],
          "histogram2d": [
           {
            "colorbar": {
             "outlinewidth": 0,
             "ticks": ""
            },
            "colorscale": [
             [
              0,
              "#0d0887"
             ],
             [
              0.1111111111111111,
              "#46039f"
             ],
             [
              0.2222222222222222,
              "#7201a8"
             ],
             [
              0.3333333333333333,
              "#9c179e"
             ],
             [
              0.4444444444444444,
              "#bd3786"
             ],
             [
              0.5555555555555556,
              "#d8576b"
             ],
             [
              0.6666666666666666,
              "#ed7953"
             ],
             [
              0.7777777777777778,
              "#fb9f3a"
             ],
             [
              0.8888888888888888,
              "#fdca26"
             ],
             [
              1,
              "#f0f921"
             ]
            ],
            "type": "histogram2d"
           }
          ],
          "histogram2dcontour": [
           {
            "colorbar": {
             "outlinewidth": 0,
             "ticks": ""
            },
            "colorscale": [
             [
              0,
              "#0d0887"
             ],
             [
              0.1111111111111111,
              "#46039f"
             ],
             [
              0.2222222222222222,
              "#7201a8"
             ],
             [
              0.3333333333333333,
              "#9c179e"
             ],
             [
              0.4444444444444444,
              "#bd3786"
             ],
             [
              0.5555555555555556,
              "#d8576b"
             ],
             [
              0.6666666666666666,
              "#ed7953"
             ],
             [
              0.7777777777777778,
              "#fb9f3a"
             ],
             [
              0.8888888888888888,
              "#fdca26"
             ],
             [
              1,
              "#f0f921"
             ]
            ],
            "type": "histogram2dcontour"
           }
          ],
          "mesh3d": [
           {
            "colorbar": {
             "outlinewidth": 0,
             "ticks": ""
            },
            "type": "mesh3d"
           }
          ],
          "parcoords": [
           {
            "line": {
             "colorbar": {
              "outlinewidth": 0,
              "ticks": ""
             }
            },
            "type": "parcoords"
           }
          ],
          "pie": [
           {
            "automargin": true,
            "type": "pie"
           }
          ],
          "scatter": [
           {
            "fillpattern": {
             "fillmode": "overlay",
             "size": 10,
             "solidity": 0.2
            },
            "type": "scatter"
           }
          ],
          "scatter3d": [
           {
            "line": {
             "colorbar": {
              "outlinewidth": 0,
              "ticks": ""
             }
            },
            "marker": {
             "colorbar": {
              "outlinewidth": 0,
              "ticks": ""
             }
            },
            "type": "scatter3d"
           }
          ],
          "scattercarpet": [
           {
            "marker": {
             "colorbar": {
              "outlinewidth": 0,
              "ticks": ""
             }
            },
            "type": "scattercarpet"
           }
          ],
          "scattergeo": [
           {
            "marker": {
             "colorbar": {
              "outlinewidth": 0,
              "ticks": ""
             }
            },
            "type": "scattergeo"
           }
          ],
          "scattergl": [
           {
            "marker": {
             "colorbar": {
              "outlinewidth": 0,
              "ticks": ""
             }
            },
            "type": "scattergl"
           }
          ],
          "scattermap": [
           {
            "marker": {
             "colorbar": {
              "outlinewidth": 0,
              "ticks": ""
             }
            },
            "type": "scattermap"
           }
          ],
          "scattermapbox": [
           {
            "marker": {
             "colorbar": {
              "outlinewidth": 0,
              "ticks": ""
             }
            },
            "type": "scattermapbox"
           }
          ],
          "scatterpolar": [
           {
            "marker": {
             "colorbar": {
              "outlinewidth": 0,
              "ticks": ""
             }
            },
            "type": "scatterpolar"
           }
          ],
          "scatterpolargl": [
           {
            "marker": {
             "colorbar": {
              "outlinewidth": 0,
              "ticks": ""
             }
            },
            "type": "scatterpolargl"
           }
          ],
          "scatterternary": [
           {
            "marker": {
             "colorbar": {
              "outlinewidth": 0,
              "ticks": ""
             }
            },
            "type": "scatterternary"
           }
          ],
          "surface": [
           {
            "colorbar": {
             "outlinewidth": 0,
             "ticks": ""
            },
            "colorscale": [
             [
              0,
              "#0d0887"
             ],
             [
              0.1111111111111111,
              "#46039f"
             ],
             [
              0.2222222222222222,
              "#7201a8"
             ],
             [
              0.3333333333333333,
              "#9c179e"
             ],
             [
              0.4444444444444444,
              "#bd3786"
             ],
             [
              0.5555555555555556,
              "#d8576b"
             ],
             [
              0.6666666666666666,
              "#ed7953"
             ],
             [
              0.7777777777777778,
              "#fb9f3a"
             ],
             [
              0.8888888888888888,
              "#fdca26"
             ],
             [
              1,
              "#f0f921"
             ]
            ],
            "type": "surface"
           }
          ],
          "table": [
           {
            "cells": {
             "fill": {
              "color": "#EBF0F8"
             },
             "line": {
              "color": "white"
             }
            },
            "header": {
             "fill": {
              "color": "#C8D4E3"
             },
             "line": {
              "color": "white"
             }
            },
            "type": "table"
           }
          ]
         },
         "layout": {
          "annotationdefaults": {
           "arrowcolor": "#2a3f5f",
           "arrowhead": 0,
           "arrowwidth": 1
          },
          "autotypenumbers": "strict",
          "coloraxis": {
           "colorbar": {
            "outlinewidth": 0,
            "ticks": ""
           }
          },
          "colorscale": {
           "diverging": [
            [
             0,
             "#8e0152"
            ],
            [
             0.1,
             "#c51b7d"
            ],
            [
             0.2,
             "#de77ae"
            ],
            [
             0.3,
             "#f1b6da"
            ],
            [
             0.4,
             "#fde0ef"
            ],
            [
             0.5,
             "#f7f7f7"
            ],
            [
             0.6,
             "#e6f5d0"
            ],
            [
             0.7,
             "#b8e186"
            ],
            [
             0.8,
             "#7fbc41"
            ],
            [
             0.9,
             "#4d9221"
            ],
            [
             1,
             "#276419"
            ]
           ],
           "sequential": [
            [
             0,
             "#0d0887"
            ],
            [
             0.1111111111111111,
             "#46039f"
            ],
            [
             0.2222222222222222,
             "#7201a8"
            ],
            [
             0.3333333333333333,
             "#9c179e"
            ],
            [
             0.4444444444444444,
             "#bd3786"
            ],
            [
             0.5555555555555556,
             "#d8576b"
            ],
            [
             0.6666666666666666,
             "#ed7953"
            ],
            [
             0.7777777777777778,
             "#fb9f3a"
            ],
            [
             0.8888888888888888,
             "#fdca26"
            ],
            [
             1,
             "#f0f921"
            ]
           ],
           "sequentialminus": [
            [
             0,
             "#0d0887"
            ],
            [
             0.1111111111111111,
             "#46039f"
            ],
            [
             0.2222222222222222,
             "#7201a8"
            ],
            [
             0.3333333333333333,
             "#9c179e"
            ],
            [
             0.4444444444444444,
             "#bd3786"
            ],
            [
             0.5555555555555556,
             "#d8576b"
            ],
            [
             0.6666666666666666,
             "#ed7953"
            ],
            [
             0.7777777777777778,
             "#fb9f3a"
            ],
            [
             0.8888888888888888,
             "#fdca26"
            ],
            [
             1,
             "#f0f921"
            ]
           ]
          },
          "colorway": [
           "#636efa",
           "#EF553B",
           "#00cc96",
           "#ab63fa",
           "#FFA15A",
           "#19d3f3",
           "#FF6692",
           "#B6E880",
           "#FF97FF",
           "#FECB52"
          ],
          "font": {
           "color": "#2a3f5f"
          },
          "geo": {
           "bgcolor": "white",
           "lakecolor": "white",
           "landcolor": "white",
           "showlakes": true,
           "showland": true,
           "subunitcolor": "#C8D4E3"
          },
          "hoverlabel": {
           "align": "left"
          },
          "hovermode": "closest",
          "mapbox": {
           "style": "light"
          },
          "paper_bgcolor": "white",
          "plot_bgcolor": "white",
          "polar": {
           "angularaxis": {
            "gridcolor": "#EBF0F8",
            "linecolor": "#EBF0F8",
            "ticks": ""
           },
           "bgcolor": "white",
           "radialaxis": {
            "gridcolor": "#EBF0F8",
            "linecolor": "#EBF0F8",
            "ticks": ""
           }
          },
          "scene": {
           "xaxis": {
            "backgroundcolor": "white",
            "gridcolor": "#DFE8F3",
            "gridwidth": 2,
            "linecolor": "#EBF0F8",
            "showbackground": true,
            "ticks": "",
            "zerolinecolor": "#EBF0F8"
           },
           "yaxis": {
            "backgroundcolor": "white",
            "gridcolor": "#DFE8F3",
            "gridwidth": 2,
            "linecolor": "#EBF0F8",
            "showbackground": true,
            "ticks": "",
            "zerolinecolor": "#EBF0F8"
           },
           "zaxis": {
            "backgroundcolor": "white",
            "gridcolor": "#DFE8F3",
            "gridwidth": 2,
            "linecolor": "#EBF0F8",
            "showbackground": true,
            "ticks": "",
            "zerolinecolor": "#EBF0F8"
           }
          },
          "shapedefaults": {
           "line": {
            "color": "#2a3f5f"
           }
          },
          "ternary": {
           "aaxis": {
            "gridcolor": "#DFE8F3",
            "linecolor": "#A2B1C6",
            "ticks": ""
           },
           "baxis": {
            "gridcolor": "#DFE8F3",
            "linecolor": "#A2B1C6",
            "ticks": ""
           },
           "bgcolor": "white",
           "caxis": {
            "gridcolor": "#DFE8F3",
            "linecolor": "#A2B1C6",
            "ticks": ""
           }
          },
          "title": {
           "x": 0.05
          },
          "xaxis": {
           "automargin": true,
           "gridcolor": "#EBF0F8",
           "linecolor": "#EBF0F8",
           "ticks": "",
           "title": {
            "standoff": 15
           },
           "zerolinecolor": "#EBF0F8",
           "zerolinewidth": 2
          },
          "yaxis": {
           "automargin": true,
           "gridcolor": "#EBF0F8",
           "linecolor": "#EBF0F8",
           "ticks": "",
           "title": {
            "standoff": 15
           },
           "zerolinecolor": "#EBF0F8",
           "zerolinewidth": 2
          }
         }
        },
        "title": {
         "text": "Contribution to Non‑Oil Exports YoY Growth by HS Section (pp)"
        },
        "xaxis": {
         "anchor": "y",
         "domain": [
          0,
          1
         ],
         "title": {
          "text": "year"
         }
        },
        "yaxis": {
         "anchor": "x",
         "domain": [
          0,
          1
         ],
         "title": {
          "text": "Percentage points"
         }
        }
       }
      }
     },
     "metadata": {},
     "output_type": "display_data"
    }
   ],
   "source": [
    "\n",
    "import plotly.express as px\n",
    "fig22 = px.bar(contrib_long, x=\"year\", y=\"pp\", color=\"HS Section\",\n",
    "               title=\"Contribution to Non‑Oil Exports YoY Growth by HS Section (pp)\",\n",
    "               labels={\"pp\":\"Percentage points\"})\n",
    "fig22.update_layout(barmode=\"relative\", template=\"plotly_white\")\n",
    "fig22.show()\n"
   ]
  }
 ],
 "metadata": {
  "kernelspec": {
   "display_name": "Python 3",
   "language": "python",
   "name": "python3"
  },
  "language_info": {
   "codemirror_mode": {
    "name": "ipython",
    "version": 3
   },
   "file_extension": ".py",
   "mimetype": "text/x-python",
   "name": "python",
   "nbconvert_exporter": "python",
   "pygments_lexer": "ipython3",
   "version": "3.13.2"
  }
 },
 "nbformat": 4,
 "nbformat_minor": 5
}
